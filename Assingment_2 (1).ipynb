{
 "cells": [
  {
   "cell_type": "markdown",
   "id": "21354ea3-3566-413c-875a-5420e635ec2e",
   "metadata": {
    "tags": []
   },
   "source": [
    "# 1. Explain the importance of Functions."
   ]
  },
  {
   "cell_type": "markdown",
   "id": "4c16699b-565c-48af-835d-dd9c8d4556b1",
   "metadata": {},
   "source": [
    "Ans.\n",
    "1. A large problem in programming can be divided into sub-problems using functions.\n",
    "2. It makes the code optimized, we don't need to write much code\n",
    "3. It increases the efficiency of the program by making it reusable.\n",
    "4. Makes the program shorter comparatively.\n",
    "5. The useful functions can be combined in a library."
   ]
  },
  {
   "cell_type": "markdown",
   "id": "ac53c4d2-dc03-4363-af15-ad11df4e9990",
   "metadata": {},
   "source": [
    "# 2. Write a basic function to greet students."
   ]
  },
  {
   "cell_type": "code",
   "execution_count": null,
   "id": "7f1eec95-3f53-44b0-9591-1d414b3b1793",
   "metadata": {},
   "outputs": [],
   "source": [
    "def greet():\n",
    "    print(\"Hello Students!\")\n",
    "    \n",
    "greet()"
   ]
  },
  {
   "cell_type": "markdown",
   "id": "122b7fa3-bd15-4e96-9c1e-eff52cc88512",
   "metadata": {},
   "source": [
    "# 3. What is the difference between print and return statements."
   ]
  },
  {
   "cell_type": "markdown",
   "id": "250b8ac5-e85a-4d1f-aabd-9d03ec1185f8",
   "metadata": {},
   "source": [
    "Ans.\n",
    "The print statement prints out the output on the screen whereas a return statement returns a value to the variable."
   ]
  },
  {
   "cell_type": "markdown",
   "id": "b6a8c6d7-6f58-43c4-bdb8-171c1cb763ec",
   "metadata": {},
   "source": [
    "# 4. What are *args and **kwargs?"
   ]
  },
  {
   "cell_type": "markdown",
   "id": "375acd87-318d-4167-a36f-54eea825bd08",
   "metadata": {},
   "source": [
    "Ans.\n",
    "*args:- The special syntax *args in function definitions in Python is used to pass a variable number of arguments to a function. It is used to pass a non-keyworded, variable-length argument list. \n",
    "**kwargs:- The special syntax **kwargs in function definitions in Python is used to pass a keyworded, variable-length argument list. We use the name kwargs with the double star. The reason is that the double star allows us to pass through keyword arguments (and any number of them)."
   ]
  },
  {
   "cell_type": "markdown",
   "id": "9b7a85c2-6774-44a0-b314-5ffafac64c35",
   "metadata": {},
   "source": [
    "# 5. Explain the iterator function"
   ]
  },
  {
   "cell_type": "markdown",
   "id": "29151a68-12f4-4a0d-ae03-7e662d10f805",
   "metadata": {},
   "source": [
    "Ans. The basic task of the iterator function is that when it is called it will generate the next value of an iterable function. "
   ]
  },
  {
   "cell_type": "markdown",
   "id": "5d36d1e3-e3ae-4391-aa82-66d952342145",
   "metadata": {},
   "source": [
    "# 6. Write a code that generates the squares of numbers from 1 to n using a generator."
   ]
  },
  {
   "cell_type": "code",
   "execution_count": null,
   "id": "3591777a-5819-4814-adfd-2669382ad7d1",
   "metadata": {},
   "outputs": [
    {
     "data": {
      "text/plain": [
       "0"
      ]
     },
     "execution_count": 27,
     "metadata": {},
     "output_type": "execute_result"
    }
   ],
   "source": [
    "def gen_square(x):\n",
    "    for i in range(x):\n",
    "        yield i**2\n",
    "    \n",
    "gen = gen_square(4)\n",
    "\n",
    "gen\n",
    "next(gen)"
   ]
  },
  {
   "cell_type": "code",
   "execution_count": null,
   "id": "2dc3ca8d-4bef-4ea0-ae97-321b899452ba",
   "metadata": {},
   "outputs": [
    {
     "data": {
      "text/plain": [
       "1"
      ]
     },
     "execution_count": 28,
     "metadata": {},
     "output_type": "execute_result"
    }
   ],
   "source": [
    "next(gen)"
   ]
  },
  {
   "cell_type": "code",
   "execution_count": null,
   "id": "fe14c4fd-176c-4a51-9b86-7efc50b62cbe",
   "metadata": {},
   "outputs": [
    {
     "data": {
      "text/plain": [
       "4"
      ]
     },
     "execution_count": 29,
     "metadata": {},
     "output_type": "execute_result"
    }
   ],
   "source": [
    "next(gen)"
   ]
  },
  {
   "cell_type": "code",
   "execution_count": null,
   "id": "8cbf281a-2742-43cd-ad6e-2770851fbd50",
   "metadata": {},
   "outputs": [
    {
     "data": {
      "text/plain": [
       "9"
      ]
     },
     "execution_count": 30,
     "metadata": {},
     "output_type": "execute_result"
    }
   ],
   "source": [
    "next(gen)"
   ]
  },
  {
   "cell_type": "markdown",
   "id": "b4d21f01-a206-47f4-9417-2dd37c858cfb",
   "metadata": {},
   "source": [
    "# 7. Write a code that generates palindromic numbers up to n using a generator."
   ]
  },
  {
   "cell_type": "code",
   "execution_count": null,
   "id": "f80d7f1e-3e9f-4384-8a29-9dbd33073914",
   "metadata": {},
   "outputs": [
    {
     "data": {
      "text/plain": [
       "0"
      ]
     },
     "execution_count": 31,
     "metadata": {},
     "output_type": "execute_result"
    }
   ],
   "source": [
    "def is_pal(s):\n",
    "    if s==s[::-1]:\n",
    "        return True\n",
    "\n",
    "def gen_pal(x):\n",
    "    pal_list = []\n",
    "    for i in range(x):\n",
    "        if is_pal(str(i)):\n",
    "            yield i\n",
    "    \n",
    "gen2 = gen_pal(143)\n",
    "next(gen2)"
   ]
  },
  {
   "cell_type": "code",
   "execution_count": null,
   "id": "a22ad478-51bb-42ed-bfb3-7e76ef8699a4",
   "metadata": {},
   "outputs": [
    {
     "data": {
      "text/plain": [
       "1"
      ]
     },
     "execution_count": 32,
     "metadata": {},
     "output_type": "execute_result"
    }
   ],
   "source": [
    "next(gen2)"
   ]
  },
  {
   "cell_type": "code",
   "execution_count": null,
   "id": "3b401b87-0175-4d15-9e08-7c4fa01f202f",
   "metadata": {},
   "outputs": [
    {
     "data": {
      "text/plain": [
       "2"
      ]
     },
     "execution_count": 33,
     "metadata": {},
     "output_type": "execute_result"
    }
   ],
   "source": [
    "next(gen2)"
   ]
  },
  {
   "cell_type": "code",
   "execution_count": null,
   "id": "1383a89c-a14c-4fcd-ad39-1496bae257ee",
   "metadata": {},
   "outputs": [
    {
     "data": {
      "text/plain": [
       "3"
      ]
     },
     "execution_count": 34,
     "metadata": {},
     "output_type": "execute_result"
    }
   ],
   "source": [
    "next(gen2)"
   ]
  },
  {
   "cell_type": "code",
   "execution_count": null,
   "id": "e4a02e14-681c-4703-b71d-c79e8e82283a",
   "metadata": {},
   "outputs": [
    {
     "data": {
      "text/plain": [
       "4"
      ]
     },
     "execution_count": 35,
     "metadata": {},
     "output_type": "execute_result"
    }
   ],
   "source": [
    "next(gen2)"
   ]
  },
  {
   "cell_type": "markdown",
   "id": "32b714ce-ad40-4680-86f0-89a014485288",
   "metadata": {},
   "source": [
    "# 8. Write a code that generates even numbers from 2 to n using a generator."
   ]
  },
  {
   "cell_type": "code",
   "execution_count": null,
   "id": "191c9105-8f3d-498d-8159-7bc3fb7d50cd",
   "metadata": {},
   "outputs": [
    {
     "data": {
      "text/plain": [
       "2"
      ]
     },
     "execution_count": 36,
     "metadata": {},
     "output_type": "execute_result"
    }
   ],
   "source": [
    "def gen_even(x):\n",
    "    for i in range(2,x):\n",
    "        if i%2==0:\n",
    "            yield i\n",
    "gen3 = gen_even(7)\n",
    "next(gen3)"
   ]
  },
  {
   "cell_type": "code",
   "execution_count": null,
   "id": "d1abcb18-d3d5-43ec-832d-b8dece95b103",
   "metadata": {},
   "outputs": [
    {
     "data": {
      "text/plain": [
       "4"
      ]
     },
     "execution_count": 37,
     "metadata": {},
     "output_type": "execute_result"
    }
   ],
   "source": [
    "next(gen3)"
   ]
  },
  {
   "cell_type": "code",
   "execution_count": null,
   "id": "3457fa2e-18f2-4736-aa27-effbb5baec81",
   "metadata": {},
   "outputs": [
    {
     "data": {
      "text/plain": [
       "6"
      ]
     },
     "execution_count": 38,
     "metadata": {},
     "output_type": "execute_result"
    }
   ],
   "source": [
    "next(gen3)"
   ]
  },
  {
   "cell_type": "markdown",
   "id": "4d670e37-329f-429f-ab0d-15ea976a0d8d",
   "metadata": {},
   "source": [
    "# 9. Write a code that generates powers of two up to n using a generator."
   ]
  },
  {
   "cell_type": "code",
   "execution_count": null,
   "id": "104330f4-1f17-4462-95f4-113467b88035",
   "metadata": {},
   "outputs": [
    {
     "data": {
      "text/plain": [
       "1"
      ]
     },
     "execution_count": 39,
     "metadata": {},
     "output_type": "execute_result"
    }
   ],
   "source": [
    "def gen_poweroftwo(x):\n",
    "    for i in range(x):\n",
    "        yield 2**i\n",
    "        \n",
    "gen4 = gen_poweroftwo(4)\n",
    "next(gen4)"
   ]
  },
  {
   "cell_type": "code",
   "execution_count": null,
   "id": "2549b1a0-3adc-40bb-a671-f6fab9fec5f1",
   "metadata": {},
   "outputs": [
    {
     "data": {
      "text/plain": [
       "2"
      ]
     },
     "execution_count": 40,
     "metadata": {},
     "output_type": "execute_result"
    }
   ],
   "source": [
    "next(gen4)"
   ]
  },
  {
   "cell_type": "code",
   "execution_count": null,
   "id": "22b0ab15-6387-4f75-8bdd-6b4be85b4411",
   "metadata": {},
   "outputs": [
    {
     "data": {
      "text/plain": [
       "4"
      ]
     },
     "execution_count": 41,
     "metadata": {},
     "output_type": "execute_result"
    }
   ],
   "source": [
    "next(gen4)"
   ]
  },
  {
   "cell_type": "code",
   "execution_count": null,
   "id": "920891f9-c1d5-48c7-b16f-64840ce1db73",
   "metadata": {},
   "outputs": [
    {
     "data": {
      "text/plain": [
       "8"
      ]
     },
     "execution_count": 42,
     "metadata": {},
     "output_type": "execute_result"
    }
   ],
   "source": [
    "next(gen4)"
   ]
  },
  {
   "cell_type": "markdown",
   "id": "4c0ac6e3-e181-4809-8bf3-e855579386fe",
   "metadata": {},
   "source": [
    "# 10. Write a code that generates prime numbers up to n using a generator."
   ]
  },
  {
   "cell_type": "code",
   "execution_count": 49,
   "id": "3a6bf9ee-08b5-46d4-9d9c-5eac0c900367",
   "metadata": {},
   "outputs": [
    {
     "data": {
      "text/plain": [
       "6"
      ]
     },
     "execution_count": 49,
     "metadata": {},
     "output_type": "execute_result"
    }
   ],
   "source": [
    "def is_prime(a):\n",
    "    if a==2:\n",
    "        return False\n",
    "    for i in range(2,a//2):\n",
    "        if a%i==0:\n",
    "            return True\n",
    "def gen_prime(x):\n",
    "    for i in range(1,x):\n",
    "        if is_prime(i):\n",
    "            yield i\n",
    "            \n",
    "gen5 = gen_prime(8)\n",
    "next(gen5)"
   ]
  },
  {
   "cell_type": "markdown",
   "id": "6c45f44b-0c27-49ba-80ec-3f12f4d678d7",
   "metadata": {},
   "source": [
    "# 11.Write a code that uses a lambda function to calculate the sum of two numbers."
   ]
  },
  {
   "cell_type": "code",
   "execution_count": 50,
   "id": "65ed533d-aec5-4e29-8bae-9e66e82c0156",
   "metadata": {},
   "outputs": [
    {
     "data": {
      "text/plain": [
       "[12]"
      ]
     },
     "execution_count": 50,
     "metadata": {},
     "output_type": "execute_result"
    }
   ],
   "source": [
    "x = lambda a,b: a+b\n",
    "[x(9,3)]"
   ]
  },
  {
   "cell_type": "markdown",
   "id": "35f70661-64c9-4069-9108-aa4e2e7c0256",
   "metadata": {},
   "source": [
    "# 12. Write a code that uses a lambda function to calculate the square of a given number."
   ]
  },
  {
   "cell_type": "code",
   "execution_count": 51,
   "id": "6066957a-74c5-46a5-b36c-74c1ae0499df",
   "metadata": {},
   "outputs": [
    {
     "data": {
      "text/plain": [
       "[36]"
      ]
     },
     "execution_count": 51,
     "metadata": {},
     "output_type": "execute_result"
    }
   ],
   "source": [
    "sq = lambda x: x**2\n",
    "[sq(6)]"
   ]
  },
  {
   "cell_type": "markdown",
   "id": "b42cf62e-81c2-4e1f-9f1c-f83698197763",
   "metadata": {},
   "source": [
    "# 13. Write a code that uses a lambda function to check whether the given number is even or odd."
   ]
  },
  {
   "cell_type": "code",
   "execution_count": 52,
   "id": "2839478e-3be7-43b1-9bb3-1073235b8eff",
   "metadata": {},
   "outputs": [
    {
     "data": {
      "text/plain": [
       "[True]"
      ]
     },
     "execution_count": 52,
     "metadata": {},
     "output_type": "execute_result"
    }
   ],
   "source": [
    "is_even = lambda x: x%2==0\n",
    "[is_even(8)]"
   ]
  },
  {
   "cell_type": "markdown",
   "id": "0fa84f77-6079-437e-9fc0-8746626f9d90",
   "metadata": {},
   "source": [
    "# 15. Write a code that uses a lambda function to concatenate two strings."
   ]
  },
  {
   "cell_type": "code",
   "execution_count": 53,
   "id": "829cdacb-3231-4205-b200-0c41029097b6",
   "metadata": {},
   "outputs": [
    {
     "data": {
      "text/plain": [
       "['GoodMorning']"
      ]
     },
     "execution_count": 53,
     "metadata": {},
     "output_type": "execute_result"
    }
   ],
   "source": [
    "concat_str = lambda s1,s2: s1+s2\n",
    "[concat_str(\"Good\",\"Morning\")]"
   ]
  },
  {
   "cell_type": "markdown",
   "id": "4924d6df-b14a-407d-b1e6-98ac5852d8c9",
   "metadata": {},
   "source": [
    "# 16. Write a code that uses a lambda function to finc the maximum of three given numbers."
   ]
  },
  {
   "cell_type": "code",
   "execution_count": 54,
   "id": "4e23f023-cb0d-4389-af66-271e3bba3fc6",
   "metadata": {},
   "outputs": [
    {
     "data": {
      "text/plain": [
       "[6]"
      ]
     },
     "execution_count": 54,
     "metadata": {},
     "output_type": "execute_result"
    }
   ],
   "source": [
    "max_num = lambda a,b,c: max(a,b,c)\n",
    "[max_num(5,6,3)]"
   ]
  },
  {
   "cell_type": "markdown",
   "id": "d0bd3493-855a-46f9-8cdb-e4859621bf20",
   "metadata": {},
   "source": [
    "# 17. Write the code that generates the squares of even numbers from a given list."
   ]
  },
  {
   "cell_type": "code",
   "execution_count": 55,
   "id": "56b44fb2-89e3-47a4-b7b2-321f06f3cab3",
   "metadata": {},
   "outputs": [
    {
     "data": {
      "text/plain": [
       "[16, 36, 64]"
      ]
     },
     "execution_count": 55,
     "metadata": {},
     "output_type": "execute_result"
    }
   ],
   "source": [
    "even_num = []\n",
    "num_list=[3,4,5,6,7,8,9,11]\n",
    "for i in num_list:\n",
    "    if is_even(i):\n",
    "        even_num.append(i)\n",
    "list(map(lambda x: x**2, even_num))"
   ]
  },
  {
   "cell_type": "markdown",
   "id": "b44fad45-a795-4abc-9ffb-e65a595e333d",
   "metadata": {},
   "source": [
    "# 18. Write a code that calculates the products of positive numbers from a given list."
   ]
  },
  {
   "cell_type": "code",
   "execution_count": 56,
   "id": "ecb068f2-dcb1-4b17-b496-596586c288b5",
   "metadata": {},
   "outputs": [
    {
     "name": "stdout",
     "output_type": "stream",
     "text": [
      "[3, 5, 8, 6, 2]\n"
     ]
    },
    {
     "data": {
      "text/plain": [
       "[1440]"
      ]
     },
     "execution_count": 56,
     "metadata": {},
     "output_type": "execute_result"
    }
   ],
   "source": [
    "num = [-9,3,5,8,-8,6,-2,2,-5]\n",
    "def prod(l):\n",
    "    temp = []\n",
    "    for i in l:\n",
    "        if i>=0:\n",
    "            temp.append(i)\n",
    "    print(temp)\n",
    "    cnt = temp[0]\n",
    "    for i in temp[1:]:\n",
    "        cnt*=i\n",
    "    return cnt\n",
    "[prod(num)]"
   ]
  },
  {
   "cell_type": "markdown",
   "id": "50cab469-5d59-4e4f-84ac-989af6d142ac",
   "metadata": {},
   "source": [
    "# 19. Write a code that doubles the values of odd numbers from a given list."
   ]
  },
  {
   "cell_type": "code",
   "execution_count": 57,
   "id": "2b6f73f0-7ce8-4fd6-a4a3-f3db1538f7f2",
   "metadata": {},
   "outputs": [
    {
     "data": {
      "text/plain": [
       "[6, None, 10, None, 14, None, 18, 22]"
      ]
     },
     "execution_count": 57,
     "metadata": {},
     "output_type": "execute_result"
    }
   ],
   "source": [
    "def double_odd(x):\n",
    "    if not is_even(x):\n",
    "        return 2*x\n",
    "    \n",
    "list(map(double_odd,num_list))"
   ]
  },
  {
   "cell_type": "markdown",
   "id": "e42c0e55-cd7a-44e7-96cb-9b58f2b38b37",
   "metadata": {},
   "source": [
    "# 20. Write a code that calculates the sum of cubes of numbers from a given list."
   ]
  },
  {
   "cell_type": "code",
   "execution_count": 58,
   "id": "61cdf048-763f-428b-9518-870bdd0807d9",
   "metadata": {},
   "outputs": [
    {
     "data": {
      "text/plain": [
       "3347"
      ]
     },
     "execution_count": 58,
     "metadata": {},
     "output_type": "execute_result"
    }
   ],
   "source": [
    "sum(list(map(lambda x: x**3,num_list)))"
   ]
  },
  {
   "cell_type": "markdown",
   "id": "6586c3b0-0a70-45e6-89af-79afa5359921",
   "metadata": {},
   "source": [
    "# 21. Write a code that filters out the prime number from a given list."
   ]
  },
  {
   "cell_type": "code",
   "execution_count": 59,
   "id": "91679aa7-a4fb-4391-a604-098efbb98495",
   "metadata": {},
   "outputs": [
    {
     "data": {
      "text/plain": [
       "[[17, 73, 75, 89, 91]]"
      ]
     },
     "execution_count": 59,
     "metadata": {},
     "output_type": "execute_result"
    }
   ],
   "source": [
    "def filter_prime(l):\n",
    "    res = []\n",
    "    for i in l:\n",
    "        if is_prime(i):\n",
    "            res.append(i)\n",
    "    return res\n",
    "\n",
    "def is_prime(p):\n",
    "    if p<2:\n",
    "        return False\n",
    "    else:\n",
    "        for i in range(2,p):\n",
    "            if p%i==0:\n",
    "                return False\n",
    "            return True\n",
    "\n",
    "    \n",
    "[filter_prime([17,73,4,2,6,34,75,89,91])]         "
   ]
  },
  {
   "cell_type": "markdown",
   "id": "ddebae91-4bab-4a86-b565-25dcfa8f7255",
   "metadata": {},
   "source": [
    "# 22. Write a code that uses a lambda function to calculate the sum of two numbers."
   ]
  },
  {
   "cell_type": "code",
   "execution_count": 60,
   "id": "baf00673-32e9-4995-a753-4acda40ad824",
   "metadata": {},
   "outputs": [
    {
     "data": {
      "text/plain": [
       "[7]"
      ]
     },
     "execution_count": 60,
     "metadata": {},
     "output_type": "execute_result"
    }
   ],
   "source": [
    "sum_lambda = lambda x,y:x+y\n",
    "[sum_lambda(3,4)]"
   ]
  },
  {
   "cell_type": "markdown",
   "id": "0fdf16cb-1f19-4e63-a4dc-3e83684f55ef",
   "metadata": {},
   "source": [
    "# 23. Write a code that uses a lambda function to calculate the square of a given number."
   ]
  },
  {
   "cell_type": "code",
   "execution_count": 61,
   "id": "e4db00bf-e4b5-44fe-8a8e-143a4e09c986",
   "metadata": {},
   "outputs": [
    {
     "data": {
      "text/plain": [
       "[36]"
      ]
     },
     "execution_count": 61,
     "metadata": {},
     "output_type": "execute_result"
    }
   ],
   "source": [
    "sq = lambda x: x**2\n",
    "[sq(6)]"
   ]
  },
  {
   "cell_type": "markdown",
   "id": "31a68839-5b4d-4718-8556-cd9f6adc245d",
   "metadata": {},
   "source": [
    "# 24. Write a code that uses a lambda function to check whether a number is even or odd.\n"
   ]
  },
  {
   "cell_type": "code",
   "execution_count": 62,
   "id": "c2e295a7-d624-4bc3-807a-7de8ef2d13a8",
   "metadata": {},
   "outputs": [
    {
     "data": {
      "text/plain": [
       "[True]"
      ]
     },
     "execution_count": 62,
     "metadata": {},
     "output_type": "execute_result"
    }
   ],
   "source": [
    "is_even = lambda x: x%2==0\n",
    "[is_even(8)]"
   ]
  },
  {
   "cell_type": "markdown",
   "id": "ee969047-44c1-4ee8-bf5f-320e7ede65a4",
   "metadata": {},
   "source": [
    "# 25. Write a code that uses a lambda function to concatenate two strings."
   ]
  },
  {
   "cell_type": "code",
   "execution_count": 63,
   "id": "eb734beb-f475-4afc-87ff-69b77f6202cd",
   "metadata": {},
   "outputs": [
    {
     "data": {
      "text/plain": [
       "['GoodMorning']"
      ]
     },
     "execution_count": 63,
     "metadata": {},
     "output_type": "execute_result"
    }
   ],
   "source": [
    "concat_str = lambda s1,s2: s1+s2\n",
    "[concat_str(\"Good\",\"Morning\")]"
   ]
  },
  {
   "cell_type": "markdown",
   "id": "034a61ca-e4b1-4850-99c3-758af8eeff72",
   "metadata": {},
   "source": [
    "# 26. Write a code that uses a lambda function to find the maximum of three given numbers."
   ]
  },
  {
   "cell_type": "code",
   "execution_count": 64,
   "id": "4ee696cc-9a70-4fac-908a-72d8ba114d43",
   "metadata": {},
   "outputs": [
    {
     "data": {
      "text/plain": [
       "[6]"
      ]
     },
     "execution_count": 64,
     "metadata": {},
     "output_type": "execute_result"
    }
   ],
   "source": [
    "max_num = lambda a,b,c: max(a,b,c)\n",
    "[max_num(5,6,3)]"
   ]
  },
  {
   "cell_type": "markdown",
   "id": "64fe7a1b-0d51-4618-90ca-eb21e07020d0",
   "metadata": {},
   "source": [
    "# 27. What is encapsulation in OOP?"
   ]
  },
  {
   "cell_type": "markdown",
   "id": "1dcf2efc-2061-435e-8a84-e39235725632",
   "metadata": {},
   "source": [
    "Ans. Encapsulation is bundling data and methods that work on that data within one unit, like a class in python. We often often use this concept to hide an object’s internal representation or state from the outside. This is called information hiding.\n",
    "This puts restrictions on accessing variables and methods directly and can prevent the accidental modification of data. To prevent accidental change, an object’s variable can only be changed by an object’s method. Those types of variables are known as private variables."
   ]
  },
  {
   "cell_type": "markdown",
   "id": "9f67ac42-437e-4070-a3bc-453e76c6a18b",
   "metadata": {},
   "source": [
    "# 28. Explain the use of access modifiers in Python classes."
   ]
  },
  {
   "cell_type": "markdown",
   "id": "16d18e14-6fcb-4b83-bbff-832a788eafda",
   "metadata": {},
   "source": [
    "Ans. Access modifiers are the keywords in python to define the accessibility and control of data members of the class.Followinf are the three access modifiers/specifiers in python:\n",
    "1. Public - The members defined in the public class can be accessed from anywhere.\n",
    "2. Protected - The members defined in the protected class can only be accessed from within the class in which they are declared and by its subclasses. \n",
    "3. Private - The members defined in the private class can only be accessed by class members."
   ]
  },
  {
   "cell_type": "markdown",
   "id": "4fa361f7-8148-4cfa-b28d-30cdeaadfe92",
   "metadata": {},
   "source": [
    "# 29. What is inheritance in OOP."
   ]
  },
  {
   "cell_type": "markdown",
   "id": "205539c8-4190-4523-ba49-0ae35785c7d6",
   "metadata": {},
   "source": [
    "Ans. The method of inheriting the properties of one class into another is known as inheritance.The class in which the properties are being inherited/copied is known as the child class and from the class it is getting inherited is known as the parent class. There are basically five types of inheritance in OOP such as:\n",
    "1. Single Inheritance: Single inheritance enables a derived class to inherit properties from a single parent class, thus enabling code reusability and the addition of new features to existing code.\n",
    "2. Multiple Inheritance: When a class can be derived from more than one base class this type of inheritance is called multiple inheritances. In multiple inheritances, all the features of the base classes are inherited into the derived class. \n",
    "3. Multilevel Inheritance: In multilevel inheritance, features of the base class and the derived class are further inherited into the new derived class. This is similar to a relationship representing a child and a grandfather. \n",
    "4. Hierarchical Inheritance: When more than one derived class are created from a single base this type of inheritance is called hierarchical inheritance. In this program, we have a parent (base) class and two child (derived) classes.\n",
    "5. Hybrid Inheritance: Inheritance consisting of multiple types of inheritance is called hybrid inheritance."
   ]
  },
  {
   "cell_type": "markdown",
   "id": "9b8cc444-6288-4e4b-8079-63ea6f4c1db4",
   "metadata": {},
   "source": [
    "# 30. Define polymorphism in OOP."
   ]
  },
  {
   "cell_type": "markdown",
   "id": "fa4897d0-bce0-4bc6-8a0a-4c21bcc594fe",
   "metadata": {},
   "source": [
    "Ans. Polymorphism allows objects of different classes to be treated as objects of a common superclass or interface.\n",
    "It enables flexibility and extensibility in the design and usage of objects."
   ]
  },
  {
   "cell_type": "markdown",
   "id": "12811e1d-55dd-47dc-84c1-e321c6d19e01",
   "metadata": {},
   "source": [
    "# 31. Explain method overriding in Python."
   ]
  },
  {
   "cell_type": "markdown",
   "id": "af29c087-97d9-40c1-8bd8-8333594dc1df",
   "metadata": {},
   "source": [
    "Ans. Method overriding occurs when a subclass provides its own implementation for a method that is already defined in its superclass.\n",
    "The overridden method in the subclass has the same name and signature (i.e., the same parameters) as the method in the superclass.\n",
    "When an object of the subclass calls the overridden method, the subclass’s implementation takes precedence over the superclass’s implementation."
   ]
  },
  {
   "cell_type": "markdown",
   "id": "99de9b20-0af0-44a9-bf84-43cdbd5641d1",
   "metadata": {},
   "source": [
    "# 32. Define a parent class Animal with a method make_sound that prints\"Generic animal sound\". Create a child class Dog inheriting from Animal with a method make_sound that prints \"Woof!\"."
   ]
  },
  {
   "cell_type": "code",
   "execution_count": 65,
   "id": "bfa2b565-d7ed-4e7f-83af-411a999419d7",
   "metadata": {},
   "outputs": [
    {
     "name": "stdout",
     "output_type": "stream",
     "text": [
      "Woof!\n"
     ]
    }
   ],
   "source": [
    "class Animal:\n",
    "    def make_sound(self):\n",
    "        print(\"Generic animal sound\")\n",
    "class Dog(Animal):\n",
    "    def make_sound(self):\n",
    "        print(\"Woof!\")\n",
    "\n",
    "d = Dog()\n",
    "\n",
    "d.make_sound()"
   ]
  },
  {
   "cell_type": "markdown",
   "id": "eac4145c-7834-4787-9bac-7787c6bf3aa7",
   "metadata": {},
   "source": [
    "# 33. Define a method move in the animal class that prints \"Animal moves\". Override the move method in the Dog class to print \"Dog runs\"."
   ]
  },
  {
   "cell_type": "code",
   "execution_count": 66,
   "id": "b8f48051-7579-4a84-94a5-d25edb96921e",
   "metadata": {},
   "outputs": [
    {
     "name": "stdout",
     "output_type": "stream",
     "text": [
      "This is a dig\n",
      "Dog runs\n"
     ]
    }
   ],
   "source": [
    "\n",
    "class Animal:\n",
    "    def move(self):\n",
    "        print(\"Animal moves.\")\n",
    "class Dog(Animal):\n",
    "    def __init__(self):\n",
    "        print(\"This is a dig\")\n",
    "    def move(self):\n",
    "        print(\"Dog runs\")\n",
    "    \n",
    "d = Dog()\n",
    "d.move()"
   ]
  },
  {
   "cell_type": "markdown",
   "id": "aec7c0e1-edda-49ce-ae8e-b47d844b7c4c",
   "metadata": {},
   "source": [
    "# 34. Create a class Mammal with a method reproduce that prints \"Giving birth is live young.\" Create a class DogMammal inheriting from both Dog and Mammal."
   ]
  },
  {
   "cell_type": "code",
   "execution_count": 67,
   "id": "5a398adb-9995-49e2-8b2d-0416036062ad",
   "metadata": {},
   "outputs": [
    {
     "name": "stdout",
     "output_type": "stream",
     "text": [
      "This is a dog mammal.\n",
      "Giving birth is live young.\n"
     ]
    },
    {
     "data": {
      "text/plain": [
       "[None]"
      ]
     },
     "execution_count": 67,
     "metadata": {},
     "output_type": "execute_result"
    }
   ],
   "source": [
    "class Mammal:\n",
    "    def __init__(self):\n",
    "        print(\"This is a mammal.\")\n",
    "    def reproduce(self):\n",
    "        print(\"Giving birth is live young.\")\n",
    "class DogMammal(Dog,Mammal):\n",
    "    def __init__(self):\n",
    "        print(\"This is a dog mammal.\")\n",
    "x = DogMammal()\n",
    "[x.reproduce()]"
   ]
  },
  {
   "cell_type": "markdown",
   "id": "416ef7a5-ccbe-4ea0-98e6-f8f53910a3fc",
   "metadata": {},
   "source": [
    "# 35. Create a class German shepherd inheriting from Dog and override the make_sound method to print \"Bark!\""
   ]
  },
  {
   "cell_type": "code",
   "execution_count": 68,
   "id": "d2c9467f-a5c7-42fb-a5d5-b5d5cf4821eb",
   "metadata": {},
   "outputs": [
    {
     "name": "stdout",
     "output_type": "stream",
     "text": [
      "I am a German Shepherd.\n",
      "Bark!\n"
     ]
    }
   ],
   "source": [
    "class GermanShepherd(Dog):\n",
    "    def __init__(self):\n",
    "        print(\"I am a German Shepherd.\")\n",
    "    def make_sound(self):\n",
    "        print(\"Bark!\")\n",
    "        \n",
    "d = GermanShepherd()\n",
    "d.make_sound()"
   ]
  },
  {
   "cell_type": "markdown",
   "id": "29a4f5b0-e573-48fb-be28-cf63a9a4de29",
   "metadata": {},
   "source": [
    "# 36. Define constructors in both the animal and dog classes with different initialisation parameters."
   ]
  },
  {
   "cell_type": "code",
   "execution_count": 69,
   "id": "741e244b-4664-46cb-b8be-99969e46b881",
   "metadata": {},
   "outputs": [
    {
     "name": "stdout",
     "output_type": "stream",
     "text": [
      "I am a dog.\n",
      "My name is Google, I am a Male Pug.\n"
     ]
    }
   ],
   "source": [
    "class animal:\n",
    "    def __init__(self,kind,place):\n",
    "        self.kind = kind\n",
    "        self.place = place\n",
    "        \n",
    "class dog(animal):\n",
    "    def __init__(self,name,gender,breed):\n",
    "        self.name = name\n",
    "        self.gender = gender\n",
    "        self.breed = breed\n",
    "        print(\"I am a dog.\")\n",
    "    \n",
    "    def func_d(self):\n",
    "        print(f\"My name is {self.name}, I am a {self.gender} {self.breed}.\")\n",
    "\n",
    "a = dog(\"Google\",\"Male\",\"Pug\")\n",
    "a.func_d()"
   ]
  },
  {
   "cell_type": "markdown",
   "id": "99b19cca-d96f-44c0-9bde-e8c910abbcdc",
   "metadata": {},
   "source": [
    "# 37. What is abstraction in Python? How is it implemented?"
   ]
  },
  {
   "cell_type": "markdown",
   "id": "5aacbfde-bd6c-4d04-a474-0dac12af66b6",
   "metadata": {},
   "source": [
    "Ans. Abstraction is a fundamental concept in object-oriented programming (OOP) that simplifies complex systems by hiding unnecessary details from the user. It allows developers to focus on essential features and behaviors of an object while ignoring low-level implementation specifics.\n",
    "In OOP, abstraction is implemented through:\n",
    "Abstract Classes: These define a blueprint for other classes to inherit from. They cannot be instantiated directly but serve as a foundation for creating concrete classes.\n",
    "Interfaces: These specify a contract that concrete classes must adhere to. They define method signatures without providing implementations."
   ]
  },
  {
   "cell_type": "markdown",
   "id": "9f892f39-b23a-4b91-a7bd-f65a2abfbee5",
   "metadata": {},
   "source": [
    "# 38. Explain the importance of abstraction in object-oriented programming."
   ]
  },
  {
   "cell_type": "markdown",
   "id": "c72b1151-0598-4392-9b89-7ed5aaed22fc",
   "metadata": {},
   "source": [
    "Ans. Importance of Abstraction:\n",
    "Modularity: Abstraction makes it easier to design modular code. Each module (class or function) encapsulates specific functionality.\n",
    "Code Organization: By abstracting away low-level details, code becomes well-organized and easier to maintain.\n",
    "Code Reusability: Abstraction promotes code reuse. You can create abstract base classes or interfaces that other classes can inherit from.\n",
    "Collaboration: Teams collaborate more effectively when they work with well-defined abstractions.\n",
    "Scalability: Abstraction enables you to create scalable functions that adapt to changing requirements."
   ]
  },
  {
   "cell_type": "markdown",
   "id": "0d052ec2-7202-47e8-b20b-a710510425e2",
   "metadata": {},
   "source": [
    "# 39. How are abstract methods different from regular methods in Python."
   ]
  },
  {
   "cell_type": "markdown",
   "id": "82d9aec3-d777-4bc9-b34a-45951801b09f",
   "metadata": {},
   "source": [
    "Ans. Abstract method are different from regular methods in python as they don't need instantiation to be called.\n",
    "Abstract classes have no implementation in the base class whereas regular methods (also called concrete methods) have a complete implementation in the base class."
   ]
  },
  {
   "cell_type": "markdown",
   "id": "6e5e9716-e2ed-41a7-bd63-d249f2482cde",
   "metadata": {},
   "source": [
    "# 40. How can you achieve abstraction using interfaces in python."
   ]
  },
  {
   "cell_type": "markdown",
   "id": "132a44a6-42c2-4de6-8bd3-dfff7c8d2e5d",
   "metadata": {},
   "source": [
    "And. An interface defines a set of methods that must be implemented by classes that implement the interface.\n",
    "In Python, an interface can be considered as a contract that specifies which methods a class must provide.\n",
    "You can create an interface by defining a class with abstract methods (using the @abstractmethod decorator)."
   ]
  },
  {
   "cell_type": "markdown",
   "id": "2acc8e70-d9ed-414e-acd6-3d05d0f1360f",
   "metadata": {},
   "source": [
    "# 41. Can you provide an example of how abstraction can be utilised to create a common interface for a group of related classes in Python?"
   ]
  },
  {
   "cell_type": "code",
   "execution_count": 70,
   "id": "250ea77c-2b36-4e34-8526-550ad09a9709",
   "metadata": {},
   "outputs": [
    {
     "name": "stdout",
     "output_type": "stream",
     "text": [
      "Area of circle: 78.5\n",
      "Area of square: 16\n",
      "Area of triangle: 9.0\n"
     ]
    }
   ],
   "source": [
    "class Shape:\n",
    "    def area(self):\n",
    "        raise NotImplementedError(\"Subclasses must implement area method\")\n",
    "\n",
    "class Circle(Shape):\n",
    "    def __init__(self, radius):\n",
    "        self.radius = radius\n",
    "\n",
    "    def area(self):\n",
    "        return 3.14 * self.radius ** 2\n",
    "\n",
    "class Square(Shape):\n",
    "    def __init__(self, side):\n",
    "        self.side = side\n",
    "\n",
    "    def area(self):\n",
    "        return self.side ** 2\n",
    "\n",
    "class Triangle(Shape):\n",
    "    def __init__(self, base, height):\n",
    "        self.base = base\n",
    "        self.height = height\n",
    "\n",
    "    def area(self):\n",
    "        return 0.5 * self.base * self.height\n",
    "\n",
    "\n",
    "circle = Circle(5)\n",
    "print(\"Area of circle:\", circle.area())\n",
    "\n",
    "square = Square(4)\n",
    "print(\"Area of square:\", square.area())\n",
    "\n",
    "triangle = Triangle(3, 6)\n",
    "print(\"Area of triangle:\", triangle.area())"
   ]
  },
  {
   "cell_type": "markdown",
   "id": "6d3247ed-c8ee-4270-a79b-2a882b7eb903",
   "metadata": {},
   "source": [
    "# 42. How does Python achieve polymorphism through method overriding?"
   ]
  },
  {
   "cell_type": "markdown",
   "id": "e107f016-2274-4905-86ec-48e6c4945b89",
   "metadata": {},
   "source": [
    "Ans. \n",
    "Polymorphism in Python is achieved through method overriding, which allows subclasses to provide a specific implementation of a method that is already defined in its superclass. Method overriding enables a subclass to provide a specialized implementation of a method that is defined in its superclass. "
   ]
  },
  {
   "cell_type": "markdown",
   "id": "b8d91168-bc2e-4671-a853-f2cb22dc65f7",
   "metadata": {},
   "source": [
    "# 43. Define a base class with a method and a subclass that overrides the method."
   ]
  },
  {
   "cell_type": "code",
   "execution_count": 71,
   "id": "5dc19920-21ed-4a4c-810f-79d963c2aaee",
   "metadata": {},
   "outputs": [
    {
     "name": "stdout",
     "output_type": "stream",
     "text": [
      "I'm in Base Class!\n",
      "I'm in Subclass Class!\n"
     ]
    }
   ],
   "source": [
    "class BaseClass:\n",
    "    def func(self):\n",
    "        print(\"I'm in Base Class!\")\n",
    "        \n",
    "class SubClass:\n",
    "    def func(self):\n",
    "        print(\"I'm in Subclass Class!\")\n",
    "\n",
    "b = BaseClass()\n",
    "s = SubClass()\n",
    "b.func()\n",
    "s.func()"
   ]
  },
  {
   "cell_type": "markdown",
   "id": "faa87dd9-359f-45c4-9582-372baac75b5d",
   "metadata": {},
   "source": [
    "# 44. Define a base class and multiple subclasses with overridden methods."
   ]
  },
  {
   "cell_type": "code",
   "execution_count": 72,
   "id": "6d80a452-67d6-4399-943d-d2fc0b27b528",
   "metadata": {},
   "outputs": [
    {
     "name": "stdout",
     "output_type": "stream",
     "text": [
      "I'm in Base Class!\n",
      "I'm in Subclass Class!\n",
      "I'm in Another Subclass\n",
      "This is a different Subclass.\n",
      "Now multiple subclasses have been created and methods are overriding!\n"
     ]
    }
   ],
   "source": [
    "class BaseClass:\n",
    "    def func(self):\n",
    "        print(\"I'm in Base Class!\")\n",
    "        \n",
    "class SubClass1:\n",
    "    def func(self):\n",
    "        print(\"I'm in Subclass Class!\")\n",
    "        \n",
    "class SubClass2:\n",
    "    def func(self):\n",
    "        print(\"I'm in Another Subclass\")\n",
    "        \n",
    "class SubClass3:\n",
    "    def func(self):\n",
    "        print(\"This is a different Subclass.\\nNow multiple subclasses have been created and methods are overriding!\")\n",
    "        \n",
    "a = BaseClass()\n",
    "b = SubClass1()\n",
    "c = SubClass2()\n",
    "d = SubClass3()\n",
    "a.func()\n",
    "b.func()\n",
    "c.func()\n",
    "d.func()"
   ]
  },
  {
   "cell_type": "markdown",
   "id": "e6f2cfc1-dee4-4e20-bd85-1ebe6ffb1ef6",
   "metadata": {},
   "source": [
    "# 45. How does polymorphism improve code readability and reusability."
   ]
  },
  {
   "cell_type": "markdown",
   "id": "5ef786a7-0994-4646-83ae-33cc37bfb517",
   "metadata": {},
   "source": [
    "Ans. Polymorphism allows different objects to be treated as instances of a common superclass or interface. This means that code written to interact with the superclass or interface can be reused with any subclass or implementation that adheres to that interface.\n",
    "Polymorphism promotes a more intuitive and concise coding style by allowing you to write code that operates on abstract concepts rather than specific implementations.\n",
    "By using polymorphic interfaces and method signatures, you can communicate the intent of your code more clearly to other developers. For example, if a method expects an object that implements a certain interface, it's clear what behavior is required without needing to know the specific class of the object."
   ]
  },
  {
   "cell_type": "markdown",
   "id": "19d847f4-fada-4116-ab0d-d0d8b722c86d",
   "metadata": {},
   "source": [
    "# 46. Describe how Python supports polymorphism with duck typing."
   ]
  },
  {
   "cell_type": "markdown",
   "id": "c5e0ce9c-6ae6-466a-b046-0a1aed2b21a6",
   "metadata": {},
   "source": [
    "Ans. \n",
    "Python supports polymorphism through duck typing, which is a dynamic typing technique where the type or the class of an object is less important than the methods it defines. The term \"duck typing\" comes from the phrase \"If it looks like a duck, swims like a duck, and quacks like a duck, then it probably is a duck.\" In Python, this means that an object's suitability is determined by its behavior rather than its type."
   ]
  },
  {
   "cell_type": "code",
   "execution_count": 73,
   "id": "fff037bc-b750-4640-b8c4-e7fc85efe6c3",
   "metadata": {},
   "outputs": [
    {
     "name": "stdout",
     "output_type": "stream",
     "text": [
      "Quack!\n",
      "Woof!\n",
      "Meow!\n"
     ]
    }
   ],
   "source": [
    "class Duck:\n",
    "    def sound(self):\n",
    "        return \"Quack!\"\n",
    "\n",
    "class Dog:\n",
    "    def sound(self):\n",
    "        return \"Woof!\"\n",
    "\n",
    "class Cat:\n",
    "    def sound(self):\n",
    "        return \"Meow!\"\n",
    "\n",
    "def make_sound(animal):\n",
    "    print(animal.sound())\n",
    "\n",
    "duck = Duck()\n",
    "dog = Dog()\n",
    "cat = Cat()\n",
    "\n",
    "make_sound(duck)  \n",
    "make_sound(dog)  \n",
    "make_sound(cat)"
   ]
  },
  {
   "cell_type": "markdown",
   "id": "7467613e-b710-4edd-9aac-0cf509781049",
   "metadata": {},
   "source": [
    "# 47. How do you achieve encapsulation in Python."
   ]
  },
  {
   "cell_type": "markdown",
   "id": "9f26b5fa-8ed9-4e48-b5f1-71458b13da48",
   "metadata": {},
   "source": [
    "Ans. \n",
    "Encapsulation in Python is achieved by restricting access to certain parts of an object and hiding the object's internal state and implementation details from the outside world. This helps to ensure data integrity and protect the object from unintended interference. Python provides several mechanisms to achieve encapsulation:\n",
    "1.Private Variable\n",
    "2.Property decorators"
   ]
  },
  {
   "cell_type": "markdown",
   "id": "af4c86bb-48d7-41ed-817b-69878535ec3c",
   "metadata": {},
   "source": [
    "# 48. Can encapsulation be bypassed in Python? If so, how?"
   ]
  },
  {
   "cell_type": "markdown",
   "id": "c4456d44-bce2-4045-83c4-8d5f32d9a8cc",
   "metadata": {},
   "source": [
    "Ans. \n",
    "In Python, encapsulation can be bypassed to some extent, but it's not straightforward and goes against the principles of encapsulation. Encapsulation aims to protect the internal state of an object and to provide controlled access to it. However, Python being a dynamically typed language with a philosophy of \"we are all consenting adults here,\" it allows programmers to access and modify object attributes directly if they really want to. "
   ]
  },
  {
   "cell_type": "code",
   "execution_count": 74,
   "id": "870e5677-1d22-4485-aa1a-abf1456432b3",
   "metadata": {},
   "outputs": [
    {
     "name": "stdout",
     "output_type": "stream",
     "text": [
      "10\n",
      "20\n"
     ]
    }
   ],
   "source": [
    "class MyClass:\n",
    "    def __init__(self):\n",
    "        self.__private_var = 10\n",
    "\n",
    "obj = MyClass()\n",
    "print(getattr(obj, \"_MyClass__private_var\"))  \n",
    "setattr(obj, \"_MyClass__private_var\", 20)\n",
    "print(getattr(obj, \"_MyClass__private_var\"))  "
   ]
  },
  {
   "cell_type": "markdown",
   "id": "2ba9ced8-f1a9-45d1-82b6-4ece2dbfb23a",
   "metadata": {},
   "source": [
    "# 49. Implement a class Bankaccount with a private balance attribute. Include methods to deposit, withdraw, and check the balance."
   ]
  },
  {
   "cell_type": "code",
   "execution_count": 75,
   "id": "94f45e60-4ea3-4df5-8bfb-4fa2ed8c707f",
   "metadata": {},
   "outputs": [
    {
     "name": "stdout",
     "output_type": "stream",
     "text": [
      "Current balance is 5000.\n",
      "Deposited 6000\n",
      "Withdrawn 1000\n",
      "Current balance is 10000.\n"
     ]
    }
   ],
   "source": [
    "class BankAccount:\n",
    "    def __init__(self,bal):\n",
    "        self.__balance = bal\n",
    "        \n",
    "    def deposit(self,value):\n",
    "        self.__balance += value\n",
    "        print(f\"Deposited {value}\")\n",
    "        \n",
    "    def withdraw(self,value):\n",
    "        self.__balance -= value\n",
    "        print(f\"Withdrawn {value}\")\n",
    "        \n",
    "    def bal_check(self):\n",
    "        print(f\"Current balance is {self.__balance}.\")\n",
    "    \n",
    "Acc = BankAccount(5000)\n",
    "Acc.bal_check()\n",
    "Acc.deposit(6000)\n",
    "Acc.withdraw(1000)\n",
    "Acc.bal_check()"
   ]
  },
  {
   "cell_type": "markdown",
   "id": "f9d56f74-6cfd-4263-a078-714ad05ba7b7",
   "metadata": {},
   "source": [
    "# 50. Develop a Person class with private attributes name and email, and methods to set and get the email."
   ]
  },
  {
   "cell_type": "code",
   "execution_count": 77,
   "id": "19ef5c8d-519e-46dd-97b0-5a4219930878",
   "metadata": {},
   "outputs": [
    {
     "name": "stdout",
     "output_type": "stream",
     "text": [
      "Qwerty's email is qwert123@gmail.com\n"
     ]
    }
   ],
   "source": [
    "class Person:\n",
    "    def __init__(self,name):\n",
    "        self.__name = name\n",
    "        self.__email = None\n",
    "        \n",
    "    def set_email(self,email):\n",
    "        self.__email = email\n",
    "\n",
    "    def get_email(self):\n",
    "        if self.__email == None:\n",
    "            print(\"No email set\")\n",
    "        else:\n",
    "            print(f\"{self.__name}'s email is {self.__email}\")\n",
    "\n",
    "p = Person(\"Qwerty\")\n",
    "p.set_email(\"qwert123@gmail.com\")\n",
    "p.get_email()"
   ]
  },
  {
   "cell_type": "markdown",
   "id": "a5822eda-7b34-403b-9c61-8d10dda65bda",
   "metadata": {},
   "source": [
    "# 51. Why is encapsulation considered a pillar of object-oriented programming (OOP)?"
   ]
  },
  {
   "cell_type": "markdown",
   "id": "1afadc3d-6668-4103-a044-95ed91cbab9b",
   "metadata": {},
   "source": [
    "Ans. Encapsulation is considered a fundamental pillar of Object-Oriented Programming (OOP) in Python, as well as in many other programming languages, because it provides several important benefits:\n",
    "Data Hiding: Encapsulation allows objects to hide their internal state and implementation details from the outside world. \n",
    "Abstraction: Encapsulation allows objects to present a simple and consistent interface to the outside world while hiding complex implementation details. \n",
    "Modularity: Encapsulation promotes modularity by encapsulating related data and behavior within a single object. This makes it easier to manage and maintain code by breaking it down into smaller, more manageable components.\n",
    "Code Reusability: Encapsulation enables code reuse by encapsulating common functionality within objects..\n",
    "Polymorphism: Encapsulation is closely related to other OOP principles such as polymorphism and inheritance. By encapsulating behavior within objects and defining clear interfaces, encapsulation enables polymorph"
   ]
  },
  {
   "cell_type": "markdown",
   "id": "b90a6b6d-8637-4c60-82f2-0f7389535046",
   "metadata": {},
   "source": [
    "# 52. Create a decorator in python that adds functionality to a simple function by printing a message before and after the function execution."
   ]
  },
  {
   "cell_type": "code",
   "execution_count": 78,
   "id": "c4b717b0-3a26-4d37-aabb-0324c59b08b6",
   "metadata": {},
   "outputs": [
    {
     "name": "stdout",
     "output_type": "stream",
     "text": [
      "Hey this message's being printed before the actual function\n",
      "This is the actual function\n",
      "This message is being called after the actual function\n"
     ]
    }
   ],
   "source": [
    "def dec(func):\n",
    "    def wrapper():\n",
    "        print(\"Hey this message's being printed before the actual function\")\n",
    "        func()\n",
    "        print(\"This message is being called after the actual function\")\n",
    "    return wrapper\n",
    "\n",
    "@dec\n",
    "def f():\n",
    "    print(\"This is the actual function\")\n",
    "    \n",
    "f()"
   ]
  },
  {
   "cell_type": "markdown",
   "id": "b447bedc-9527-466e-a07b-31b52aa2260f",
   "metadata": {},
   "source": [
    "# 53. Modify the decorator to accept arguments and print the function name along with the message."
   ]
  },
  {
   "cell_type": "code",
   "execution_count": 79,
   "id": "ea97382e-970f-4aab-948a-136185740c07",
   "metadata": {},
   "outputs": [
    {
     "name": "stdout",
     "output_type": "stream",
     "text": [
      "Hey this message's being printed before the actual function.\n",
      "This is the function\n",
      "The function called here is 'f1' \n"
     ]
    }
   ],
   "source": [
    "class MyDec:\n",
    "    def __init__(self,func):\n",
    "        self.func = func\n",
    "    def __call__(self):\n",
    "        print(\"Hey this message's being printed before the actual function.\")\n",
    "        self.func()\n",
    "        print(f\"The function called here is '{self.func.__name__}' \")\n",
    "\n",
    "\n",
    "@MyDec\n",
    "def f1():\n",
    "    print(\"This is the function\")\n",
    "    \n",
    "f1()"
   ]
  },
  {
   "cell_type": "markdown",
   "id": "38d3a2c8-4408-4c9e-8284-796be649551f",
   "metadata": {},
   "source": [
    "# 54. Create two decorators and apply them to a single function. Ensure that they execute in the order they are applied."
   ]
  },
  {
   "cell_type": "code",
   "execution_count": 80,
   "id": "efba5c11-1b46-4deb-bbba-26d669b9a98c",
   "metadata": {},
   "outputs": [
    {
     "name": "stdout",
     "output_type": "stream",
     "text": [
      "This is the statement of the first decorator\n",
      "This is the statement of the second decorator\n",
      "This is the actual function\n"
     ]
    }
   ],
   "source": [
    "def Dec1(func):\n",
    "    def wrapper():\n",
    "        print(\"This is the statement of the first decorator\")\n",
    "        func()\n",
    "    return wrapper\n",
    "\n",
    "def Dec2(func):\n",
    "    def wrapper():\n",
    "        print(\"This is the statement of the second decorator\")\n",
    "        func()\n",
    "    return wrapper\n",
    "\n",
    "@Dec1\n",
    "@Dec2\n",
    "def my_func():\n",
    "    print(\"This is the actual function\")\n",
    "    \n",
    "my_func()"
   ]
  },
  {
   "cell_type": "markdown",
   "id": "21388fa7-d4e0-4192-bbd8-e55329ed75e9",
   "metadata": {},
   "source": [
    "# 55. Modify the decorator to accept and pass function arguments to the wrapped function."
   ]
  },
  {
   "cell_type": "code",
   "execution_count": 81,
   "id": "e2bd8008-ebbd-486a-9d16-a2f099b56e8c",
   "metadata": {},
   "outputs": [
    {
     "name": "stdout",
     "output_type": "stream",
     "text": [
      "Before the function is called\n",
      "Hello, Aman\n",
      "After the function is called\n"
     ]
    }
   ],
   "source": [
    "def my_decorator(func):\n",
    "    def wrapper(*args, **kwargs):\n",
    "        print(\"Before the function is called\")\n",
    "        result = func(*args, **kwargs)\n",
    "        print(\"After the function is called\")\n",
    "        return result\n",
    "    return wrapper\n",
    "\n",
    "@my_decorator\n",
    "def say_hello(name):\n",
    "    print(\"Hello,\", name)\n",
    "\n",
    "say_hello(\"Aman\")"
   ]
  },
  {
   "cell_type": "markdown",
   "id": "eb6262c1-b7a0-41cc-97b2-b3e4930a38ca",
   "metadata": {},
   "source": [
    "# 56. Create a decorator that preserves the metadata of the original function."
   ]
  },
  {
   "cell_type": "code",
   "execution_count": 82,
   "id": "5523a701-7ebf-4b75-8053-f15154414e45",
   "metadata": {},
   "outputs": [
    {
     "name": "stdout",
     "output_type": "stream",
     "text": [
      "Function name: my_function\n",
      "Function docstring: None\n"
     ]
    }
   ],
   "source": [
    "from functools import wraps\n",
    "\n",
    "def my_decorator(func):\n",
    "    @wraps(func)\n",
    "    def wrapper(*args, **kwargs):\n",
    "        print(\"Do something before calling the function\")\n",
    "        result = func(*args, **kwargs)\n",
    "        print(\"Do something after calling the function\")\n",
    "        return result\n",
    "    return wrapper\n",
    "\n",
    "@my_decorator\n",
    "def my_function(x, y):\n",
    "    return x + y\n",
    "\n",
    "# Check metadata of the decorated function\n",
    "print(\"Function name:\", my_function.__name__)\n",
    "print(\"Function docstring:\", my_function.__doc__)"
   ]
  },
  {
   "cell_type": "markdown",
   "id": "b69a46b8-a8bc-4890-ada9-76929c7c015e",
   "metadata": {},
   "source": [
    "# 57. Create a python class 'calculator' with a static method 'add' that takes in two numbers and return their sum."
   ]
  },
  {
   "cell_type": "code",
   "execution_count": 83,
   "id": "46b8006e-1f54-4279-974a-3750f093657e",
   "metadata": {},
   "outputs": [
    {
     "name": "stdout",
     "output_type": "stream",
     "text": [
      "This is a calculator.\n"
     ]
    },
    {
     "data": {
      "text/plain": [
       "[7]"
      ]
     },
     "execution_count": 83,
     "metadata": {},
     "output_type": "execute_result"
    }
   ],
   "source": [
    "class Calculator:\n",
    "    def __init__(self):\n",
    "        print(\"This is a calculator.\")\n",
    "    def add(self,x,y):\n",
    "        return x+y\n",
    "    \n",
    "c = Calculator()\n",
    "[c.add(3,4)]"
   ]
  },
  {
   "cell_type": "markdown",
   "id": "6d438834-9948-40aa-859f-70bff5f0cada",
   "metadata": {},
   "source": [
    "# 58. Create a python class 'Employee' with a class 'method get_employee_count' that returns the total number of employees created."
   ]
  },
  {
   "cell_type": "code",
   "execution_count": 84,
   "id": "c360422f-d233-4551-8b86-18a362496852",
   "metadata": {},
   "outputs": [
    {
     "data": {
      "text/plain": [
       "[2]"
      ]
     },
     "execution_count": 84,
     "metadata": {},
     "output_type": "execute_result"
    }
   ],
   "source": [
    "class Employee:\n",
    "    tot_emp = 0\n",
    "    \n",
    "    def __init__(self,name,emp_id):\n",
    "        self.name = name\n",
    "        self.id = emp_id\n",
    "        Employee.tot_emp += 1\n",
    "        \n",
    "    def get_employee_count():\n",
    "        return Employee.tot_emp\n",
    "    \n",
    "emp1 = Employee(\"Aman\",1001)\n",
    "emp2 = Employee(\"Shomiya\",1002)\n",
    "\n",
    "[Employee.get_employee_count()]"
   ]
  },
  {
   "cell_type": "markdown",
   "id": "28005a09-6660-4002-a55d-159357c0c4ad",
   "metadata": {},
   "source": [
    "# 59. Create a Python class 'StringFormatter' with a static method 'reverse_string' that takes a string as input and returns its reverse."
   ]
  },
  {
   "cell_type": "code",
   "execution_count": 85,
   "id": "7397933c-707b-4cd5-9108-c806630dfc9d",
   "metadata": {},
   "outputs": [
    {
     "data": {
      "text/plain": [
       "'ytrewq'"
      ]
     },
     "execution_count": 85,
     "metadata": {},
     "output_type": "execute_result"
    }
   ],
   "source": [
    "class StringFormatter:\n",
    "    def reverse_string(self,s):\n",
    "        return s[::-1]\n",
    "    \n",
    "d = StringFormatter()\n",
    "d.reverse_string(\"qwerty\")"
   ]
  },
  {
   "cell_type": "markdown",
   "id": "e85ac278-940d-4ef9-97e9-1d7bf72b0ccb",
   "metadata": {},
   "source": [
    "# 60. Create a python class 'Circle' with a class method 'calculate_area' that calculates the area of a circle given its radius."
   ]
  },
  {
   "cell_type": "code",
   "execution_count": 86,
   "id": "4cedc869-5cd2-4324-a0ee-2fbd9e862abe",
   "metadata": {},
   "outputs": [
    {
     "data": {
      "text/plain": [
       "[154.0]"
      ]
     },
     "execution_count": 86,
     "metadata": {},
     "output_type": "execute_result"
    }
   ],
   "source": [
    "class Circle:\n",
    "    def __init__(self,radius):\n",
    "        self.r = radius\n",
    "    def calculate_area(self):\n",
    "        return (22/7)*(self.r**2)\n",
    "    \n",
    "c = Circle(7)\n",
    "[c.calculate_area()]"
   ]
  },
  {
   "cell_type": "markdown",
   "id": "5ba08a8a-f923-4d9a-a911-d80f5df135aa",
   "metadata": {},
   "source": [
    "# 61. Create a Python class 'TemperatureConverter' with a static method 'celsius_to_fahrenheit' that converts Celsius to Fahrenheit."
   ]
  },
  {
   "cell_type": "code",
   "execution_count": 87,
   "id": "7ae1a878-80ff-4b08-8aab-dbf654d998ba",
   "metadata": {},
   "outputs": [
    {
     "data": {
      "text/plain": [
       "73.4"
      ]
     },
     "execution_count": 87,
     "metadata": {},
     "output_type": "execute_result"
    }
   ],
   "source": [
    "class TemperatureConverter:\n",
    "    def __init__(self,temp):\n",
    "        self.temp = temp\n",
    "    def celsius_to_farhenheit(self):\n",
    "        return (self.temp * 1.8)+32\n",
    "    \n",
    "t = TemperatureConverter(23)\n",
    "t.celsius_to_farhenheit()"
   ]
  },
  {
   "cell_type": "markdown",
   "id": "03a469a6-7498-43bc-8214-642b958dc588",
   "metadata": {},
   "source": [
    "# 62. What is the purpose of the __str__() method in python classes? Provide an example."
   ]
  },
  {
   "cell_type": "markdown",
   "id": "21a22301-af70-40ee-a360-db27ced2e887",
   "metadata": {},
   "source": [
    "Ans. The __str__() method in Python classes is used to define how an instance of a class should be represented as a string. It allows you to customize the string representation of an object when it is printed or converted to a string using the str() function."
   ]
  },
  {
   "cell_type": "code",
   "execution_count": 88,
   "id": "f0f77264-202f-4796-b049-7a4560bbf641",
   "metadata": {},
   "outputs": [
    {
     "name": "stdout",
     "output_type": "stream",
     "text": [
      "Person: Alice, Age: 30\n"
     ]
    }
   ],
   "source": [
    "class Person:\n",
    "    def __init__(self, name, age):\n",
    "        self.name = name\n",
    "        self.age = age\n",
    "\n",
    "    def __str__(self):\n",
    "        return f\"Person: {self.name}, Age: {self.age}\"\n",
    "\n",
    "person1 = Person(\"Alice\", 30)\n",
    "print(person1)  "
   ]
  },
  {
   "cell_type": "markdown",
   "id": "0b087328-7481-4b61-8a02-f9693a50ef37",
   "metadata": {},
   "source": [
    "# 63. How does the __len__() method work in python? Provide an example."
   ]
  },
  {
   "cell_type": "markdown",
   "id": "1fa21fed-6823-464b-8213-18707ab0c2e1",
   "metadata": {},
   "source": [
    "Ans. The len() function in Python is used to return the length (number of items) of an object. The behavior of len() varies depending on the type of object it is applied to. "
   ]
  },
  {
   "cell_type": "code",
   "execution_count": 89,
   "id": "9316686e-dc36-41f8-996a-9fc21c110d4a",
   "metadata": {},
   "outputs": [
    {
     "name": "stdout",
     "output_type": "stream",
     "text": [
      "Length of set: 5\n"
     ]
    }
   ],
   "source": [
    "set_example = {1, 2, 3, 4, 5}\n",
    "print(\"Length of set:\", len(set_example))  "
   ]
  },
  {
   "cell_type": "markdown",
   "id": "bd69ca7d-a15a-4c63-ae84-7ef8a94f91f6",
   "metadata": {},
   "source": [
    "# 64. Explain the usage of the __add__() method in python classes. Provide an example."
   ]
  },
  {
   "cell_type": "markdown",
   "id": "32392fec-9389-4e44-92f2-45cd09ba920f",
   "metadata": {},
   "source": [
    "Ans. When you use the + operator between two objects, Python looks for the __add__() method in the class of the first operand. If the method is defined, Python calls it with the second operand as an argument. This method should return the result of the addition operation."
   ]
  },
  {
   "cell_type": "code",
   "execution_count": 90,
   "id": "283fc049-f2f2-4077-a4b0-1343d9544db1",
   "metadata": {},
   "outputs": [
    {
     "name": "stdout",
     "output_type": "stream",
     "text": [
      "Result of addition: 3\n"
     ]
    }
   ],
   "source": [
    "point1 = 1\n",
    "point2 = 2\n",
    "\n",
    "result = point1 + point2\n",
    "print(\"Result of addition:\", result)  "
   ]
  },
  {
   "cell_type": "markdown",
   "id": "6f256602-7d54-418b-bb70-f08dcec93594",
   "metadata": {},
   "source": [
    "# 65. What is the purpose of the __getitem__() method in python? Provide an example."
   ]
  },
  {
   "cell_type": "markdown",
   "id": "90cddc4a-e93b-4270-ae68-1e81873bfbb1",
   "metadata": {},
   "source": [
    "Ans. The __getitem__() method in Python is used to enable the indexing and slicing operations on objects of a class. It allows instances of the class to support the indexing ([]) notation, similar to built-in sequence types like lists, tuples, and strings."
   ]
  },
  {
   "cell_type": "code",
   "execution_count": 91,
   "id": "015215a2-2258-4e50-8826-ddd19ffedb97",
   "metadata": {},
   "outputs": [
    {
     "name": "stdout",
     "output_type": "stream",
     "text": [
      "Item at index 2: 3\n",
      "Slice from index 1 to 3: [2, 3, 4]\n"
     ]
    }
   ],
   "source": [
    "class CustomList:\n",
    "    def __init__(self, data):\n",
    "        self.data = data\n",
    "\n",
    "    def __getitem__(self, index):\n",
    "        return self.data[index]\n",
    "\n",
    "    def __len__(self):\n",
    "        return len(self.data)\n",
    "\n",
    "custom_list = CustomList([1, 2, 3, 4, 5])\n",
    "\n",
    "print(\"Item at index 2:\", custom_list[2])  \n",
    "print(\"Slice from index 1 to 3:\", custom_list[1:4])  "
   ]
  },
  {
   "cell_type": "markdown",
   "id": "150992fd-a096-4d3a-8516-2b0f16a99fa4",
   "metadata": {},
   "source": [
    "# 66. Explain the usage of the __iter__() and __next__() methods in Python.Provide an examples using iterators."
   ]
  },
  {
   "cell_type": "markdown",
   "id": "b6c2c595-17a0-48b4-a237-43a201057fa1",
   "metadata": {},
   "source": [
    "Ans. The iter() function is used to obtain an iterator from an iterable object. An iterable object is any object that can be looped over, such as sequences (lists, tuples, strings), dictionaries, sets, and even custom objects that implement the iterable protocol.\n",
    "The next() method is used to retrieve the next element from an iterator. It advances the iterator to the next item and returns it. If there are no more items, it raises a 'StopIteration' exception."
   ]
  },
  {
   "cell_type": "code",
   "execution_count": 92,
   "id": "7bd6ae3d-a4a5-4a2f-96ba-722afed23330",
   "metadata": {},
   "outputs": [
    {
     "name": "stdout",
     "output_type": "stream",
     "text": [
      "1\n",
      "2\n",
      "3\n",
      "4\n",
      "5\n"
     ]
    }
   ],
   "source": [
    "class MyIterator:\n",
    "    def __init__(self, data):\n",
    "        self.data = data\n",
    "        self.index = 0\n",
    "\n",
    "    def __iter__(self):\n",
    "        return self\n",
    "\n",
    "    def __next__(self):\n",
    "        if self.index < len(self.data):\n",
    "            result = self.data[self.index]\n",
    "            self.index += 1\n",
    "            return result\n",
    "        else:\n",
    "            raise StopIteration\n",
    "\n",
    "my_list = [1, 2, 3, 4, 5]\n",
    "\n",
    "my_iterator = iter(my_list)\n",
    "\n",
    "print(next(my_iterator))  \n",
    "print(next(my_iterator))  \n",
    "print(next(my_iterator))  \n",
    "\n",
    "for item in my_iterator:\n",
    "    print(item)  "
   ]
  },
  {
   "cell_type": "markdown",
   "id": "c14de9c8-a0ea-4b88-8b70-98e496611253",
   "metadata": {},
   "source": [
    "# 67. What is the purpose of a getter method in Python? Provide an example demonstrating the use of a getter method using property decorators."
   ]
  },
  {
   "cell_type": "markdown",
   "id": "8e9bd2ec-81b1-4148-91cd-a18d66840c1e",
   "metadata": {},
   "source": [
    "Ans. Property decorators in Python provide a convenient way to define getter methods. By using @property, you can create a method that behaves like an attribute, allowing you to access it without calling the method explicitly."
   ]
  },
  {
   "cell_type": "code",
   "execution_count": 93,
   "id": "ffdcb644-a11c-481b-83b1-f5fe92f9bde1",
   "metadata": {},
   "outputs": [
    {
     "name": "stdout",
     "output_type": "stream",
     "text": [
      "Radius of the circle: 5\n"
     ]
    }
   ],
   "source": [
    "class Circle:\n",
    "    def __init__(self, radius):\n",
    "        self._radius = radius \n",
    "\n",
    "    @property\n",
    "    def radius(self):\n",
    "        return self._radius\n",
    "\n",
    "circle = Circle(5)\n",
    "\n",
    "print(\"Radius of the circle:\", circle.radius) "
   ]
  },
  {
   "cell_type": "markdown",
   "id": "37562384-5d56-4a43-a560-f7b4ce15d879",
   "metadata": {},
   "source": [
    "# 68.Explain the role of setter methods in python. Demonstrate how to use a setter method to modify a class attribute using property decorators."
   ]
  },
  {
   "cell_type": "markdown",
   "id": "30c5a384-b673-4e8d-b24a-ab98ba166ea3",
   "metadata": {},
   "source": [
    "Ans.  They provide a way to control the assignment of values to attributes, enabling data validation, manipulation, and encapsulation. Setter methods are particularly useful when you want to enforce certain constraints or perform additional operations when setting the value of an attribute."
   ]
  },
  {
   "cell_type": "code",
   "execution_count": 94,
   "id": "a91f6742-96f1-4614-9045-f1af753bf81d",
   "metadata": {},
   "outputs": [
    {
     "name": "stdout",
     "output_type": "stream",
     "text": [
      "Radius of the circle: 5\n",
      "Modified radius of the circle: 7\n"
     ]
    }
   ],
   "source": [
    "class Circle:\n",
    "    def __init__(self, radius):\n",
    "        self._radius = radius  \n",
    "\n",
    "    @property\n",
    "    def radius(self):\n",
    "        return self._radius\n",
    "\n",
    "    @radius.setter\n",
    "    def radius(self, value):\n",
    "        self._radius = value\n",
    "\n",
    "circle = Circle(5)\n",
    "\n",
    "print(\"Radius of the circle:\", circle.radius) \n",
    "circle.radius = 7\n",
    "print(\"Modified radius of the circle:\", circle.radius)"
   ]
  },
  {
   "cell_type": "markdown",
   "id": "27793021-7e14-4ff5-8bfa-4c1f944e244c",
   "metadata": {},
   "source": [
    "# 69. What is the purpose of the @property decorator in python? Provide an example illustrating it's usage."
   ]
  },
  {
   "cell_type": "markdown",
   "id": "218a1018-935d-4add-ade5-b00305a1b82a",
   "metadata": {},
   "source": [
    "Ans. The @property decorator allows you to define a method as an attribute of a class, which can be accessed like a regular attribute but executes custom code behind the scenes."
   ]
  },
  {
   "cell_type": "code",
   "execution_count": 95,
   "id": "91fe929d-2d32-4a4b-a84e-69c9a269996a",
   "metadata": {},
   "outputs": [
    {
     "name": "stdout",
     "output_type": "stream",
     "text": [
      "Radius of the circle: 5\n",
      "Modified radius of the circle: 7\n"
     ]
    }
   ],
   "source": [
    "class Circle:\n",
    "    def __init__(self, radius):\n",
    "        self._radius = radius \n",
    "\n",
    "    @property\n",
    "    def radius(self):\n",
    "        return self._radius\n",
    "\n",
    "    @radius.setter\n",
    "    def radius(self, value):\n",
    "        self._radius = value\n",
    "\n",
    "circle = Circle(5)\n",
    "\n",
    "print(\"Radius of the circle:\", circle.radius)  \n",
    "\n",
    "circle.radius = 7\n",
    "print(\"Modified radius of the circle:\", circle.radius)  "
   ]
  },
  {
   "cell_type": "markdown",
   "id": "0a404d5e-f321-4e29-8720-940ba35bc85e",
   "metadata": {},
   "source": [
    "# 70.Explain the use of the @deleter decorator in python property decorators. Provide a code example demonstrating its application."
   ]
  },
  {
   "cell_type": "markdown",
   "id": "f11eecb5-a88b-4705-9b50-c5e9f1989e02",
   "metadata": {},
   "source": [
    "Ans. This decorator is used to define a method that will be called when the attribute associated with the property is deleted using the del statement."
   ]
  },
  {
   "cell_type": "code",
   "execution_count": 98,
   "id": "1a68a00a-65a1-4fff-a1b1-3512ad7be48b",
   "metadata": {},
   "outputs": [
    {
     "name": "stdout",
     "output_type": "stream",
     "text": [
      "Radius of the circle: 5\n",
      "Radius attribute deleted.\n"
     ]
    },
    {
     "ename": "AttributeError",
     "evalue": "'Circle' object has no attribute '_radius'",
     "output_type": "error",
     "traceback": [
      "\u001b[0;31m---------------------------------------------------------------------------\u001b[0m",
      "\u001b[0;31mAttributeError\u001b[0m                            Traceback (most recent call last)",
      "Cell \u001b[0;32mIn[98], line 24\u001b[0m\n\u001b[1;32m     22\u001b[0m \u001b[38;5;28mprint\u001b[39m(\u001b[38;5;124m\"\u001b[39m\u001b[38;5;124mRadius of the circle:\u001b[39m\u001b[38;5;124m\"\u001b[39m, circle\u001b[38;5;241m.\u001b[39mradius)  \n\u001b[1;32m     23\u001b[0m \u001b[38;5;28;01mdel\u001b[39;00m circle\u001b[38;5;241m.\u001b[39mradius  \n\u001b[0;32m---> 24\u001b[0m \u001b[38;5;28mprint\u001b[39m(\u001b[38;5;124m\"\u001b[39m\u001b[38;5;124mRadius of the circle:\u001b[39m\u001b[38;5;124m\"\u001b[39m, \u001b[43mcircle\u001b[49m\u001b[38;5;241;43m.\u001b[39;49m\u001b[43mradius\u001b[49m)\n",
      "Cell \u001b[0;32mIn[98], line 7\u001b[0m, in \u001b[0;36mCircle.radius\u001b[0;34m(self)\u001b[0m\n\u001b[1;32m      5\u001b[0m \u001b[38;5;129m@property\u001b[39m\n\u001b[1;32m      6\u001b[0m \u001b[38;5;28;01mdef\u001b[39;00m \u001b[38;5;21mradius\u001b[39m(\u001b[38;5;28mself\u001b[39m):\n\u001b[0;32m----> 7\u001b[0m     \u001b[38;5;28;01mreturn\u001b[39;00m \u001b[38;5;28;43mself\u001b[39;49m\u001b[38;5;241;43m.\u001b[39;49m\u001b[43m_radius\u001b[49m\n",
      "\u001b[0;31mAttributeError\u001b[0m: 'Circle' object has no attribute '_radius'"
     ]
    }
   ],
   "source": [
    "class Circle:\n",
    "    def __init__(self, radius):\n",
    "        self._radius = radius\n",
    "\n",
    "    @property\n",
    "    def radius(self):\n",
    "        return self._radius\n",
    "\n",
    "    @radius.setter\n",
    "    def radius(self, value):\n",
    "        if value <= 0:\n",
    "            raise ValueError(\"Radius must be a positive number.\")\n",
    "        self._radius = value\n",
    "\n",
    "    @radius.deleter\n",
    "    def radius(self):\n",
    "        del self._radius\n",
    "        print(\"Radius attribute deleted.\")\n",
    "\n",
    "circle = Circle(5)\n",
    "\n",
    "print(\"Radius of the circle:\", circle.radius)  \n",
    "del circle.radius  \n",
    "print(\"Radius of the circle:\", circle.radius)"
   ]
  },
  {
   "cell_type": "markdown",
   "id": "83a0caff-48eb-440a-b5b4-f35c00fdd61f",
   "metadata": {},
   "source": [
    "# 71.How does encapsulation relate to property decorators in python? Provide an example showcasing encapsulation using property decorators."
   ]
  },
  {
   "cell_type": "raw",
   "id": "92741781-4754-4181-a70f-8a9381badf6a",
   "metadata": {},
   "source": [
    "Ans.By using property decorators, we achieve encapsulation by providing controlled access to class attributes. This allows us to enforce data validation, perform additional operations, and maintain data integrity within our classes."
   ]
  },
  {
   "cell_type": "code",
   "execution_count": 97,
   "id": "489d9fdc-3e55-46af-b8d9-841371db8eae",
   "metadata": {},
   "outputs": [
    {
     "name": "stdout",
     "output_type": "stream",
     "text": [
      "Radius of the circle: 5\n",
      "Radius of the circle (direct access): 5\n",
      "Modified radius of the circle: 7\n",
      "Error: Radius must be a positive number.\n"
     ]
    }
   ],
   "source": [
    "class Circle:\n",
    "    def __init__(self, radius):\n",
    "        self._radius = radius  \n",
    "\n",
    "    @property\n",
    "    def radius(self):\n",
    "        \"\"\"Getter method for accessing the radius attribute.\"\"\"\n",
    "        return self._radius\n",
    "\n",
    "    @radius.setter\n",
    "    def radius(self, value):\n",
    "        \"\"\"Setter method for modifying the radius attribute.\"\"\"\n",
    "        if value <= 0:\n",
    "            raise ValueError(\"Radius must be a positive number.\")\n",
    "        self._radius = value\n",
    "\n",
    "circle = Circle(5)\n",
    "\n",
    "print(\"Radius of the circle:\", circle.radius)  \n",
    "\n",
    "try:\n",
    "    print(\"Radius of the circle (direct access):\", circle._radius)\n",
    "except AttributeError as e:\n",
    "    print(\"Error:\", e)  \n",
    "\n",
    "circle.radius = 7\n",
    "print(\"Modified radius of the circle:\", circle.radius) \n",
    "\n",
    "try:\n",
    "    circle.radius = -3\n",
    "except ValueError as e:\n",
    "    print(\"Error:\", e)  "
   ]
  },
  {
   "cell_type": "code",
   "execution_count": null,
   "id": "2254f7c4-544b-4d4c-913b-65943faeb2b2",
   "metadata": {},
   "outputs": [],
   "source": []
  }
 ],
 "metadata": {
  "kernelspec": {
   "display_name": "Python 3 (ipykernel)",
   "language": "python",
   "name": "python3"
  },
  "language_info": {
   "codemirror_mode": {
    "name": "ipython",
    "version": 3
   },
   "file_extension": ".py",
   "mimetype": "text/x-python",
   "name": "python",
   "nbconvert_exporter": "python",
   "pygments_lexer": "ipython3",
   "version": "3.10.8"
  }
 },
 "nbformat": 4,
 "nbformat_minor": 5
}
