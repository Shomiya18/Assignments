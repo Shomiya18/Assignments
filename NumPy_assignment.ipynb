{
 "cells": [
  {
   "cell_type": "code",
   "execution_count": 1,
   "id": "984dcadc-fa7d-4426-9bc7-d51690b2c97f",
   "metadata": {},
   "outputs": [],
   "source": [
    "import numpy as np\n",
    "import pandas as pd\n",
    "import sys"
   ]
  },
  {
   "cell_type": "raw",
   "id": "3cd7d611-f40e-4d11-bef2-22241b558e44",
   "metadata": {},
   "source": [
    "1. Create a Numpy array 'arr' of integers from 0 to 5 and print it's datatype."
   ]
  },
  {
   "cell_type": "code",
   "execution_count": 2,
   "id": "a5b0a24b-7179-4250-9fd2-729549921d26",
   "metadata": {},
   "outputs": [
    {
     "name": "stdout",
     "output_type": "stream",
     "text": [
      "Array:  [0 1 2 3 4 5]\n",
      "Datatype:  int64\n"
     ]
    }
   ],
   "source": [
    "arr = np.array([0,1,2,3,4,5])\n",
    "print(\"Array: \", arr)\n",
    "print(\"Datatype: \", arr.dtype)"
   ]
  },
  {
   "cell_type": "code",
   "execution_count": 3,
   "id": "fb568cfe-b1a7-4cdf-a3ba-586db6a0c145",
   "metadata": {},
   "outputs": [
    {
     "name": "stdout",
     "output_type": "stream",
     "text": [
      "Original array:\n",
      "[[ 1  2  3  4  5  6]\n",
      " [ 7  8  9 10 11 12]]\n",
      "\n",
      "Subarrays (using split):\n",
      "[[1 2]\n",
      " [7 8]]\n",
      "[[ 3  4]\n",
      " [ 9 10]]\n",
      "[[ 5  6]\n",
      " [11 12]]\n"
     ]
    }
   ],
   "source": [
    "import numpy as np\n",
    "\n",
    "# Example 2D array\n",
    "array = np.array([[1, 2, 3, 4, 5, 6],\n",
    "                  [7, 8, 9, 10, 11, 12]])\n",
    "\n",
    "# Split the array into 3 subarrays along the columns\n",
    "subarrays = np.split(array, 3, axis=1)\n",
    "\n",
    "print(\"Original array:\")\n",
    "print(array)\n",
    "print(\"\\nSubarrays (using split):\")\n",
    "for subarray in subarrays:\n",
    "    print(subarray)\n"
   ]
  },
  {
   "attachments": {
    "f045ebcb-24e7-41a8-b4e9-13c09de0335e.png": {
     "image/png": "[encoded data removed]"
    }
   },
   "cell_type": "markdown",
   "id": "f75b0897-aa2d-4abf-b1f1-b0575c42a1e0",
   "metadata": {
    "tags": []
   },
   "source": [
    "2. Create a Numpy array 'arr', check if its data type is float64.\n",
    "![image.png](attachment:f045ebcb-24e7-41a8-b4e9-13c09de0335e.png)\n"
   ]
  },
  {
   "cell_type": "code",
   "execution_count": 4,
   "id": "e3f90e2a-2219-4df8-bb42-b4c96820cb9e",
   "metadata": {},
   "outputs": [
    {
     "name": "stdout",
     "output_type": "stream",
     "text": [
      "True\n"
     ]
    }
   ],
   "source": [
    "arr = np.array([1.5,2.6,3.7])\n",
    "if arr.dtype == \"float64\":\n",
    "    print(\"True\")"
   ]
  },
  {
   "cell_type": "markdown",
   "id": "1aef4a90-99bc-4503-b04b-e1d2ba6c38f0",
   "metadata": {},
   "source": [
    "3. Create a NumpPy array 'arr' with a data type of complex128 containing three complex numbers."
   ]
  },
  {
   "cell_type": "code",
   "execution_count": 5,
   "id": "f59aec33-fc7c-476f-8241-ed3bdc7aae53",
   "metadata": {},
   "outputs": [
    {
     "name": "stdout",
     "output_type": "stream",
     "text": [
      "[1.+2.j 3.+4.j 5.+6.j]\n"
     ]
    }
   ],
   "source": [
    "arr = np.array([1+2j, 3+4j, 5+6j], dtype=np.complex128)\n",
    "print(arr)"
   ]
  },
  {
   "cell_type": "markdown",
   "id": "9102a60f-6229-4e6f-86d9-ab2d2b8ff0a8",
   "metadata": {},
   "source": [
    "4. Convert an existing NumPy array 'arr' of integers to float32 data type."
   ]
  },
  {
   "cell_type": "code",
   "execution_count": 6,
   "id": "568d3a31-d18a-4f29-ad2d-fd3e67b96245",
   "metadata": {},
   "outputs": [
    {
     "name": "stdout",
     "output_type": "stream",
     "text": [
      "[1. 2. 3. 4.] float32\n"
     ]
    }
   ],
   "source": [
    "arr = np.array([1,2,3,4])\n",
    "arr1 = np.array(arr, dtype= np.float32)\n",
    "print(arr1,arr1.dtype)"
   ]
  },
  {
   "cell_type": "markdown",
   "id": "d14bcd55-cf05-4173-966a-78dbf9bfcad1",
   "metadata": {},
   "source": [
    "5. Given a NumPy array 'arr' with float64 data type, convert it to float32 to reduce decimal precision."
   ]
  },
  {
   "cell_type": "code",
   "execution_count": 7,
   "id": "85b9d733-6a25-4f69-87ba-4ee4dfa6e573",
   "metadata": {},
   "outputs": [
    {
     "name": "stdout",
     "output_type": "stream",
     "text": [
      "Before:  [1. 2. 3. 4.]\n",
      "Datatype:  float64\n",
      "After:  [1. 2. 3. 4.]\n",
      "Datatype:  float32\n"
     ]
    }
   ],
   "source": [
    "arr = np.array([1,2,3,4], dtype = np.float64)\n",
    "arr1 = np.array(arr, dtype= np.float32)\n",
    "print(\"Before: \",arr)\n",
    "print(\"Datatype: \",arr.dtype)\n",
    "print(\"After: \",arr1)\n",
    "print(\"Datatype: \",arr1.dtype)"
   ]
  },
  {
   "cell_type": "markdown",
   "id": "3db9147e-0528-499d-a5e8-df85ffdeb097",
   "metadata": {},
   "source": [
    "6. Write a function array_attributes that takes a NumPy array as input and returns its shape, size, and data type."
   ]
  },
  {
   "cell_type": "code",
   "execution_count": 8,
   "id": "1cfe0b4e-5cd8-4026-8eb2-59d9c7ed2159",
   "metadata": {},
   "outputs": [
    {
     "name": "stdout",
     "output_type": "stream",
     "text": [
      "((3,), 3, dtype('complex128'))\n"
     ]
    }
   ],
   "source": [
    "def array_attributes(arr):\n",
    "    shape = arr.shape\n",
    "    size = arr.size\n",
    "    dtype = arr.dtype\n",
    "    \n",
    "    return shape, size, dtype\n",
    "\n",
    "example_array = np.array([1+2j, 3+4j, 5+6j], dtype=np.complex128)\n",
    "attributes = array_attributes(example_array)\n",
    "print(attributes)"
   ]
  },
  {
   "cell_type": "markdown",
   "id": "9db9c324-205b-4cf9-9012-c4a63c2678a6",
   "metadata": {},
   "source": [
    "7. Create a function array_dimension that takes a NumPy array as input and returns its dimensionality."
   ]
  },
  {
   "cell_type": "code",
   "execution_count": 9,
   "id": "0530eff0-b4ec-41fc-bd62-ff383d8ad3c7",
   "metadata": {},
   "outputs": [
    {
     "name": "stdout",
     "output_type": "stream",
     "text": [
      "1\n"
     ]
    }
   ],
   "source": [
    "def array_dimension(arr):\n",
    "    dim = arr.ndim\n",
    "    return dim\n",
    "\n",
    "example_array = np.array([1+2j, 3+4j, 5+6j], dtype=np.complex128)\n",
    "d = array_dimension(example_array)\n",
    "print(d)"
   ]
  },
  {
   "cell_type": "markdown",
   "id": "e2f0e024-1175-457e-820e-ff5eb86799dd",
   "metadata": {},
   "source": [
    "8. Design a function item_size_info that takes a NumPy array as input and returns the item size and the total size in bytes."
   ]
  },
  {
   "cell_type": "code",
   "execution_count": 10,
   "id": "43d7ec16-6b9e-4334-ad81-30d8c5ec8d19",
   "metadata": {},
   "outputs": [
    {
     "name": "stdout",
     "output_type": "stream",
     "text": [
      "(8, 32)\n"
     ]
    }
   ],
   "source": [
    "def item_size_info(arr):\n",
    "    isize = arr.itemsize\n",
    "    total_bytes = arr.itemsize*arr.size\n",
    "    return isize , total_bytes\n",
    "\n",
    "example_arr = np.array([1,2,3,4,5])\n",
    "e = item_size_info(arr)\n",
    "print(e)"
   ]
  },
  {
   "cell_type": "markdown",
   "id": "ba0c019e-779f-4c24-978e-38a7d86dfc46",
   "metadata": {},
   "source": [
    "9. Create a function array_strides that takes a NumPy array as input and returns the strides of the array."
   ]
  },
  {
   "cell_type": "code",
   "execution_count": 11,
   "id": "fa8e88b6-e1ae-4dae-b64b-de85a68e412d",
   "metadata": {},
   "outputs": [
    {
     "name": "stdout",
     "output_type": "stream",
     "text": [
      "(24, 8)\n"
     ]
    }
   ],
   "source": [
    "def array_strides(arr):\n",
    "    return arr.strides\n",
    "example_arr = np.array([[1, 2, 3], [4, 5, 6], [7, 8, 9]])\n",
    "e = array_strides(example_arr)\n",
    "print(e)"
   ]
  },
  {
   "cell_type": "markdown",
   "id": "d58b5488-9e90-415d-97a6-0b7168860119",
   "metadata": {},
   "source": [
    "10. Design a function shape_stride_relationship that takes a NumPy array as input and returns the shape and strides of the array."
   ]
  },
  {
   "cell_type": "code",
   "execution_count": 12,
   "id": "409ac875-6e91-4545-b603-0e2721517ffb",
   "metadata": {},
   "outputs": [
    {
     "name": "stdout",
     "output_type": "stream",
     "text": [
      "((3, 3), (24, 8))\n"
     ]
    }
   ],
   "source": [
    "def shape_stride_relationship(arr):\n",
    "    shape = arr.shape\n",
    "    strides =  arr.strides\n",
    "    return shape, strides\n",
    "\n",
    "example = np.array([[1,2,3],[2,4,2],[1,4,2]])\n",
    "e = shape_stride_relationship(example)\n",
    "print(e)"
   ]
  },
  {
   "cell_type": "markdown",
   "id": "5c9f3759-a7d1-4c3f-b4e4-f00452fb39f3",
   "metadata": {},
   "source": [
    "11. Create a function `create_zeros_array` that takes an integer `n` as input and returns a NumPy array of zeros with `n` elements."
   ]
  },
  {
   "cell_type": "code",
   "execution_count": 13,
   "id": "96bd1508-994f-4d49-9d01-71d1e1fa0b04",
   "metadata": {},
   "outputs": [
    {
     "name": "stdout",
     "output_type": "stream",
     "text": [
      "[0. 0. 0.]\n"
     ]
    }
   ],
   "source": [
    "def create_zeros_array(n):\n",
    "    return np.zeros(n)\n",
    "x = create_zeros_array(3)\n",
    "print(x)"
   ]
  },
  {
   "cell_type": "markdown",
   "id": "0b67d6a8-a6d1-4c81-b3fd-d0a11a442554",
   "metadata": {},
   "source": [
    "12. Write a function `create_ones_matrix` that takes integers `rows` and `cols` as inputs and generates a 2D NumPy array filled with ones of size `rows x cols`."
   ]
  },
  {
   "cell_type": "code",
   "execution_count": 14,
   "id": "d32386e2-06a0-4c8e-9e50-e12958a46cfe",
   "metadata": {},
   "outputs": [
    {
     "data": {
      "text/plain": [
       "[array([[1., 1., 1.],\n",
       "        [1., 1., 1.]])]"
      ]
     },
     "execution_count": 14,
     "metadata": {},
     "output_type": "execute_result"
    }
   ],
   "source": [
    "def create_ones_matrix(rows,cols):\n",
    "    return np.ones((rows,cols))\n",
    "[create_ones_matrix(2,3)]"
   ]
  },
  {
   "cell_type": "markdown",
   "id": "f98826a6-67c8-4dff-897a-ca6c3c73a5a6",
   "metadata": {},
   "source": [
    "13. Write a function `generate_range_array` that takes three integers start, stop, and step as arguments and creates a NumPy array with a range starting from `start`, ending at stop (exclusive), and with the specified `step`."
   ]
  },
  {
   "cell_type": "code",
   "execution_count": 15,
   "id": "4449745f-4e2c-4f9e-8df8-295a82fcf656",
   "metadata": {},
   "outputs": [
    {
     "data": {
      "text/plain": [
       "[array([1, 3, 5, 7, 9])]"
      ]
     },
     "execution_count": 15,
     "metadata": {},
     "output_type": "execute_result"
    }
   ],
   "source": [
    "def generate_range_array(start,stop,step):\n",
    "    return np.arange(start,stop,step)\n",
    "[generate_range_array(1,10,2)]"
   ]
  },
  {
   "cell_type": "markdown",
   "id": "29de0e39-60e3-42a3-a834-6fd840861669",
   "metadata": {},
   "source": [
    "14. Design a function `generate_linear_space` that takes two floats `start`, `stop`, and an integer `num` asarguments and generates a NumPy array with num equally spaced values between `start` and `stop`(inclusive)."
   ]
  },
  {
   "cell_type": "code",
   "execution_count": 16,
   "id": "6fad4cd9-a2c6-4797-96e5-a8ebf67c41e7",
   "metadata": {},
   "outputs": [
    {
     "data": {
      "text/plain": [
       "[array([0.  , 0.25, 0.5 , 0.75, 1.  ])]"
      ]
     },
     "execution_count": 16,
     "metadata": {},
     "output_type": "execute_result"
    }
   ],
   "source": [
    "def generate_linear_space(start,stop,num):\n",
    "    return np.linspace(start, stop, num)\n",
    "\n",
    "[generate_linear_space(0,1,5)]"
   ]
  },
  {
   "cell_type": "markdown",
   "id": "2589c143-2350-4b42-b7c6-bc579e3602d2",
   "metadata": {},
   "source": [
    "15. Create a function `create_identity_matrix` that takes an integer `n` as input and generates a square identity matrix of size `n x n` using `numpy.eye`."
   ]
  },
  {
   "cell_type": "code",
   "execution_count": 17,
   "id": "9d526521-4718-4a03-8953-c0165f548d12",
   "metadata": {},
   "outputs": [
    {
     "data": {
      "text/plain": [
       "[array([[1., 0., 0.],\n",
       "        [0., 1., 0.],\n",
       "        [0., 0., 1.]])]"
      ]
     },
     "execution_count": 17,
     "metadata": {},
     "output_type": "execute_result"
    }
   ],
   "source": [
    "def create_identity_matrix(n):\n",
    "    return np.eye(n,n)\n",
    "[create_identity_matrix(3)]"
   ]
  },
  {
   "cell_type": "markdown",
   "id": "a54084e3-6398-49f7-ba50-ec770a1d1cb7",
   "metadata": {},
   "source": [
    "16. Write a function that takes a Python list and converts it into a NumPy array."
   ]
  },
  {
   "cell_type": "code",
   "execution_count": 18,
   "id": "0fc8af01-fb32-4958-927d-953bb5737bee",
   "metadata": {},
   "outputs": [
    {
     "data": {
      "text/plain": [
       "[array([1, 2, 3, 3])]"
      ]
     },
     "execution_count": 18,
     "metadata": {},
     "output_type": "execute_result"
    }
   ],
   "source": [
    "def list_to_array(l):\n",
    "    return np.array(l)\n",
    "[list_to_array([1,2,3,3])]"
   ]
  },
  {
   "cell_type": "markdown",
   "id": "a9298208-776e-497e-87e4-e15f63e3885e",
   "metadata": {},
   "source": [
    "17. Create a NumPy array and demonstrate the use of `numpy.view` to create a new array object with the same data."
   ]
  },
  {
   "cell_type": "code",
   "execution_count": 19,
   "id": "842b8919-42bd-4400-8282-f36ca18fe178",
   "metadata": {},
   "outputs": [
    {
     "name": "stdout",
     "output_type": "stream",
     "text": [
      "Original array: [1 2 3 4 5]\n",
      "View array: [1 2 3 4 5]\n"
     ]
    }
   ],
   "source": [
    "original_array = np.array([1, 2, 3, 4, 5])\n",
    "\n",
    "view_array = original_array.view()\n",
    "\n",
    "print(\"Original array:\", original_array)  \n",
    "print(\"View array:\", view_array) "
   ]
  },
  {
   "cell_type": "markdown",
   "id": "a5088da1-21b6-48dc-8bb3-5157355155dd",
   "metadata": {},
   "source": [
    "18. Write a function that takes two NumPy arrays and concatenates them along a specified axis."
   ]
  },
  {
   "cell_type": "code",
   "execution_count": 20,
   "id": "c89798b7-87da-4510-bad7-bbd0b120b0f9",
   "metadata": {},
   "outputs": [
    {
     "data": {
      "text/plain": [
       "[array([[1, 2, 1, 1, 1, 2],\n",
       "        [2, 1, 1, 1, 2, 2],\n",
       "        [1, 2, 2, 1, 1, 2]])]"
      ]
     },
     "execution_count": 20,
     "metadata": {},
     "output_type": "execute_result"
    }
   ],
   "source": [
    "def concat(arr1,arr2):\n",
    "    return np.concatenate([arr1,arr2],axis=1)\n",
    "\n",
    "a1 = np.array([[1,2,1],[2,1,1],[1,2,2]])\n",
    "a2 = np.array([[1,1,2],[1,2,2],[1,1,2]])\n",
    "[concat(a1,a2)]"
   ]
  },
  {
   "cell_type": "markdown",
   "id": "314bb697-128a-4c0f-9372-d80aea9073c5",
   "metadata": {},
   "source": [
    "19. Create two NumPy arrays with different shapes and concatenate them horizontally using `numpy.concatenate`."
   ]
  },
  {
   "cell_type": "code",
   "execution_count": 21,
   "id": "45e1a9c8-5ff6-45e3-964f-c9f3b5335c37",
   "metadata": {},
   "outputs": [
    {
     "name": "stdout",
     "output_type": "stream",
     "text": [
      "[[ 1  2  3  7  8]\n",
      " [ 4  5  6  9 10]]\n"
     ]
    }
   ],
   "source": [
    "array1 = np.array([[1, 2, 3], [4, 5, 6]])\n",
    "array2 = np.array([[7, 8], [9, 10]])\n",
    "\n",
    "concatenated_array = np.concatenate((array1, array2), axis=1)\n",
    "print(concatenated_array)"
   ]
  },
  {
   "cell_type": "markdown",
   "id": "e0bee55a-8d0c-4aeb-a07b-4a8eaccf38d7",
   "metadata": {},
   "source": [
    "20. Write a function that vertically stacks multiple NumPy arrays given as a list."
   ]
  },
  {
   "cell_type": "code",
   "execution_count": 22,
   "id": "f689f06b-a9f0-46d4-93ff-678ff9d00182",
   "metadata": {},
   "outputs": [
    {
     "name": "stdout",
     "output_type": "stream",
     "text": [
      "[[ 1  2]\n",
      " [ 3  4]\n",
      " [ 5  6]\n",
      " [ 7  8]\n",
      " [ 9 10]\n",
      " [11 12]]\n"
     ]
    }
   ],
   "source": [
    "def stack_arrays_vertically(arrays):\n",
    "    return np.vstack(arrays)\n",
    "\n",
    "array1 = np.array([[1, 2], [3, 4]])\n",
    "array2 = np.array([[5, 6], [7, 8]])\n",
    "array3 = np.array([[9, 10], [11, 12]])\n",
    "\n",
    "stacked_array = stack_arrays_vertically([array1, array2, array3])\n",
    "print(stacked_array)"
   ]
  },
  {
   "cell_type": "markdown",
   "id": "9140f23c-1d9b-4225-8342-ed65390a29af",
   "metadata": {},
   "source": [
    "21. Write a Python function using NumPy to create an array of integers within a specified range (inclusive) with a given step size."
   ]
  },
  {
   "cell_type": "code",
   "execution_count": 23,
   "id": "3f783ff2-1f4e-4899-9c36-c9be553847a8",
   "metadata": {},
   "outputs": [
    {
     "data": {
      "text/plain": [
       "[array([1, 3, 5, 7, 9])]"
      ]
     },
     "execution_count": 23,
     "metadata": {},
     "output_type": "execute_result"
    }
   ],
   "source": [
    "def func1(start,stop,step):\n",
    "    if step > 0:\n",
    "        return np.arange(start, stop + 1, step)\n",
    "    if step < 0:\n",
    "        return np.arange(start, stop - 1, step)\n",
    "[func1(1,10,2)]"
   ]
  },
  {
   "cell_type": "markdown",
   "id": "5537aa97-bf07-478a-b110-4a9b7513e371",
   "metadata": {},
   "source": [
    "22. Write a Python function using NumPy to generate an array of 10 equally spaced values between 0 and 1 (inclusive)."
   ]
  },
  {
   "cell_type": "code",
   "execution_count": 24,
   "id": "c6ddf9f7-1ff0-4f3e-96ee-9ef14feb9473",
   "metadata": {},
   "outputs": [
    {
     "data": {
      "text/plain": [
       "array([0.        , 0.11111111, 0.22222222, 0.33333333, 0.44444444,\n",
       "       0.55555556, 0.66666667, 0.77777778, 0.88888889, 1.        ])"
      ]
     },
     "execution_count": 24,
     "metadata": {},
     "output_type": "execute_result"
    }
   ],
   "source": [
    "def func2(start,stop):\n",
    "    return np.linspace(0, 1, 10)\n",
    "\n",
    "func2(0,10)    "
   ]
  },
  {
   "cell_type": "markdown",
   "id": "d402f342-9f10-4c0e-b69a-040c62c3043e",
   "metadata": {},
   "source": [
    "23. Write a Python function using NumPy to create an array of 5 logarithmically spaced values between 1 and 1000 (inclusive)."
   ]
  },
  {
   "cell_type": "code",
   "execution_count": 25,
   "id": "6da3f6be-5f78-4627-82cb-5e1cfd6c2a62",
   "metadata": {},
   "outputs": [
    {
     "data": {
      "text/plain": [
       "array([   1.        ,    5.62341325,   31.6227766 ,  177.827941  ,\n",
       "       1000.        ])"
      ]
     },
     "execution_count": 25,
     "metadata": {},
     "output_type": "execute_result"
    }
   ],
   "source": [
    "def func3(start,stop):\n",
    "    return np.logspace(0,3,5)\n",
    "func3(0,1000)"
   ]
  },
  {
   "cell_type": "markdown",
   "id": "e8322d5b-871a-4c66-a7f8-b2a2041af11d",
   "metadata": {},
   "source": [
    "24. Create a Pandas DataFrame using a NumPy array that contains 5 rows and 3 columns, where the values are random integers between 1 and 100."
   ]
  },
  {
   "cell_type": "code",
   "execution_count": 26,
   "id": "0a348c4a-7292-4130-83c4-04b953e18d74",
   "metadata": {},
   "outputs": [
    {
     "data": {
      "text/plain": [
       "[   0  1  2\n",
       " 0  1  2  3\n",
       " 1  2  3  4\n",
       " 2  2  1  4\n",
       " 3  3  1  2\n",
       " 4  1  3  2]"
      ]
     },
     "execution_count": 26,
     "metadata": {},
     "output_type": "execute_result"
    }
   ],
   "source": [
    "arr_x = np.array([[1,2,3],[2,3,4],[2,1,4],[3,1,2],[1,3,2]])\n",
    "df = pd.DataFrame(arr_x)\n",
    "[df]"
   ]
  },
  {
   "cell_type": "markdown",
   "id": "d280b3d3-bbc8-4104-bae6-d87b9d3f4f84",
   "metadata": {},
   "source": [
    "25. Write a function that takes a Pandas DataFrame and replaces all negative values in a specific column with zeros. Use NumPy operations within the Pandas DataFrame."
   ]
  },
  {
   "cell_type": "code",
   "execution_count": 27,
   "id": "40b01615-bc06-43be-a1e1-321a7bad5435",
   "metadata": {},
   "outputs": [
    {
     "data": {
      "text/html": [
       "<div>\n",
       "<style scoped>\n",
       "    .dataframe tbody tr th:only-of-type {\n",
       "        vertical-align: middle;\n",
       "    }\n",
       "\n",
       "    .dataframe tbody tr th {\n",
       "        vertical-align: top;\n",
       "    }\n",
       "\n",
       "    .dataframe thead th {\n",
       "        text-align: right;\n",
       "    }\n",
       "</style>\n",
       "<table border=\"1\" class=\"dataframe\">\n",
       "  <thead>\n",
       "    <tr style=\"text-align: right;\">\n",
       "      <th></th>\n",
       "      <th>0</th>\n",
       "      <th>1</th>\n",
       "      <th>2</th>\n",
       "    </tr>\n",
       "  </thead>\n",
       "  <tbody>\n",
       "    <tr>\n",
       "      <th>0</th>\n",
       "      <td>1</td>\n",
       "      <td>2</td>\n",
       "      <td>0</td>\n",
       "    </tr>\n",
       "    <tr>\n",
       "      <th>1</th>\n",
       "      <td>2</td>\n",
       "      <td>3</td>\n",
       "      <td>0</td>\n",
       "    </tr>\n",
       "    <tr>\n",
       "      <th>2</th>\n",
       "      <td>2</td>\n",
       "      <td>1</td>\n",
       "      <td>0</td>\n",
       "    </tr>\n",
       "    <tr>\n",
       "      <th>3</th>\n",
       "      <td>3</td>\n",
       "      <td>1</td>\n",
       "      <td>0</td>\n",
       "    </tr>\n",
       "    <tr>\n",
       "      <th>4</th>\n",
       "      <td>1</td>\n",
       "      <td>3</td>\n",
       "      <td>0</td>\n",
       "    </tr>\n",
       "  </tbody>\n",
       "</table>\n",
       "</div>"
      ],
      "text/plain": [
       "   0  1  2\n",
       "0  1  2  0\n",
       "1  2  3  0\n",
       "2  2  1  0\n",
       "3  3  1  0\n",
       "4  1  3  0"
      ]
     },
     "execution_count": 27,
     "metadata": {},
     "output_type": "execute_result"
    }
   ],
   "source": [
    "import pandas as pd\n",
    "def func4(df,col_name):\n",
    "    df[col_name] = np.where(df[col_name] < 0, 0, df[col_name])\n",
    "    return df\n",
    "ar = np.array([[1,2,-3],[2,3,-4],[2,1,-4],[3,1,-2],[1,3,-2]])\n",
    "df_test = pd.DataFrame(ar)\n",
    "func4(df_test,2)"
   ]
  },
  {
   "attachments": {
    "46e51f43-65b9-496e-ad16-83784cf81631.png": {
     "image/png": "[encoded data removed]"
    }
   },
   "cell_type": "markdown",
   "id": "a9f969a1-ae21-4b2a-808d-8da9436e4270",
   "metadata": {},
   "source": [
    "26. Access the 3rd element from the given NumPy array.\n",
    "![image.png](attachment:46e51f43-65b9-496e-ad16-83784cf81631.png)"
   ]
  },
  {
   "cell_type": "code",
   "execution_count": 28,
   "id": "b054a113-326c-4e30-b9ab-1ca40b9c2844",
   "metadata": {},
   "outputs": [
    {
     "data": {
      "text/plain": [
       "30"
      ]
     },
     "execution_count": 28,
     "metadata": {},
     "output_type": "execute_result"
    }
   ],
   "source": [
    "arr = np.array([10,20,30,40,50])\n",
    "arr[2]"
   ]
  },
  {
   "attachments": {
    "8fce8d7a-3c59-4b42-bb84-7fd6b580adb1.png": {
     "image/png": "[encoded data removed]"
    }
   },
   "cell_type": "markdown",
   "id": "596892d2-ba27-4fe9-9927-6660ea2e8fcc",
   "metadata": {},
   "source": [
    "27. Retrieve the element at index (1, 2) from the 2D NumPy array.\n",
    "![image.png](attachment:8fce8d7a-3c59-4b42-bb84-7fd6b580adb1.png)"
   ]
  },
  {
   "cell_type": "code",
   "execution_count": 29,
   "id": "a38556a6-e289-4ab7-ae3c-76ba3074c0de",
   "metadata": {},
   "outputs": [
    {
     "data": {
      "text/plain": [
       "6"
      ]
     },
     "execution_count": 29,
     "metadata": {},
     "output_type": "execute_result"
    }
   ],
   "source": [
    "arr_2d = np.array([[1,2,3],[4,5,6],[7,8,9]])\n",
    "arr_2d[1,2]"
   ]
  },
  {
   "attachments": {
    "6bb9f8d4-79df-4ced-b1d4-a27dae6cbcd8.png": {
     "image/png": "[encoded data removed]"
    }
   },
   "cell_type": "markdown",
   "id": "10229176-a228-4a11-9056-b520f49c4674",
   "metadata": {},
   "source": [
    "28. Using boolean indexing, extract elements greater than 5 from the given NumPy array.\n",
    "![image.png](attachment:6bb9f8d4-79df-4ced-b1d4-a27dae6cbcd8.png)"
   ]
  },
  {
   "cell_type": "code",
   "execution_count": 30,
   "id": "8adb602b-ecfe-43fb-abc3-481d96880b27",
   "metadata": {},
   "outputs": [
    {
     "data": {
      "text/plain": [
       "array([ 8, 10,  7])"
      ]
     },
     "execution_count": 30,
     "metadata": {},
     "output_type": "execute_result"
    }
   ],
   "source": [
    "arr = np.array([3,8,2,10,5,7])\n",
    "arr[np.where(arr>5)]"
   ]
  },
  {
   "attachments": {
    "58d5e3d4-c51a-4a6d-be87-0fa354dbed82.png": {
     "image/png": "[encoded data removed]"
    }
   },
   "cell_type": "markdown",
   "id": "4a8a82c2-26c4-4aa3-94d6-a21dd5ec45f0",
   "metadata": {},
   "source": [
    "29. Perform basic slicing to extract elements from index 2 to 5 (inclusive) from the given NumPy array.\n",
    "![image.png](attachment:58d5e3d4-c51a-4a6d-be87-0fa354dbed82.png)"
   ]
  },
  {
   "cell_type": "code",
   "execution_count": 31,
   "id": "ce0a2217-f798-4ec4-b9ec-366dc543403d",
   "metadata": {},
   "outputs": [
    {
     "data": {
      "text/plain": [
       "array([3, 4, 5, 6])"
      ]
     },
     "execution_count": 31,
     "metadata": {},
     "output_type": "execute_result"
    }
   ],
   "source": [
    "arr = np.array([1,2,3,4,5,6,7,8,9])\n",
    "arr[2:6]"
   ]
  },
  {
   "attachments": {
    "d025cf70-3d81-4476-9f44-ba69e2b3dd00.png": {
     "image/png": "[encoded data removed]"
    }
   },
   "cell_type": "markdown",
   "id": "70cde8b8-418b-4bc4-9f94-0191336e2298",
   "metadata": {},
   "source": [
    "30. Slice the 2D NumPy array to extract the sub-array `[[2, 3], [5, 6]]` from the given array.\n",
    "![image.png](attachment:d025cf70-3d81-4476-9f44-ba69e2b3dd00.png)"
   ]
  },
  {
   "cell_type": "code",
   "execution_count": 32,
   "id": "e4c61d96-d457-420f-bf3f-60510adc16ca",
   "metadata": {},
   "outputs": [
    {
     "data": {
      "text/plain": [
       "array([[2, 3],\n",
       "       [5, 6]])"
      ]
     },
     "execution_count": 32,
     "metadata": {},
     "output_type": "execute_result"
    }
   ],
   "source": [
    "arr_2d = np.array([[1,2,3],[4,5,6],[7,8,9]])\n",
    "arr_2d[0:2,1:]"
   ]
  },
  {
   "cell_type": "markdown",
   "id": "071ecc7a-d710-410f-be91-688ee67cd9d2",
   "metadata": {},
   "source": [
    "31. Write a NumPy function to extract elements in specific order from a given 2D array based on indices provided in another array."
   ]
  },
  {
   "cell_type": "code",
   "execution_count": 33,
   "id": "d2844638-e1c8-4701-be34-8f605c1c3719",
   "metadata": {},
   "outputs": [
    {
     "data": {
      "text/plain": [
       "array([2, 6, 7])"
      ]
     },
     "execution_count": 33,
     "metadata": {},
     "output_type": "execute_result"
    }
   ],
   "source": [
    "def extract_elements(a,i):\n",
    "    r=i[:,0] \n",
    "    c=i[:,1]\n",
    "    extracted_elements = a[r,c]\n",
    "    return extracted_elements    \n",
    "\n",
    "arr = np.array([[1, 2, 3], \n",
    "                [4, 5, 6], \n",
    "                [7, 8, 9]])\n",
    "\n",
    "indices = np.array([[0, 1], \n",
    "                    [1, 2], \n",
    "                    [2, 0]])\n",
    "\n",
    "extract_elements(arr,indices)"
   ]
  },
  {
   "cell_type": "markdown",
   "id": "3e007e4c-da29-46a7-9750-25012b310a7b",
   "metadata": {},
   "source": [
    "32. Create a NumPy function that filters elements greater than a threshold from a given 1D array using boolean indexing."
   ]
  },
  {
   "cell_type": "code",
   "execution_count": 34,
   "id": "35c1b20e-a8fd-4ae1-969a-48e64214e411",
   "metadata": {},
   "outputs": [
    {
     "data": {
      "text/plain": [
       "array([8, 7, 8])"
      ]
     },
     "execution_count": 34,
     "metadata": {},
     "output_type": "execute_result"
    }
   ],
   "source": [
    "def filter_elements(a):\n",
    "    filtered_elements = a[a>5]\n",
    "    return filtered_elements\n",
    "\n",
    "arr = np.array([2,4,8,7,5,8,4,3])\n",
    "filter_elements(arr)"
   ]
  },
  {
   "cell_type": "markdown",
   "id": "ddcff886-7f2c-4cff-8ecb-45e725530f03",
   "metadata": {},
   "source": [
    "33. Develop a NumPy function that extracts specific elements from a 3D array using indices provided in three separate arrays for each dimension."
   ]
  },
  {
   "cell_type": "code",
   "execution_count": 35,
   "id": "3a4358fc-6166-4346-a749-36406b0e2160",
   "metadata": {},
   "outputs": [
    {
     "data": {
      "text/plain": [
       "array([ 5, 16, 18])"
      ]
     },
     "execution_count": 35,
     "metadata": {},
     "output_type": "execute_result"
    }
   ],
   "source": [
    "def extract_specific_elements(a,i1,i2,i3):\n",
    "    extracted_elements = a[i1,i2,i3]\n",
    "    return extracted_elements\n",
    "\n",
    "arr = np.array([[[ 0,  1,  2],\n",
    "                 [ 3,  4,  5],\n",
    "                 [ 6,  7,  8]],\n",
    "                \n",
    "                [[ 9, 10, 11],\n",
    "                 [12, 13, 14],\n",
    "                 [15, 16, 17]],\n",
    "                \n",
    "                [[18, 19, 20],\n",
    "                 [21, 22, 23],\n",
    "                 [24, 25, 26]]])\n",
    "\n",
    "indice1 = [0, 1, 2]\n",
    "indice2 = [1, 2, 0]\n",
    "indice3 = [2, 1, 0]\n",
    "extract_specific_elements(arr,indice1,indice2,indice3)"
   ]
  },
  {
   "cell_type": "markdown",
   "id": "bed60dd6-050b-465a-be68-bae3f960f092",
   "metadata": {},
   "source": [
    "34. Write a NumPy function that returns elements from an array where both two conditions are satisfied using boolean indexing."
   ]
  },
  {
   "cell_type": "code",
   "execution_count": 36,
   "id": "fc7dbc85-e23c-45b7-a860-38414fef249d",
   "metadata": {},
   "outputs": [
    {
     "name": "stdout",
     "output_type": "stream",
     "text": [
      "[4 5 6 7]\n"
     ]
    }
   ],
   "source": [
    "def con(arr,con1,con2):\n",
    "    mask = con1(arr) & con2(arr)\n",
    "    filtered_elements = arr[mask]\n",
    "    \n",
    "    return filtered_elements\n",
    "\n",
    "arr = np.array([1, 2, 3, 4, 5, 6, 7, 8, 9, 10])\n",
    "condition1 = lambda x: x > 3\n",
    "condition2 = lambda x: x < 8\n",
    "\n",
    "filtered_elements = con(arr, condition1, condition2)\n",
    "print(filtered_elements)"
   ]
  },
  {
   "cell_type": "markdown",
   "id": "148e8a0a-5ac1-45e5-b6e9-cc5d44ab1620",
   "metadata": {},
   "source": [
    "35. Create a NumPy function that extracts elements from a 2D array using row and column indices provided in separate arrays."
   ]
  },
  {
   "cell_type": "code",
   "execution_count": 37,
   "id": "6a0114fb-92ba-47e6-8180-a25f2820376e",
   "metadata": {},
   "outputs": [
    {
     "ename": "NameError",
     "evalue": "name 'r' is not defined",
     "output_type": "error",
     "traceback": [
      "\u001b[0;31m---------------------------------------------------------------------------\u001b[0m",
      "\u001b[0;31mNameError\u001b[0m                                 Traceback (most recent call last)",
      "Cell \u001b[0;32mIn[37], line 12\u001b[0m\n\u001b[1;32m      9\u001b[0m row_a \u001b[38;5;241m=\u001b[39m np\u001b[38;5;241m.\u001b[39marray([\u001b[38;5;241m1\u001b[39m,\u001b[38;5;241m2\u001b[39m,\u001b[38;5;241m1\u001b[39m])\n\u001b[1;32m     10\u001b[0m col_a \u001b[38;5;241m=\u001b[39m np\u001b[38;5;241m.\u001b[39marray([\u001b[38;5;241m0\u001b[39m,\u001b[38;5;241m1\u001b[39m,\u001b[38;5;241m0\u001b[39m])\n\u001b[0;32m---> 12\u001b[0m extract_elements_using_rc(arr,\u001b[43mr\u001b[49m,c)\n",
      "\u001b[0;31mNameError\u001b[0m: name 'r' is not defined"
     ]
    }
   ],
   "source": [
    "def extract_elements_using_rc(a,r,c):\n",
    "    \n",
    "    extracted_elements = arr[r,c]\n",
    "    return extracted_elements\n",
    "    \n",
    "arr = np.array([[1,2,3],\n",
    "                [2,3,4],\n",
    "                [3,4,5]])\n",
    "row_a = np.array([1,2,1])\n",
    "col_a = np.array([0,1,0])\n",
    "\n",
    "extract_elements_using_rc(arr,r,c)"
   ]
  },
  {
   "cell_type": "markdown",
   "id": "56cf5f76-5cbe-450f-93be-0e613d352a63",
   "metadata": {},
   "source": [
    "36. Given an array arr of shape (3, 3), add a scalar value of 5 to each element using NumPy broadcasting."
   ]
  },
  {
   "cell_type": "code",
   "execution_count": null,
   "id": "5a68d0bf-90fa-4656-86e3-f1541c92c760",
   "metadata": {},
   "outputs": [],
   "source": [
    "arr = np.arange(9).reshape(3, 3)\n",
    "print(arr)\n",
    "arr2 = arr+5\n",
    "print(arr2)"
   ]
  },
  {
   "cell_type": "markdown",
   "id": "3731ba43-3dcd-44dd-81a8-a6f54bac886c",
   "metadata": {},
   "source": [
    "37. Consider two arrays arr1 of shape (1, 3) and arr2 of shape (3, 4). Multiply each row of arr2 by the corresponding element in arr1 using NumPy broadcasting."
   ]
  },
  {
   "cell_type": "code",
   "execution_count": null,
   "id": "61f212d0-a539-41a6-9c5f-17ffd01979e0",
   "metadata": {},
   "outputs": [],
   "source": [
    "arr1 = np.arange(4,7).reshape(1,3)\n",
    "arr2 = np.arange(1,13).reshape(3,4).T\n",
    "arr2*arr1"
   ]
  },
  {
   "cell_type": "markdown",
   "id": "77fbc1e8-debf-4d79-a153-73976199f45f",
   "metadata": {},
   "source": [
    "38. Given a 1D array arr1 of shape (1, 4) and a 2D array arr2 of shape (4, 3), add arr1 to each row of arr2 using NumPy broadcasting."
   ]
  },
  {
   "cell_type": "code",
   "execution_count": null,
   "id": "d08058f4-4495-4006-8bab-52f64d68c8a0",
   "metadata": {},
   "outputs": [],
   "source": [
    "given_arr1 = np.arange(1,5).reshape(1,4)\n",
    "given_arr2 = np.arange(1,13).reshape(4,3)\n",
    "given_arr1.T+given_arr2"
   ]
  },
  {
   "cell_type": "markdown",
   "id": "e241ef20-a773-4951-92e2-7f2ea340b523",
   "metadata": {},
   "source": [
    "39. Consider two arrays arr1 of shape (3, 1) and arr2 of shape (1, 3). Add these arrays using NumPy broadcasting."
   ]
  },
  {
   "cell_type": "code",
   "execution_count": 38,
   "id": "8ca414ff-375d-42fa-b262-dd5878506318",
   "metadata": {},
   "outputs": [
    {
     "name": "stdout",
     "output_type": "stream",
     "text": [
      "[[2 4 6]]\n"
     ]
    }
   ],
   "source": [
    "arr1 = np.array([[1,2,3]])\n",
    "arr2 = np.array([[1],\n",
    "                 [2],\n",
    "                 [3]])\n",
    "addition = arr1+arr2.T\n",
    "print(addition)"
   ]
  },
  {
   "cell_type": "markdown",
   "id": "a7d4fd73-3bc6-4614-88a1-b61dc9b047a3",
   "metadata": {},
   "source": [
    "40. Given arrays arr1 of shape (2, 3) and arr2 of shape (2, 2), perform multiplication using NumPy broadcasting. Handle the shape incompatibility."
   ]
  },
  {
   "cell_type": "code",
   "execution_count": 39,
   "id": "7406176c-be31-4d40-b50e-681103749d58",
   "metadata": {},
   "outputs": [
    {
     "data": {
      "text/plain": [
       "array([[[ 0,  0],\n",
       "        [ 0,  1],\n",
       "        [ 0,  2]],\n",
       "\n",
       "       [[ 6,  9],\n",
       "        [ 8, 12],\n",
       "        [10, 15]]])"
      ]
     },
     "execution_count": 39,
     "metadata": {},
     "output_type": "execute_result"
    }
   ],
   "source": [
    "a1 = np.arange(6).reshape(2,3)\n",
    "a2 = np.arange(4).reshape(2,2)\n",
    "a1_re = a1.reshape(2,3,1)\n",
    "a2_re = a2.reshape(2,1,2)\n",
    "a1_re*a2_re"
   ]
  },
  {
   "attachments": {
    "a1cf02b2-5c8a-4ebf-b4b0-5fc962014966.png": {
     "image/png": "[encoded data removed]"
    }
   },
   "cell_type": "markdown",
   "id": "2148819f-837f-4f42-85bb-51247d1b3750",
   "metadata": {},
   "source": [
    "41. Calculate column wise mean for the given array:\n",
    "![image.png](attachment:a1cf02b2-5c8a-4ebf-b4b0-5fc962014966.png)"
   ]
  },
  {
   "cell_type": "code",
   "execution_count": 40,
   "id": "81a3b51b-55fd-44f9-8c7c-6b6ef694b80f",
   "metadata": {},
   "outputs": [
    {
     "data": {
      "text/plain": [
       "array([2.5, 3.5, 4.5])"
      ]
     },
     "execution_count": 40,
     "metadata": {},
     "output_type": "execute_result"
    }
   ],
   "source": [
    "arr = np.array([[1,2,3],[4,5,6]])\n",
    "np.mean(arr,axis=0)"
   ]
  },
  {
   "attachments": {
    "22d1a9d2-5b2b-4339-aace-1a7ec7cee907.png": {
     "image/png": "[encoded data removed]"
    }
   },
   "cell_type": "markdown",
   "id": "62fcbb3e-aa54-448a-bb8c-d338be6a963c",
   "metadata": {},
   "source": [
    "42. Find maximum value in each row of the given array:\n",
    "![image.png](attachment:22d1a9d2-5b2b-4339-aace-1a7ec7cee907.png)"
   ]
  },
  {
   "cell_type": "code",
   "execution_count": 41,
   "id": "74b4555d-06f6-4673-9542-1f60524336c4",
   "metadata": {},
   "outputs": [
    {
     "data": {
      "text/plain": [
       "array([3, 6])"
      ]
     },
     "execution_count": 41,
     "metadata": {},
     "output_type": "execute_result"
    }
   ],
   "source": [
    "np.max(arr,axis=1)"
   ]
  },
  {
   "attachments": {
    "60073d33-6889-45a9-93ea-fe936f739744.png": {
     "image/png": "[encoded data removed]"
    }
   },
   "cell_type": "markdown",
   "id": "0a5714bf-753d-4361-89b8-110d6350a949",
   "metadata": {},
   "source": [
    "43. For the given array, find indices of maximum value in each column.\n",
    "![image.png](attachment:60073d33-6889-45a9-93ea-fe936f739744.png)"
   ]
  },
  {
   "cell_type": "code",
   "execution_count": 42,
   "id": "b4cf151e-0a59-4c05-9091-8a6ed5e6e4d4",
   "metadata": {},
   "outputs": [
    {
     "data": {
      "text/plain": [
       "array([1, 1, 1])"
      ]
     },
     "execution_count": 42,
     "metadata": {},
     "output_type": "execute_result"
    }
   ],
   "source": [
    "np.argmax(arr,axis=0)"
   ]
  },
  {
   "attachments": {
    "81de8286-6459-41ba-a8a6-85dfc9899525.png": {
     "image/png": "[encoded data removed]"
    }
   },
   "cell_type": "markdown",
   "id": "27c7ca67-30a9-4f2a-8ee5-18cc0753bceb",
   "metadata": {},
   "source": [
    "44. For the given array, apply custom function to calculate moving sum along rows.\n",
    "![image.png](attachment:81de8286-6459-41ba-a8a6-85dfc9899525.png)"
   ]
  },
  {
   "cell_type": "code",
   "execution_count": 43,
   "id": "0e3e83b8-b629-4da4-b0e5-4f207d3d994e",
   "metadata": {},
   "outputs": [
    {
     "data": {
      "text/plain": [
       "array([ 6, 15])"
      ]
     },
     "execution_count": 43,
     "metadata": {},
     "output_type": "execute_result"
    }
   ],
   "source": [
    "np.sum(arr,axis=1)"
   ]
  },
  {
   "attachments": {
    "f6ecb0c9-62d9-45c0-9d69-7eb9951eb007.png": {
     "image/png": "[encoded data removed]"
    }
   },
   "cell_type": "markdown",
   "id": "824a61bd-32ce-4382-8545-c3c4990f7da1",
   "metadata": {},
   "source": [
    "45. In the given array, check if all elements in each column are even.\n",
    "![image.png](attachment:f6ecb0c9-62d9-45c0-9d69-7eb9951eb007.png)"
   ]
  },
  {
   "cell_type": "code",
   "execution_count": 44,
   "id": "296f10b0-cac8-45be-a65c-eb681a9ed582",
   "metadata": {},
   "outputs": [
    {
     "name": "stdout",
     "output_type": "stream",
     "text": [
      "False\n",
      "False\n"
     ]
    }
   ],
   "source": [
    "import numpy as np\n",
    "import pandas as pd\n",
    "arr1 = np.array([[2, 4, 6], [3, 5, 7]])\n",
    "arr2 = np.array([[2,4,6],[4,6,8]])\n",
    "\n",
    "x, y = np.shape(arr1)\n",
    "x1,y1 = np.shape(arr2)\n",
    "def is_even(A, Y):\n",
    "    for i in range(Y):\n",
    "        if not df.iloc[:, i].apply(lambda x: x % 2 == 0).all():\n",
    "            return False\n",
    "    return True\n",
    "\n",
    "print(is_even(arr1, y))\n",
    "print(is_even(arr2,y1))"
   ]
  },
  {
   "attachments": {
    "bac9be4a-b341-49fc-bce7-40a347aa17f0.png": {
     "image/png": "[encoded data removed]"
    }
   },
   "cell_type": "markdown",
   "id": "d8fc5e4d-b45d-4946-8636-744b9b73fd85",
   "metadata": {},
   "source": [
    "46. Given a NumPy array arr, reshape it into a matrix of dimensions `m` rows and `n` columns. Return the reshaped matrix.\n",
    "![image.png](attachment:bac9be4a-b341-49fc-bce7-40a347aa17f0.png)"
   ]
  },
  {
   "cell_type": "code",
   "execution_count": 45,
   "id": "0b5cb8b0-1df7-4ee1-a5b5-3b4345b1bdb0",
   "metadata": {},
   "outputs": [
    {
     "data": {
      "text/plain": [
       "[array([[1, 2, 3],\n",
       "        [4, 5, 6]])]"
      ]
     },
     "execution_count": 45,
     "metadata": {},
     "output_type": "execute_result"
    }
   ],
   "source": [
    "original_array = np.array([1,2,3,4,5,6])\n",
    "reshaped_array = np.reshape(original_array,(2,3))\n",
    "[reshaped_array]"
   ]
  },
  {
   "attachments": {
    "047c41d1-cfa8-418d-8803-6fdd3e42e111.png": {
     "image/png": "[encoded data removed]"
    }
   },
   "cell_type": "markdown",
   "id": "5151deaf-f945-49c3-b686-a89e805390bd",
   "metadata": {},
   "source": [
    "47. Create a function that takes a matrix as input and returns the flattened array.\n",
    "![image.png](attachment:047c41d1-cfa8-418d-8803-6fdd3e42e111.png)"
   ]
  },
  {
   "cell_type": "code",
   "execution_count": 46,
   "id": "a11ff050-8ed9-4ef2-b468-722c7749a101",
   "metadata": {},
   "outputs": [
    {
     "data": {
      "text/plain": [
       "array([1, 2, 3, 4, 5, 6])"
      ]
     },
     "execution_count": 46,
     "metadata": {},
     "output_type": "execute_result"
    }
   ],
   "source": [
    "original_array = np.array([[1,2,3],[4,5,6]])\n",
    "def flat_matrix(m):\n",
    "    return m.flatten()\n",
    "flat_matrix(original_array)"
   ]
  },
  {
   "attachments": {
    "6ebc97e6-69b6-4bff-af37-246633e5bbd6.png": {
     "image/png": "[encoded data removed]"
    }
   },
   "cell_type": "markdown",
   "id": "92710c23-6e56-45ad-abee-ef6ec83b6273",
   "metadata": {},
   "source": [
    "48. Write a function that concatenates two given arrays along a specified axis.\n",
    "![image.png](attachment:6ebc97e6-69b6-4bff-af37-246633e5bbd6.png)"
   ]
  },
  {
   "cell_type": "code",
   "execution_count": 47,
   "id": "0bff8d02-3df3-4686-be98-b8e9a8104ec7",
   "metadata": {},
   "outputs": [
    {
     "data": {
      "text/plain": [
       "array([[ 6,  8],\n",
       "       [10, 12]])"
      ]
     },
     "execution_count": 47,
     "metadata": {},
     "output_type": "execute_result"
    }
   ],
   "source": [
    "def concatenate_arrays(arr1,arr2):\n",
    "    return np.array(arr1+arr2)\n",
    "\n",
    "array1 = np.array([[1,2],[3,4]])\n",
    "array2 = np.array([[5,6],[7,8]])\n",
    "\n",
    "concatenate_arrays(array1,array2)"
   ]
  },
  {
   "attachments": {
    "c208047b-1b6f-4b06-8d62-8735707ae8ab.png": {
     "image/png": "[encoded data removed]"
    }
   },
   "cell_type": "markdown",
   "id": "36e26f28-1032-4265-b1fb-a4c532cf1866",
   "metadata": {},
   "source": [
    "49. Create a function that splits an array into multiple sub-arrays along a specified axis.\n",
    "![image.png](attachment:c208047b-1b6f-4b06-8d62-8735707ae8ab.png)"
   ]
  },
  {
   "cell_type": "code",
   "execution_count": 48,
   "id": "e4bfaa3b-2b4c-4c33-a8bd-4d8a79a64ab2",
   "metadata": {},
   "outputs": [
    {
     "data": {
      "text/plain": [
       "([array([[1, 2, 3]]), array([[4, 5, 6]]), array([[7, 8, 9]])],\n",
       " [array([[1],\n",
       "         [4],\n",
       "         [7]]),\n",
       "  array([[2],\n",
       "         [5],\n",
       "         [8]]),\n",
       "  array([[3],\n",
       "         [6],\n",
       "         [9]])])"
      ]
     },
     "execution_count": 48,
     "metadata": {},
     "output_type": "execute_result"
    }
   ],
   "source": [
    "def func_split(arr):\n",
    "    split_arr_vertically = np.vsplit(arr,3)\n",
    "    split_arr_horizontally = np.hsplit(arr,3)\n",
    "    return split_arr_vertically,split_arr_horizontally\n",
    "    \n",
    "original_array = np.array([[1,2,3],[4,5,6],[7,8,9]])\n",
    "func_split(original_array)"
   ]
  },
  {
   "attachments": {
    "7395c8a2-e326-4203-adee-347f96a063bd.png": {
     "image/png": "[encoded data removed]"
    }
   },
   "cell_type": "markdown",
   "id": "34b90504-5218-4778-aa92-1843c8966e9f",
   "metadata": {},
   "source": [
    "50. Write a function that inserts and then deletes elements from a given array at specified indices.\n",
    "![image.png](attachment:7395c8a2-e326-4203-adee-347f96a063bd.png)"
   ]
  },
  {
   "cell_type": "code",
   "execution_count": 49,
   "id": "74406b49-bdbc-4078-b0ac-2755563db8f0",
   "metadata": {},
   "outputs": [
    {
     "data": {
      "text/plain": [
       "array([1, 3, 5])"
      ]
     },
     "execution_count": 49,
     "metadata": {},
     "output_type": "execute_result"
    }
   ],
   "source": [
    "def func_id(arr,i_i,v_i,i_d):\n",
    "    res = np.insert(arr,i_i,v_i)\n",
    "    res = np.delete(arr,i_d)\n",
    "    return res\n",
    "\n",
    "original_array = np.array([1,2,3,4,5])\n",
    "indices_to_insert = [2,4]\n",
    "values_to_insert = [10,11]\n",
    "indices_to_delete = [1,3]\n",
    "\n",
    "func_id(original_array,indices_to_insert,values_to_insert,indices_to_delete)"
   ]
  },
  {
   "cell_type": "markdown",
   "id": "61778e73-e298-45b6-81ea-dba88c2179fd",
   "metadata": {},
   "source": [
    "51. Create a NumPy array `arr1` with random integers and another array `arr2` with integers from 1 to 10. Perform element-wise addition between `arr1` and `arr2`."
   ]
  },
  {
   "cell_type": "code",
   "execution_count": 50,
   "id": "db84a627-abd6-4752-ac06-a76630a015f4",
   "metadata": {},
   "outputs": [
    {
     "name": "stdout",
     "output_type": "stream",
     "text": [
      "[42 44  2 10 41 28 43 48  8 47]\n",
      "[[0 1 2 3 4 5 6 7 8 9]]\n"
     ]
    },
    {
     "data": {
      "text/plain": [
       "array([[42, 45,  4, 13, 45, 33, 49, 55, 16, 56]])"
      ]
     },
     "execution_count": 50,
     "metadata": {},
     "output_type": "execute_result"
    }
   ],
   "source": [
    "arr1 = np.random.randint(0,50,size=10)\n",
    "print(arr1)\n",
    "arr2 = np.arange(10).reshape(1,10)\n",
    "print(arr2)\n",
    "arr1+arr2"
   ]
  },
  {
   "cell_type": "markdown",
   "id": "0383d7c7-0050-4227-8a8e-307b4e815efd",
   "metadata": {},
   "source": [
    "52. Generate a NumPy array `arr1` with sequential integers from 10 to 1 and another array `arr2` with integers from 1 to 10. Subtract `arr2` from `arr1` element-wise."
   ]
  },
  {
   "cell_type": "code",
   "execution_count": 51,
   "id": "9df3511b-493e-4ee0-a4fd-2088f16b3a0b",
   "metadata": {},
   "outputs": [
    {
     "name": "stdout",
     "output_type": "stream",
     "text": [
      "[ 9  7  5  3  1 -1 -3 -5 -7 -9]\n"
     ]
    }
   ],
   "source": [
    "arr1 = np.array([1,2,3,4,5,6,7,8,9,10])\n",
    "arr2 = arr1[::-1]\n",
    "sub = arr2-arr1\n",
    "print(sub)"
   ]
  },
  {
   "cell_type": "markdown",
   "id": "e67770cc-95b8-4ff4-bb88-a7dd00ac6617",
   "metadata": {},
   "source": [
    "53. Create a NumPy array `arr1` with random integers and another array `arr2` with integers from 1 to 5. Perform element-wise multiplication between `arr1` and `arr2`."
   ]
  },
  {
   "cell_type": "code",
   "execution_count": 52,
   "id": "fdfb21f0-3ebc-4393-baf5-3eb915785d82",
   "metadata": {},
   "outputs": [
    {
     "name": "stdout",
     "output_type": "stream",
     "text": [
      "[ 3  3 69 88 66]\n",
      "[0 1 2 3 4]\n",
      "[  0   3 138 264 264]\n"
     ]
    }
   ],
   "source": [
    "arr1 = np.random.randint(0,100,size = 5)\n",
    "print(arr1)\n",
    "arr2 = np.arange(0,5)\n",
    "print(arr2)\n",
    "mult = arr1*arr2\n",
    "print(mult)"
   ]
  },
  {
   "cell_type": "markdown",
   "id": "5ce4343c-a234-476e-acd8-6593a9c2f884",
   "metadata": {},
   "source": [
    "54. Generate a NumPy array `arr1` with even integers from 2 to 10 and another array `arr2` with integers from 1 to 5. Perform element-wise division of `arr1` by `arr2`."
   ]
  },
  {
   "cell_type": "code",
   "execution_count": 53,
   "id": "a5f267f6-a9df-40f2-90e8-15cccafdf130",
   "metadata": {},
   "outputs": [
    {
     "name": "stdout",
     "output_type": "stream",
     "text": [
      "[ 2  4  6  8 10]\n",
      "[1 2 3 4 5]\n",
      "[2. 2. 2. 2. 2.]\n"
     ]
    }
   ],
   "source": [
    "arr1 = np.arange(2,11,2)\n",
    "print(arr1)\n",
    "arr2 = np.arange(1,6)\n",
    "print(arr2)\n",
    "div = arr1/arr2\n",
    "print(div)"
   ]
  },
  {
   "cell_type": "markdown",
   "id": "dea6a881-17b9-47a0-b646-947bbb93e8cd",
   "metadata": {},
   "source": [
    "55. Create a NumPy array `arr1` with integers from 1 to 5 and another array `arr2` with the same numbers reversed. Calculate the exponentiation of `arr1` raised to the power of `arr2` element-wise."
   ]
  },
  {
   "cell_type": "code",
   "execution_count": 54,
   "id": "2ec9599f-3959-45c7-806e-54b6e95c18fb",
   "metadata": {},
   "outputs": [
    {
     "name": "stdout",
     "output_type": "stream",
     "text": [
      "[1 2 3 4 5]\n",
      "[5 4 3 2 1]\n",
      "[ 1 16 27 16  5]\n"
     ]
    }
   ],
   "source": [
    "arr1 = np.arange(1,6)\n",
    "print(arr1)\n",
    "arr2 = arr1[::-1]\n",
    "print(arr2)\n",
    "expo = arr1**arr2\n",
    "print(expo)"
   ]
  },
  {
   "attachments": {
    "3fda0cc2-3b35-46f7-bf33-330729eeff51.png": {
     "image/png": "[encoded data removed]"
    }
   },
   "cell_type": "markdown",
   "id": "f37cc51c-c4fc-4afe-bfd4-79bd6386d430",
   "metadata": {},
   "source": [
    "56. Write a function that counts the occurrences of a specific substring within a NumPy array of strings.\n",
    "![image.png](attachment:3fda0cc2-3b35-46f7-bf33-330729eeff51.png)"
   ]
  },
  {
   "cell_type": "code",
   "execution_count": 55,
   "id": "3e49c213-813d-4ecb-929e-d3d8f50bff6c",
   "metadata": {},
   "outputs": [
    {
     "data": {
      "text/plain": [
       "array([1, 0, 1, 0, 1])"
      ]
     },
     "execution_count": 55,
     "metadata": {},
     "output_type": "execute_result"
    }
   ],
   "source": [
    "arr = np.array (['hello','world','hello','numpy','hello'])\n",
    "def count_occ(input_array,substr):\n",
    "    return np.char.count(input_array,substr)\n",
    "count_occ(arr,'el')"
   ]
  },
  {
   "attachments": {
    "4e0fd381-a408-431c-9e27-0a2eb254d99e.png": {
     "image/png": "[encoded data removed]"
    }
   },
   "cell_type": "markdown",
   "id": "083d9470-854e-450a-9221-8960f869b00c",
   "metadata": {},
   "source": [
    "57. Write a function that extracts uppercase characters from a NumPy array of strings. arr = np.array(['Hello', 'World', 'OpenAI', 'GPT'])\n",
    "![image.png](attachment:4e0fd381-a408-431c-9e27-0a2eb254d99e.png)"
   ]
  },
  {
   "cell_type": "code",
   "execution_count": 56,
   "id": "a4fa127f-f20a-48a1-b693-45e4ec1e575a",
   "metadata": {},
   "outputs": [
    {
     "data": {
      "text/plain": [
       "['H', 'W', 'OAI', 'GPT']"
      ]
     },
     "execution_count": 56,
     "metadata": {},
     "output_type": "execute_result"
    }
   ],
   "source": [
    "def count_substring(arr):\n",
    "    res = []\n",
    "    for _ in arr:\n",
    "        u_chars = ''.join([char for char in _ if char.isupper()])\n",
    "        res.append(u_chars)\n",
    "    return res\n",
    "arr = np.array(['Hello','World','OpenAI','GPT'])\n",
    "count_substring(arr)"
   ]
  },
  {
   "attachments": {
    "274e110b-012a-4a7a-ad3c-ad8d63396fe4.png": {
     "image/png": "[encoded data removed]"
    }
   },
   "cell_type": "markdown",
   "id": "f9ae0fbb-ea27-431e-a58e-ccb2dda11c6c",
   "metadata": {},
   "source": [
    "58. Write a function that replaces occurrences of a substring in a NumPy array of strings with a new string.\n",
    "![image.png](attachment:274e110b-012a-4a7a-ad3c-ad8d63396fe4.png)"
   ]
  },
  {
   "cell_type": "code",
   "execution_count": 57,
   "id": "d9e4fb2b-b7c3-4088-954d-dc3b49475759",
   "metadata": {},
   "outputs": [
    {
     "data": {
      "text/plain": [
       "['bee', 'banana', 'grape', 'pinebee']"
      ]
     },
     "execution_count": 57,
     "metadata": {},
     "output_type": "execute_result"
    }
   ],
   "source": [
    "arr = np.array(['apple','banana','grape','pineapple'])\n",
    "def rep_occ(a,s,r):\n",
    "    res = []\n",
    "    for _ in a:\n",
    "        modified_ = _.replace(s,r)\n",
    "        res.append(modified_)\n",
    "    return res\n",
    "rep_occ(arr,'apple','bee')\n",
    "    "
   ]
  },
  {
   "attachments": {
    "06907f55-d718-4a2c-a027-d8d775639305.png": {
     "image/png": "[encoded data removed]"
    }
   },
   "cell_type": "markdown",
   "id": "ffb36eb4-3a31-4269-bffc-67283c5ecaa2",
   "metadata": {},
   "source": [
    "59. Write a function that concatenates strings in a NumPy array element-wise\n",
    "![image.png](attachment:06907f55-d718-4a2c-a027-d8d775639305.png)"
   ]
  },
  {
   "cell_type": "code",
   "execution_count": 58,
   "id": "59deb9c1-6a9d-4d57-991c-c6406b455eb3",
   "metadata": {},
   "outputs": [
    {
     "data": {
      "text/plain": [
       "['apple is red',\n",
       " 'banana is yellow',\n",
       " 'grape is green',\n",
       " 'pineapple is green and brown']"
      ]
     },
     "execution_count": 58,
     "metadata": {},
     "output_type": "execute_result"
    }
   ],
   "source": [
    "arr = np.array(['apple','banana','grape','pineapple'])\n",
    "arrr = np.array([' is red',' is yellow', ' is green',' is green and brown'])\n",
    "def concatenate_elementwise(x,y):\n",
    "    res = []\n",
    "    for _ in range(0,len(x)):\n",
    "        res.append(x[_]+y[_])\n",
    "    return res\n",
    "concatenate_elementwise(arr,arrr)"
   ]
  },
  {
   "attachments": {
    "cf0a9003-1f0d-44d0-8ae7-6c4332cb30d5.png": {
     "image/png": "[encoded data removed]"
    }
   },
   "cell_type": "markdown",
   "id": "7b969cc4-8b96-4a37-9f85-fd75c7502cbb",
   "metadata": {},
   "source": [
    "60. Write a function that finds the length of the longest string in a NumPy array. \n",
    "![image.png](attachment:cf0a9003-1f0d-44d0-8ae7-6c4332cb30d5.png)"
   ]
  },
  {
   "cell_type": "code",
   "execution_count": 59,
   "id": "4cd3d3c6-cf61-44c3-9786-be9bc7323d4e",
   "metadata": {},
   "outputs": [
    {
     "name": "stdout",
     "output_type": "stream",
     "text": [
      "The longest string in the array is with length 9\n"
     ]
    }
   ],
   "source": [
    "def longest_str(a):\n",
    "    maxx = 0\n",
    "    for _ in a:\n",
    "        if len(_) > maxx:\n",
    "            maxx = len(_)\n",
    "    return maxx\n",
    "arr = np.array(['apple','banana','grape','pineapple'])\n",
    "print(f\"The longest string in the array is with length {longest_str(arr)}\")"
   ]
  },
  {
   "cell_type": "markdown",
   "id": "9f7c11b6-ba8d-45b0-ad4e-3304b4baea74",
   "metadata": {},
   "source": [
    "61. Create a dataset of 100 random integers between 1 and 1000. Compute the mean, median, variance, and standard deviation of the dataset using NumPy's functions."
   ]
  },
  {
   "cell_type": "code",
   "execution_count": 60,
   "id": "3bc9bc4b-baf5-4ca5-8ce4-3f571b489666",
   "metadata": {},
   "outputs": [
    {
     "name": "stdout",
     "output_type": "stream",
     "text": [
      "MEAN = 0    497.27\n",
      "dtype: float64\n",
      "MEDIAN = 0    482.0\n",
      "dtype: float64\n",
      "VARIANCE = 0    83870.784949\n",
      "dtype: float64\n",
      "STANDARD DEVIATION = 0    289.604532\n",
      "dtype: float64\n"
     ]
    }
   ],
   "source": [
    "arr = np.random.randint(1,1000,size = 100)\n",
    "df = pd.DataFrame(arr)\n",
    "print(f\"MEAN = {df.mean()}\")\n",
    "print(f\"MEDIAN = {df.median()}\")\n",
    "print(f\"VARIANCE = {df.var()}\")\n",
    "print(f\"STANDARD DEVIATION = {df.std()}\")"
   ]
  },
  {
   "cell_type": "markdown",
   "id": "39e1c37a-7037-4cb9-b5c0-1054d983a30b",
   "metadata": {},
   "source": [
    "62. Generate an array of 50 random numbers between 1 and 100. Find the 25th and 75th percentiles of the dataset."
   ]
  },
  {
   "cell_type": "code",
   "execution_count": 61,
   "id": "38f1252b-cfb9-4cca-a663-c5a8751351e0",
   "metadata": {},
   "outputs": [
    {
     "name": "stdout",
     "output_type": "stream",
     "text": [
      "25th percentile: 26.0\n",
      "75th percentile: 73.5\n"
     ]
    }
   ],
   "source": [
    "arr = np.random.randint(1,100,size = 50)\n",
    "DF = pd.DataFrame(arr)\n",
    "print(f\"25th percentile: {np.percentile(DF,25)}\")\n",
    "print(f\"75th percentile: {np.percentile(DF,75)}\")"
   ]
  },
  {
   "cell_type": "markdown",
   "id": "63802b43-82f8-4b2b-ba2d-09918b1f9754",
   "metadata": {},
   "source": [
    "63. Create two arrays representing two sets of variables. Compute the correlation coefficient between these arrays using NumPy's `corrcoef` function."
   ]
  },
  {
   "cell_type": "code",
   "execution_count": 62,
   "id": "d1da9ca1-1886-44d3-a8b3-b455a452fb5b",
   "metadata": {},
   "outputs": [
    {
     "name": "stdout",
     "output_type": "stream",
     "text": [
      "Correlation coefficient: [[1. 1.]\n",
      " [1. 1.]]\n"
     ]
    }
   ],
   "source": [
    "arr1 = np.array([1,2,3,4,5])\n",
    "arr2 = np.array([6,7,8,9,10])\n",
    "print(f\"Correlation coefficient: {np.corrcoef(arr1,arr2)}\")"
   ]
  },
  {
   "cell_type": "markdown",
   "id": "17ed7baa-7902-45b4-9198-2db2a36fb820",
   "metadata": {},
   "source": [
    "64. Create two matrices and perform matrix multiplication using NumPy's `dot` function."
   ]
  },
  {
   "cell_type": "code",
   "execution_count": 63,
   "id": "02ffac72-e157-48d3-ad21-b7fe1a240952",
   "metadata": {},
   "outputs": [
    {
     "name": "stdout",
     "output_type": "stream",
     "text": [
      "[[ 8  9 11]\n",
      " [ 5  3  8]\n",
      " [ 7  6 11]]\n"
     ]
    }
   ],
   "source": [
    "matrix_1=np.array([[1,3,2],\n",
    "                   [1,0,2],\n",
    "                   [2,1,2]\n",
    "                  ])\n",
    "matrix_2=np.array([[1,1,2],\n",
    "                   [1,2,1],\n",
    "                   [2,1,3]\n",
    "                  ])\n",
    "matrix_3 = np.dot(matrix_1, matrix_2)\n",
    "print(matrix_3)"
   ]
  },
  {
   "cell_type": "markdown",
   "id": "74887b58-04a2-48f4-bfa5-4d7383784741",
   "metadata": {},
   "source": [
    "65. Create an array of 50 integers between 10 and 1000. Calculate the 10th, 50th (median), and 90th percentiles along with the first and third quartiles."
   ]
  },
  {
   "cell_type": "code",
   "execution_count": 64,
   "id": "e28283fa-10a4-41af-9320-22c24aeb941e",
   "metadata": {},
   "outputs": [
    {
     "data": {
      "text/plain": [
       "array([137.5, 258. , 434. , 683.5, 868.9])"
      ]
     },
     "execution_count": 64,
     "metadata": {},
     "output_type": "execute_result"
    }
   ],
   "source": [
    "arr= np.random.randint(10,1000,size=50)\n",
    "np.quantile(arr,[0.1,0.25,0.5,0.75,0.9])"
   ]
  },
  {
   "cell_type": "markdown",
   "id": "1529971e-920e-4474-b71f-33ac0513b30c",
   "metadata": {},
   "source": [
    "66. Create a NumPy array of integers and find the index of a specific element."
   ]
  },
  {
   "cell_type": "code",
   "execution_count": 65,
   "id": "d26fa45c-ebc9-471e-bcc1-c4a1ab459156",
   "metadata": {},
   "outputs": [
    {
     "name": "stdout",
     "output_type": "stream",
     "text": [
      "[4 7 3 1 3 4 3 6 1 4]\n"
     ]
    },
    {
     "data": {
      "text/plain": [
       "(array([0, 5, 9]),)"
      ]
     },
     "execution_count": 65,
     "metadata": {},
     "output_type": "execute_result"
    }
   ],
   "source": [
    "arr = np.random.randint(1,10,size=10)\n",
    "print(arr)\n",
    "np.where(arr==4)"
   ]
  },
  {
   "cell_type": "markdown",
   "id": "87e57b54-0613-4e0f-b01c-62630fe041e7",
   "metadata": {},
   "source": [
    "67. Generate a random NumPy array and sort it in ascending order."
   ]
  },
  {
   "cell_type": "code",
   "execution_count": 66,
   "id": "5111ab88-fb66-4bff-a62f-1bb343b60cfd",
   "metadata": {},
   "outputs": [
    {
     "name": "stdout",
     "output_type": "stream",
     "text": [
      "[29 49 46 16 13 85 80  6 66 53]\n"
     ]
    },
    {
     "data": {
      "text/plain": [
       "[array([ 6, 13, 16, 29, 46, 49, 53, 66, 80, 85])]"
      ]
     },
     "execution_count": 66,
     "metadata": {},
     "output_type": "execute_result"
    }
   ],
   "source": [
    "arr = np.random.randint(1,100,size=10)\n",
    "print(arr)\n",
    "[np.sort(arr)]"
   ]
  },
  {
   "attachments": {
    "c99fbe01-37b0-4c14-bb89-f8c0d5a5f9fc.png": {
     "image/png": "[encoded data removed]"
    }
   },
   "cell_type": "markdown",
   "id": "3d35c1f2-b6f2-4a02-b12e-cf86f62a3d9a",
   "metadata": {
    "tags": []
   },
   "source": [
    "68. Filter elements >20  in the given NumPy array.\n",
    "![image.png](attachment:c99fbe01-37b0-4c14-bb89-f8c0d5a5f9fc.png)"
   ]
  },
  {
   "cell_type": "code",
   "execution_count": 67,
   "id": "95262aa1-11ba-482d-8f11-ffc7573dce1e",
   "metadata": {},
   "outputs": [
    {
     "data": {
      "text/plain": [
       "(array([0, 2, 4]),)"
      ]
     },
     "execution_count": 67,
     "metadata": {},
     "output_type": "execute_result"
    }
   ],
   "source": [
    "arr=np.array([12,25,6,42,8,30])\n",
    "np.where(arr<20)"
   ]
  },
  {
   "attachments": {
    "22322483-ea44-44b9-829f-a3a8d6bd1a88.png": {
     "image/png": "[encoded data removed]"
    }
   },
   "cell_type": "markdown",
   "id": "5e841205-5505-4b10-9549-746230ec19b5",
   "metadata": {},
   "source": [
    "69. Filter elements which are divisible by 3 from a given NumPy array.\n",
    "![image.png](attachment:22322483-ea44-44b9-829f-a3a8d6bd1a88.png)"
   ]
  },
  {
   "cell_type": "code",
   "execution_count": 68,
   "id": "4b30a986-52eb-47f4-b9b0-bd4d101eb878",
   "metadata": {},
   "outputs": [
    {
     "data": {
      "text/plain": [
       "(array([3, 4]),)"
      ]
     },
     "execution_count": 68,
     "metadata": {},
     "output_type": "execute_result"
    }
   ],
   "source": [
    "arr=np.array([1,5,8,12,15])\n",
    "np.where(arr%3==0)"
   ]
  },
  {
   "attachments": {
    "d5cf5fa1-899d-47c1-85e4-2e3adedea9e9.png": {
     "image/png": "[encoded data removed]"
    }
   },
   "cell_type": "markdown",
   "id": "ac56104a-e902-4904-979e-432c6789cf66",
   "metadata": {},
   "source": [
    "70. Filter elements which are ≥ 20 and ≤ 40 from a given NumPy array.\n",
    "![image.png](attachment:d5cf5fa1-899d-47c1-85e4-2e3adedea9e9.png)"
   ]
  },
  {
   "cell_type": "code",
   "execution_count": 69,
   "id": "a12ffa91-4b47-4843-9296-27d2b78a80dd",
   "metadata": {},
   "outputs": [
    {
     "data": {
      "text/plain": [
       "array([10, 20, 30, 40])"
      ]
     },
     "execution_count": 69,
     "metadata": {},
     "output_type": "execute_result"
    }
   ],
   "source": [
    "arr = np.array([10,20,30,40,50])\n",
    "arr[(np.where(arr>=20)) and (np.where(arr<=40))]"
   ]
  },
  {
   "attachments": {
    "24cb93ec-5b9f-4017-bfa2-db6e29d49414.png": {
     "image/png": "[encoded data removed]"
    }
   },
   "cell_type": "markdown",
   "id": "7d2d057c-8ce4-483e-a587-5df6de484a21",
   "metadata": {},
   "source": [
    "71. For the given NumPy array, check its byte order using the `dtype` attribute byteorder.\n",
    "![image.png](attachment:24cb93ec-5b9f-4017-bfa2-db6e29d49414.png)"
   ]
  },
  {
   "cell_type": "code",
   "execution_count": 70,
   "id": "4a234822-bda8-4bc0-879f-5067665b1763",
   "metadata": {},
   "outputs": [
    {
     "data": {
      "text/plain": [
       "dtype('int64')"
      ]
     },
     "execution_count": 70,
     "metadata": {},
     "output_type": "execute_result"
    }
   ],
   "source": [
    "arr= np.array([1,2,3])\n",
    "arr.dtype"
   ]
  },
  {
   "attachments": {
    "5731ccdc-1638-47bd-b0e7-df41df1ac3b7.png": {
     "image/png": "[encoded data removed]"
    }
   },
   "cell_type": "markdown",
   "id": "ae18a4bf-9cd3-4e69-b4f0-50fc1e9120ec",
   "metadata": {},
   "source": [
    "72. For the given NumPy array, perform byte swapping in place using `byteswap()`.\n",
    "![image.png](attachment:5731ccdc-1638-47bd-b0e7-df41df1ac3b7.png)"
   ]
  },
  {
   "cell_type": "code",
   "execution_count": 71,
   "id": "938dd35c-fad1-4878-8b40-4bcba951d42b",
   "metadata": {},
   "outputs": [
    {
     "data": {
      "text/plain": [
       "array([16777216, 33554432, 50331648], dtype=int32)"
      ]
     },
     "execution_count": 71,
     "metadata": {},
     "output_type": "execute_result"
    }
   ],
   "source": [
    "arr=np.array([1,2,3],dtype=np.int32)\n",
    "arr.byteswap()"
   ]
  },
  {
   "attachments": {
    "6adb3c97-4faa-4e2b-bec5-2cc3cf074f90.png": {
     "image/png": "[encoded data removed]"
    }
   },
   "cell_type": "markdown",
   "id": "da9528f9-f2ea-4f5e-a4ff-37ef6b1710db",
   "metadata": {},
   "source": [
    "73. For the given NumPy array, swap its byte order without modifying the original array using\n",
    "`newbyteorder()`.\n",
    "![image.png](attachment:6adb3c97-4faa-4e2b-bec5-2cc3cf074f90.png)"
   ]
  },
  {
   "cell_type": "code",
   "execution_count": 72,
   "id": "94782412-f155-4cd7-a0af-db6d8b5ab66f",
   "metadata": {},
   "outputs": [],
   "source": [
    "original_arr=np.array([1,2,3],dtype=np.int32)\n",
    "swapped_arr=original_arr.newbyteorder()"
   ]
  },
  {
   "attachments": {
    "c3727282-d655-4f8c-9922-ef576b5ea5d1.png": {
     "image/png": "[encoded data removed]"
    }
   },
   "cell_type": "markdown",
   "id": "c18c3d96-f6e1-485c-8c9f-493ac77fa627",
   "metadata": {},
   "source": [
    "74. For the given NumPy array and swap its byte order conditionally based on system endianness using `newbyteorder()`.\n",
    "![image.png](attachment:c3727282-d655-4f8c-9922-ef576b5ea5d1.png)"
   ]
  },
  {
   "cell_type": "code",
   "execution_count": 73,
   "id": "a68962b3-9e74-48cf-aba9-d3993d8b22f2",
   "metadata": {},
   "outputs": [
    {
     "name": "stdout",
     "output_type": "stream",
     "text": [
      "[1 2 3]\n",
      "[1 2 3]\n"
     ]
    }
   ],
   "source": [
    "arr=np.array([1,2,3],dtype=np.int32)\n",
    "\n",
    "system_endianness = sys.byteorder\n",
    "\n",
    "if system_endianness == 'little':\n",
    "    swapped_arr = arr.byteswap().newbyteorder('>')\n",
    "else:\n",
    "    swapped_arr = arr.byteswap().newbyteorder('<')\n",
    "\n",
    "print(arr)\n",
    "print(swapped_arr)"
   ]
  },
  {
   "attachments": {
    "d2c29f78-5b05-4d3c-9248-28599345c6f5.png": {
     "image/png": "[encoded data removed]"
    }
   },
   "cell_type": "markdown",
   "id": "b33b182f-d391-4d6d-8374-eefc457a616a",
   "metadata": {},
   "source": [
    "75. For the given NumPy array, check if byte swapping is necessary for the current system using `dtype` attribute `byteorder`.\n",
    "![image.png](attachment:d2c29f78-5b05-4d3c-9248-28599345c6f5.png)"
   ]
  },
  {
   "cell_type": "code",
   "execution_count": 74,
   "id": "2392928f-4fb5-4b68-824d-d02d007ae783",
   "metadata": {},
   "outputs": [
    {
     "name": "stdout",
     "output_type": "stream",
     "text": [
      "[1 2 3]\n",
      "[1 2 3]\n"
     ]
    }
   ],
   "source": [
    "arr = np.array([1,2,3],dtype=np.int32)\n",
    "byteorder = arr.dtype.byteorder\n",
    "system_byteorder = sys.byteorder\n",
    "\n",
    "if (system_byteorder == 'little' and byteorder == '>') or (system_byteorder == 'big' and byteorder == '<'):\n",
    "    swapped_arr = arr.byteswap().newbyteorder()\n",
    "else:\n",
    "    swapped_arr = arr\n",
    "\n",
    "print(arr)\n",
    "print(swapped_arr)"
   ]
  },
  {
   "cell_type": "markdown",
   "id": "30a23852-1a77-4fba-ad56-3f05505d3db5",
   "metadata": {},
   "source": [
    "76. Create a NumPy array `arr1` with values from 1 to 10. Create a copy of `arr1` named `copy_arr` and modify an element in `copy_arr`. Check if modifying `copy_arr` affects `arr1`."
   ]
  },
  {
   "cell_type": "code",
   "execution_count": 75,
   "id": "c3eebf32-a36d-4371-a5c0-9d85cd021e89",
   "metadata": {},
   "outputs": [
    {
     "name": "stdout",
     "output_type": "stream",
     "text": [
      "[ 1  2  3  4  5  6  7  8  9 11]\n",
      "[ 1  2  3  4  5  6  7  8  9 11]\n"
     ]
    }
   ],
   "source": [
    "arr1 = np.array([1,2,3,4,5,6,7,8,9,10])\n",
    "copy_arr = arr1\n",
    "copy_arr[9]+=1\n",
    "print(copy_arr)\n",
    "print(arr1)"
   ]
  },
  {
   "cell_type": "markdown",
   "id": "1f2a0e5e-7c68-47db-bb69-b14825db030d",
   "metadata": {},
   "source": [
    "77. Create a 2D NumPy array `matrix` of shape (3, 3) with random integers. Extract a slice `view_slice` from the matrix. Modify an element in `view_slice` and observe if it changes the original `matrix`."
   ]
  },
  {
   "cell_type": "code",
   "execution_count": 96,
   "id": "51e9c345-9c79-4b97-af90-dc85ab05bd38",
   "metadata": {},
   "outputs": [
    {
     "name": "stdout",
     "output_type": "stream",
     "text": [
      "[[3. 3. 3.]]\n",
      "[[0.43041362 0.41834524 0.52575937]\n",
      " [0.16402921 0.51901837 0.05998933]\n",
      " [3.         3.         3.        ]]\n"
     ]
    }
   ],
   "source": [
    "arr1 = np.random.rand(3,3)\n",
    "arr1\n",
    "view_slice=arr1[2:]\n",
    "view_slice[0]=3\n",
    "print(view_slice)\n",
    "print(arr1)"
   ]
  },
  {
   "cell_type": "markdown",
   "id": "8cbbefbe-9f30-4421-bf56-f0e938190de5",
   "metadata": {},
   "source": [
    "78. Create a NumPy array `array_a` of shape (4, 3) with sequential integers from 1 to 12. Extract a slice `view_b` from `array_a` and broadcast the addition of 5 to view_b. Check if it alters the original `array_a`."
   ]
  },
  {
   "cell_type": "code",
   "execution_count": 97,
   "id": "8a12bda4-5431-4608-964d-147f8eb3f693",
   "metadata": {},
   "outputs": [
    {
     "name": "stdout",
     "output_type": "stream",
     "text": [
      "array_a after broadcasting addition to view_b:\n",
      "[[ 1  7  3]\n",
      " [ 4 10  6]\n",
      " [ 7 13  9]\n",
      " [10 16 12]]\n"
     ]
    }
   ],
   "source": [
    "array_a = np.arange(1, 13).reshape(4, 3)\n",
    "view_b = array_a[:, 1] \n",
    "view_b += 5\n",
    "\n",
    "print(\"array_a after broadcasting addition to view_b:\")\n",
    "print(array_a)\n"
   ]
  },
  {
   "cell_type": "markdown",
   "id": "ecdf6345-3191-4fa5-9aae-81c95bd2a30a",
   "metadata": {},
   "source": [
    "79. Create a NumPy array `orig_array` of shape (2, 4) with values from 1 to 8. Create a reshaped view `reshaped_view` of shape (4, 2) from orig_array. Modify an element in `reshaped_view` and check if it reflects changes in the original `orig_array`."
   ]
  },
  {
   "cell_type": "code",
   "execution_count": 98,
   "id": "cfee4415-45b6-499a-93c7-34425da5d765",
   "metadata": {},
   "outputs": [
    {
     "name": "stdout",
     "output_type": "stream",
     "text": [
      "[[ 1  2 99  4]\n",
      " [ 5  6  7  8]]\n"
     ]
    }
   ],
   "source": [
    "orig_array = np.arange(1, 9).reshape(2, 4)\n",
    "reshaped_view = orig_array.reshape(4, 2)\n",
    "reshaped_view[1, 0] = 99\n",
    "print(orig_array)"
   ]
  },
  {
   "cell_type": "markdown",
   "id": "3beee200-31cd-4e76-80fd-818366e2fb18",
   "metadata": {},
   "source": [
    "80. Create a NumPy array `data` of shape (3, 4) with random integers. Extract a copy `data_copy` of elements greater than 5. Modify an element in `data_copy` and verify if it affects the original `data`."
   ]
  },
  {
   "cell_type": "code",
   "execution_count": 99,
   "id": "4d67f39a-c4e7-448e-b425-e8ee4f425441",
   "metadata": {},
   "outputs": [
    {
     "name": "stdout",
     "output_type": "stream",
     "text": [
      "Original data array:\n",
      "[[8 7 8 5]\n",
      " [3 7 2 2]\n",
      " [6 5 7 9]]\n",
      "\n",
      "data_copy after modification:\n",
      "[99  7  8  7  6  7  9]\n"
     ]
    }
   ],
   "source": [
    "data = np.random.randint(1, 10, size=(3, 4))\n",
    "\n",
    "data_copy = data[data > 5].copy()\n",
    "if data_copy.size > 0:  \n",
    "    data_copy[0] = 99\n",
    "print(data)\n",
    "print(data_copy)"
   ]
  },
  {
   "cell_type": "markdown",
   "id": "92cb6db1-9b13-4c92-bee5-1f4a072545b7",
   "metadata": {},
   "source": [
    "81. Create two matrices A and B of identical shape containing integers and perform addition and subtraction operations between them."
   ]
  },
  {
   "cell_type": "code",
   "execution_count": 76,
   "id": "c3254277-2a82-45e1-8d61-91b7703d834c",
   "metadata": {},
   "outputs": [
    {
     "name": "stdout",
     "output_type": "stream",
     "text": [
      "Addition:\n",
      "[[2 4 6]\n",
      " [4 2 6]\n",
      " [6 4 2]]\n",
      "Subtraction:\n",
      "[[0 0 0]\n",
      " [0 0 0]\n",
      " [0 0 0]]\n"
     ]
    }
   ],
   "source": [
    "A = np.matrix([[1,2,3],[2,1,3],[3,2,1]])\n",
    "B = np.matrix([[1,2,3],[2,1,3],[3,2,1]])\n",
    "print(\"Addition:\")\n",
    "print(A+B)\n",
    "print(\"Subtraction:\")\n",
    "print(A-B)"
   ]
  },
  {
   "cell_type": "markdown",
   "id": "8ed81bad-a723-4715-91e1-1caff4df209c",
   "metadata": {},
   "source": [
    "82. Generate two matrices `C` (3x2) and `D` (2x4) and perform matrix multiplication."
   ]
  },
  {
   "cell_type": "code",
   "execution_count": 77,
   "id": "9c6f8b0f-f398-4db4-8c8d-4a91e2ba41e6",
   "metadata": {},
   "outputs": [
    {
     "name": "stdout",
     "output_type": "stream",
     "text": [
      "[[ 5  4  9 12]\n",
      " [ 7  8 15 20]\n",
      " [ 7  5 12 16]]\n"
     ]
    }
   ],
   "source": [
    "C = np.matrix([[1,2],[3,2],[1,3]])\n",
    "D = np.matrix([[1,2,3,4],[2,1,3,4]])\n",
    "X = C*D\n",
    "print(X)"
   ]
  },
  {
   "cell_type": "markdown",
   "id": "379a56df-f0e4-4410-a627-e433eb47ee56",
   "metadata": {},
   "source": [
    "83. Create a matrix `E` and find its transpose."
   ]
  },
  {
   "cell_type": "code",
   "execution_count": 78,
   "id": "53ab5fa0-6e6f-4e0f-b8e0-0b245ca959de",
   "metadata": {},
   "outputs": [
    {
     "name": "stdout",
     "output_type": "stream",
     "text": [
      "Before:\n",
      "[[0 2 1]\n",
      " [3 0 2]\n",
      " [1 3 0]]\n",
      "After:\n",
      "[[0 3 1]\n",
      " [2 0 3]\n",
      " [1 2 0]]\n"
     ]
    }
   ],
   "source": [
    "E = np.matrix([[0,2,1],[3,0,2],[1,3,0]])\n",
    "print(\"Before:\")\n",
    "print(E)\n",
    "print(\"After:\")\n",
    "print(E.T)"
   ]
  },
  {
   "cell_type": "markdown",
   "id": "e99a5588-a35c-4a42-a09d-b655bece456d",
   "metadata": {},
   "source": [
    "84. Generate a square matrix `F` and compute its determinant."
   ]
  },
  {
   "cell_type": "code",
   "execution_count": 79,
   "id": "a8bc77ec-a4c5-48a4-8b72-753d3eddd82e",
   "metadata": {},
   "outputs": [
    {
     "name": "stdout",
     "output_type": "stream",
     "text": [
      "13.0\n"
     ]
    }
   ],
   "source": [
    "E = np.matrix([[0,2,1],[3,0,2],[1,3,0]])\n",
    "print(np.linalg.det(E))"
   ]
  },
  {
   "cell_type": "markdown",
   "id": "c6eea641-7e03-4d64-a06f-2aa3235ee6e6",
   "metadata": {},
   "source": [
    "85. Create a square matrix `G` and find its inverse."
   ]
  },
  {
   "cell_type": "code",
   "execution_count": 80,
   "id": "ded98b5c-80ca-4783-86b4-b7693fffff5d",
   "metadata": {},
   "outputs": [
    {
     "name": "stdout",
     "output_type": "stream",
     "text": [
      "[[-0.46153846  0.23076923  0.30769231]\n",
      " [ 0.15384615 -0.07692308  0.23076923]\n",
      " [ 0.69230769  0.15384615 -0.46153846]]\n"
     ]
    }
   ],
   "source": [
    "F = np.matrix([[1,2,1],[1,1,2],[2,1,1]])\n",
    "print(np.linalg.inv(E))"
   ]
  }
 ],
 "metadata": {
  "kernelspec": {
   "display_name": "Python 3 (ipykernel)",
   "language": "python",
   "name": "python3"
  },
  "language_info": {
   "codemirror_mode": {
    "name": "ipython",
    "version": 3
   },
   "file_extension": ".py",
   "mimetype": "text/x-python",
   "name": "python",
   "nbconvert_exporter": "python",
   "pygments_lexer": "ipython3",
   "version": "3.10.8"
  }
 },
 "nbformat": 4,
 "nbformat_minor": 5
}
