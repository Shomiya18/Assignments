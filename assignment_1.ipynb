{
 "cells": [
  {
   "cell_type": "markdown",
   "id": "637f31e7-9ed8-4ae6-8a50-a4f59c616630",
   "metadata": {},
   "source": [
    "# 1. Write a code to reverse a string"
   ]
  },
  {
   "cell_type": "code",
   "execution_count": 34,
   "id": "5175708c-e017-4883-a9f8-cf9c35613634",
   "metadata": {},
   "outputs": [
    {
     "name": "stdin",
     "output_type": "stream",
     "text": [
      "Enter a string:  drftgyhu\n"
     ]
    },
    {
     "name": "stdout",
     "output_type": "stream",
     "text": [
      "Reversed string is: uhygtfrd\n"
     ]
    }
   ],
   "source": [
    "def reverse(s):\n",
    "    return s[::-1]\n",
    "\n",
    "string1 = input(\"Enter a string: \")\n",
    "\n",
    "print(f\"Reversed string is: {reverse(string1)}\")"
   ]
  },
  {
   "cell_type": "markdown",
   "id": "86680707-1a09-4180-a3c0-4e6bb6882ea1",
   "metadata": {},
   "source": [
    "# 2. Write a code to count the number of vowels in a string"
   ]
  },
  {
   "cell_type": "code",
   "execution_count": 35,
   "id": "9e068cc6-0af0-4aa8-a6e8-212d4474987a",
   "metadata": {},
   "outputs": [
    {
     "name": "stdin",
     "output_type": "stream",
     "text": [
      "Enter a string:  xdfgh\n"
     ]
    },
    {
     "name": "stdout",
     "output_type": "stream",
     "text": [
      "There are 0 vowels in the string.\n"
     ]
    }
   ],
   "source": [
    "list = ['a','e','i','o','u']\n",
    "\n",
    "def no_of_vowels(s):\n",
    "    cnt = 0\n",
    "    for i in string1.lower():\n",
    "        if i in list:\n",
    "            cnt+=1\n",
    "    return cnt\n",
    "        \n",
    "string1 = input(\"Enter a string: \")\n",
    "total = no_of_vowels(string1)\n",
    "print(f\"There are {total} vowels in the string.\")"
   ]
  },
  {
   "cell_type": "markdown",
   "id": "1264b7b2-5795-4c35-9e37-cc73b377b760",
   "metadata": {},
   "source": [
    "# 3. Write a code to check if a given string in a palindrome or not"
   ]
  },
  {
   "cell_type": "code",
   "execution_count": 36,
   "id": "cc7254d3-7b78-4da0-ba60-a874ccf7515c",
   "metadata": {},
   "outputs": [
    {
     "name": "stdin",
     "output_type": "stream",
     "text": [
      "Enter a string:  naman\n"
     ]
    },
    {
     "name": "stdout",
     "output_type": "stream",
     "text": [
      "The string is a palindrome\n"
     ]
    }
   ],
   "source": [
    "def palindrome_check(s):\n",
    "    if s == reverse(s):\n",
    "        return True\n",
    "\n",
    "string1 = input(\"Enter a string: \")\n",
    "if palindrome_check(string1):\n",
    "    print(\"The string is a palindrome\")\n",
    "else:\n",
    "    print(\"The string is not a palindrome\")"
   ]
  },
  {
   "cell_type": "markdown",
   "id": "77b28b63-e75f-4c78-94a7-970a9816224f",
   "metadata": {
    "tags": []
   },
   "source": [
    "# 4. Write a code to check if two given strings are anagrams of each other"
   ]
  },
  {
   "cell_type": "code",
   "execution_count": 9,
   "id": "874b9e1e-204d-4886-85b3-a3a8aff2cbf1",
   "metadata": {},
   "outputs": [
    {
     "name": "stdin",
     "output_type": "stream",
     "text": [
      "Enter a string:  dtrf\n",
      "Enter another string:  fsgyduk\n"
     ]
    },
    {
     "name": "stdout",
     "output_type": "stream",
     "text": [
      "The two strings are not anagrams of each other\n"
     ]
    }
   ],
   "source": [
    "def string_to_list(s):\n",
    "    l=[]\n",
    "    for i in s:\n",
    "        l.append(i)\n",
    "    return l\n",
    "\n",
    "def is_anagram(s1,s2):\n",
    "    list1 = string_to_list(s1)\n",
    "    list2 = string_to_list(s2)\n",
    "    \n",
    "    for i in s1:\n",
    "        for j in s2:\n",
    "            if i == j:\n",
    "                list1.remove(i)\n",
    "                list2.remove(i)\n",
    "            else:\n",
    "                return False\n",
    "                break\n",
    "    if len(list1) == len(list2) == 0:\n",
    "        return True\n",
    "    \n",
    "    \n",
    "string1 = (input(\"Enter a string: \")).lower()\n",
    "string2 = (input(\"Enter another string: \")).lower()\n",
    "\n",
    "if is_anagram(string1,string2):\n",
    "    print(\"The two strings are anagrams of each other\")\n",
    "else:\n",
    "    print(\"The two strings are not anagrams of each other\")"
   ]
  },
  {
   "cell_type": "markdown",
   "id": "f3e74654-9bcf-45f6-a831-1b23a0d00f92",
   "metadata": {},
   "source": [
    "# 5. Write a code to find all occurrences of a given substring within another string"
   ]
  },
  {
   "cell_type": "code",
   "execution_count": 17,
   "id": "fba8f5aa-6346-453f-84fc-d92bb7541414",
   "metadata": {},
   "outputs": [
    {
     "name": "stdin",
     "output_type": "stream",
     "text": [
      "Enter a string:  iamam\n",
      "Enter a substring:  am\n"
     ]
    },
    {
     "name": "stdout",
     "output_type": "stream",
     "text": [
      "The total number of occurrences of am is 0\n"
     ]
    }
   ],
   "source": [
    "def all_occurrences(strr,substrr):\n",
    "    no_of_occurrences = 0\n",
    "    for i in strr:\n",
    "        if substrr[0] == i:\n",
    "            if substrr == strr[strr.index(i):len(substrr)]:\n",
    "                no_of_occurrences += 1\n",
    "                    \n",
    "    return no_of_occurrences\n",
    "\n",
    "string1 = (input(\"Enter a string: \")).lower()\n",
    "string2 = (input(\"Enter a substring: \")).lower()\n",
    "\n",
    "print(f\"The total number of occurrences of {string2} is {all_occurrences(string1,string2)}\")"
   ]
  },
  {
   "cell_type": "markdown",
   "id": "1e75cd33-c001-41e2-a404-1b982a9e1521",
   "metadata": {},
   "source": [
    "# 6. Write a code to perform basic string compression using the counts of repeated characters"
   ]
  },
  {
   "cell_type": "code",
   "execution_count": null,
   "id": "5e9e6dc5-1773-4c3d-90e4-182417057842",
   "metadata": {},
   "outputs": [],
   "source": [
    "def count_alphabets(y):\n",
    "    cnt1 = 0\n",
    "    for _ in str_before:\n",
    "        if i == y:\n",
    "            cnt1 += 1\n",
    "    return cnt1\n",
    "    \n",
    "    \n",
    "def string_compression(x):\n",
    "    string_after = \"\"\n",
    "    for i in range(0,len(x)):\n",
    "        string_after += x[i]\n",
    "        string_after += str(count_alphabets(x[i]))\n",
    "        if x[i] == x[i-1]:\n",
    "            continue\n",
    "    \n",
    "\n",
    "str_before = input(\"Enter a string\")\n",
    "print(f\"The compressed string is {string_compression(str_before)}\")    "
   ]
  },
  {
   "cell_type": "markdown",
   "id": "87a9532c-ab60-4151-b54a-c2411371fa5b",
   "metadata": {},
   "source": [
    "# 7. Write a code to determine if a string has all unique characters"
   ]
  },
  {
   "cell_type": "code",
   "execution_count": 25,
   "id": "20f91c56-dada-4c1d-b1b5-350653218cd3",
   "metadata": {},
   "outputs": [
    {
     "name": "stdin",
     "output_type": "stream",
     "text": [
      " dft\n"
     ]
    },
    {
     "name": "stdout",
     "output_type": "stream",
     "text": [
      "All characters in the string are unique.\n"
     ]
    }
   ],
   "source": [
    "def is_unique(s):\n",
    "    if len(s) == len(set(s)):\n",
    "        return True\n",
    "    return False\n",
    "\n",
    "    \n",
    "stringg = input().lower()\n",
    "if is_unique(stringg):\n",
    "    print(\"All characters in the string are unique.\")\n",
    "else:\n",
    "    print(\"Characters of the string are not unique.\")"
   ]
  },
  {
   "cell_type": "markdown",
   "id": "5cefaf87-6bd5-492b-aa69-f12a71752196",
   "metadata": {},
   "source": [
    "# 8. Write a code to convert a given string to uppercase or lowercase"
   ]
  },
  {
   "cell_type": "code",
   "execution_count": 27,
   "id": "0ad24af2-9a3d-443b-a615-ea24a37a798b",
   "metadata": {},
   "outputs": [
    {
     "name": "stdin",
     "output_type": "stream",
     "text": [
      "Enter a string:  WEysgy\n",
      "Select U/L:  u\n"
     ]
    },
    {
     "name": "stdout",
     "output_type": "stream",
     "text": [
      "WEYSGY\n"
     ]
    }
   ],
   "source": [
    "string1 = input(\"Enter a string: \")\n",
    "convert = input(\"Select U/L: \")\n",
    "\n",
    "if convert.lower() == \"u\":\n",
    "    print(string1.upper())\n",
    "if convert.lower() == \"l\":\n",
    "    print(string1.lower())"
   ]
  },
  {
   "cell_type": "markdown",
   "id": "182177cd-64c1-4063-a219-60bf4805067a",
   "metadata": {},
   "source": [
    "# 9. Write a code to count the number of words in a string"
   ]
  },
  {
   "cell_type": "code",
   "execution_count": 29,
   "id": "34874b22-593a-4664-948d-1c2a80368a22",
   "metadata": {},
   "outputs": [
    {
     "name": "stdin",
     "output_type": "stream",
     "text": [
      "Type a sentence I am shomiya\n"
     ]
    },
    {
     "name": "stdout",
     "output_type": "stream",
     "text": [
      "No of words in the sentence are 3\n"
     ]
    }
   ],
   "source": [
    "def word_count(s):\n",
    "    return len(s.split())\n",
    "\n",
    "st = input(\"Type a sentence\")\n",
    "print(f\"No of words in the sentence are {word_count(st)}\")"
   ]
  },
  {
   "cell_type": "markdown",
   "id": "888d3a5a-f88d-4537-8cd6-1ee4c8169666",
   "metadata": {},
   "source": [
    "# 10. Write a code to concatenate two strings without using the + operator"
   ]
  },
  {
   "cell_type": "code",
   "execution_count": 45,
   "id": "922eba3a-7355-4d18-8e95-d0d891e3b7df",
   "metadata": {},
   "outputs": [
    {
     "name": "stdin",
     "output_type": "stream",
     "text": [
      "Enter a string:  df\n",
      "Enter another string:  f\n"
     ]
    },
    {
     "name": "stdout",
     "output_type": "stream",
     "text": [
      "The concatenated string is dff\n"
     ]
    }
   ],
   "source": [
    "def concatenate_string(s1,s2):\n",
    "    l1 = s1.split()\n",
    "    l2 = s2.split()\n",
    "    for i in l2:\n",
    "        l1.append(i)\n",
    "        \n",
    "    s = \"\"\n",
    "    \n",
    "    return s.join(l1)\n",
    "    \n",
    "    \n",
    "string1 = input(\"Enter a string: \")\n",
    "string2 = input(\"Enter another string: \")\n",
    "print(f\"The concatenated string is {concatenate_string(string1,string2)}\")"
   ]
  },
  {
   "cell_type": "markdown",
   "id": "c4a01451-1c33-421e-92b2-14adfcc5914a",
   "metadata": {},
   "source": [
    "# 11. Write a code to remove all occurrences of a specific element from a list"
   ]
  },
  {
   "cell_type": "code",
   "execution_count": 49,
   "id": "624ca502-890f-44de-9a71-6a6371ceb137",
   "metadata": {},
   "outputs": [
    {
     "name": "stdin",
     "output_type": "stream",
     "text": [
      "Enter the elements of a list:  a b c a\n",
      "Enter the item to be removed:  a\n"
     ]
    },
    {
     "name": "stdout",
     "output_type": "stream",
     "text": [
      "After removing a the list is ['b', 'c']\n"
     ]
    }
   ],
   "source": [
    "def remove_specific_element(i,l):\n",
    "    for _ in l:\n",
    "        if i.lower() == _.lower():\n",
    "            l.remove(_)\n",
    "    return l\n",
    "            \n",
    "list1 = input(\"Enter the elements of a list: \").split()\n",
    "item = input(\"Enter the item to be removed: \")\n",
    "print(f\"After removing {item} the list is {remove_specific_element(item,list1)}\")"
   ]
  },
  {
   "cell_type": "markdown",
   "id": "7a606fdb-8bc8-46c4-a3a6-9df9dde1e8cf",
   "metadata": {},
   "source": [
    "# 12. Implement a code to find the second largest number in a given list of integers."
   ]
  },
  {
   "cell_type": "code",
   "execution_count": 8,
   "id": "0f577905-3a0e-4f0e-93ae-fa24061ba54f",
   "metadata": {},
   "outputs": [
    {
     "name": "stdin",
     "output_type": "stream",
     "text": [
      "Enter the number:  3 5 4 2 9\n"
     ]
    },
    {
     "name": "stdout",
     "output_type": "stream",
     "text": [
      "The second largest number of the list is 5\n"
     ]
    }
   ],
   "source": [
    "def second_largest(l):\n",
    "    l.sort(reverse = True)        #sort list\n",
    "    return l[1]                   #print the 2nd element of the list\n",
    "    \n",
    "\n",
    "list1 = input(\"Enter the numbers: \").split(\" \")\n",
    "print(f\"The second largest number of the list is {second_largest(list1)}\")"
   ]
  },
  {
   "cell_type": "markdown",
   "id": "5a925ba3-97d9-4af2-9af2-ce3cb3bf51d5",
   "metadata": {},
   "source": [
    "# 13. Create a code to count the occurrences of each element in a list and return a dictionary with element as keys and their counts as values. "
   ]
  },
  {
   "cell_type": "code",
   "execution_count": 18,
   "id": "9eb1ae05-303b-46c6-b19b-9ea0da275857",
   "metadata": {},
   "outputs": [
    {
     "name": "stdin",
     "output_type": "stream",
     "text": [
      "Enter the elements of a list:  mango apple strawberry banana apple strawberry banana\n"
     ]
    },
    {
     "name": "stdout",
     "output_type": "stream",
     "text": [
      "{'mango': 1, 'apple': 2, 'strawberry': 2, 'banana': 2}\n"
     ]
    }
   ],
   "source": [
    "def count(a):\n",
    "    cnt = 0\n",
    "    for i in list1:\n",
    "        if i == a:\n",
    "            cnt += 1\n",
    "            \n",
    "    return cnt\n",
    "    \n",
    "def occurrences(l):\n",
    "    dict1 = {}           \n",
    "    for i in l:           \n",
    "        if i not in dict1.keys():\n",
    "            dict1[i] = count(i)\n",
    "        else:\n",
    "            continue\n",
    "        \n",
    "    return dict1\n",
    "\n",
    "list1 = input(\"Enter the elements of a list: \").split(\" \")\n",
    "print(occurrences(list1))"
   ]
  },
  {
   "cell_type": "markdown",
   "id": "29a3bb05-f1b5-4db4-83d1-a9a4673d80c1",
   "metadata": {},
   "source": [
    "# 14. Write a code to reverse a list in-place without using any built-in reverse functions."
   ]
  },
  {
   "cell_type": "code",
   "execution_count": 20,
   "id": "399dccff-28ae-48e6-9161-57207dfa2f92",
   "metadata": {},
   "outputs": [
    {
     "name": "stdin",
     "output_type": "stream",
     "text": [
      "Enter the elements of a list:  mango pineapple banana strawberry kiwi\n"
     ]
    },
    {
     "name": "stdout",
     "output_type": "stream",
     "text": [
      "Reverse of list is: ['kiwi', 'strawberry', 'banana', 'pineapple', 'mango']\n"
     ]
    }
   ],
   "source": [
    "def reverse_inplace(l):\n",
    "    return l[::-1]\n",
    "\n",
    "list1 = input(\"Enter the elements of a list: \").split(\" \")\n",
    "print(f\"Reverse of list is: {reverse_inplace(list1)}\")"
   ]
  },
  {
   "cell_type": "markdown",
   "id": "6c976a47-f2c5-4a90-b824-951eda161b7a",
   "metadata": {},
   "source": [
    "# 15. Implement a code to find and remove duplicates from list while preserving the original order of elements."
   ]
  },
  {
   "cell_type": "code",
   "execution_count": 22,
   "id": "02f9faec-0005-46a0-b606-9226067f5c48",
   "metadata": {},
   "outputs": [
    {
     "name": "stdin",
     "output_type": "stream",
     "text": [
      "Enter the elements of a list:  apple mango apple apple\n"
     ]
    },
    {
     "name": "stdout",
     "output_type": "stream",
     "text": [
      "List after removing duplicates is ['apple', 'mango']\n"
     ]
    }
   ],
   "source": [
    "def remove_dupe(x):\n",
    "    new_list = []\n",
    "    for i in occurrences(x).keys():\n",
    "        new_list.append(i)\n",
    "        \n",
    "    return new_list\n",
    "\n",
    "list1 = input(\"Enter the elements of a list: \").split(\" \")\n",
    "print(f\"List after removing duplicates is {remove_dupe(list1)}\")"
   ]
  },
  {
   "cell_type": "markdown",
   "id": "ca383096-81f3-4c01-9b1f-c7e70b2448cd",
   "metadata": {},
   "source": [
    "# 16. Create a code to check if a given list is sorted (either in ascending or descending order) or not."
   ]
  },
  {
   "cell_type": "code",
   "execution_count": 22,
   "id": "d420bd43-7ee3-4ea1-ba48-b0f8e850b5df",
   "metadata": {},
   "outputs": [
    {
     "name": "stdin",
     "output_type": "stream",
     "text": [
      "Enter the elements of a list:  8 7 6 5\n"
     ]
    },
    {
     "name": "stdout",
     "output_type": "stream",
     "text": [
      "The list is sorted in descending order\n"
     ]
    }
   ],
   "source": [
    "def order_check(l1):\n",
    "    if l1==sorted(l1):\n",
    "        return \"ascending\"\n",
    "    elif l1 == sorted(l1,reverse = True):\n",
    "        return \"descending\"\n",
    "    else:\n",
    "        return False\n",
    "    \n",
    "list1 = input(\"Enter the elements of a list: \").split(\" \")\n",
    "x = order_check(list1)\n",
    "if x != False:\n",
    "    print(f\"The list is sorted in {x} order\")\n",
    "else:\n",
    "    print(\"The list isn't sorted.\")"
   ]
  },
  {
   "cell_type": "markdown",
   "id": "35dd5503-2cec-4880-8910-66267efd1e69",
   "metadata": {},
   "source": [
    "# 17. Write a code to merge two sorted lists into a single sorted list."
   ]
  },
  {
   "cell_type": "code",
   "execution_count": 26,
   "id": "7a6a7776-34cd-4d9c-869b-7b985ca624e7",
   "metadata": {},
   "outputs": [
    {
     "name": "stdin",
     "output_type": "stream",
     "text": [
      "Enter the elements of a list:  5 4 3\n",
      "Enter the elements of another list:  3 4\n"
     ]
    },
    {
     "name": "stdout",
     "output_type": "stream",
     "text": [
      "['5', '4', '3', '3', '4']\n"
     ]
    }
   ],
   "source": [
    "def merge(l1,l2):\n",
    "    l1.extend(l2)\n",
    "    return l1\n",
    "    \n",
    "    \n",
    "list1= input(\"Enter the elements of a list: \").split(\" \")\n",
    "list2= input(\"Enter the elements of another list: \").split(\" \")\n",
    "list3= merge(list1,list2)\n",
    "print(list3)"
   ]
  },
  {
   "cell_type": "markdown",
   "id": "8b1d8314-96a2-43e4-9a36-089d62fb1a9e",
   "metadata": {},
   "source": [
    "# 18. Implement a code to find the intersection of two given lists.\n"
   ]
  },
  {
   "cell_type": "code",
   "execution_count": 2,
   "id": "ef7cae2d-5184-4073-b598-449074e94041",
   "metadata": {},
   "outputs": [
    {
     "name": "stdout",
     "output_type": "stream",
     "text": [
      "[5]\n"
     ]
    }
   ],
   "source": [
    "def intersection(l1,l2):\n",
    "    l = []\n",
    "    for i in l1:\n",
    "        if i in l2:\n",
    "            l.append(i)\n",
    "    return l\n",
    "    \n",
    "list1 = [1,2,3,4,5]\n",
    "list2 = [5,6,7,8,9]\n",
    "list3 = intersection(list1,list2)\n",
    "print(list3)"
   ]
  },
  {
   "cell_type": "markdown",
   "id": "2959dc58-08b9-4acb-8845-8a09f07864ea",
   "metadata": {},
   "source": [
    "# 19. Create a code to find the union of two lists without duplicates.\n"
   ]
  },
  {
   "cell_type": "code",
   "execution_count": 3,
   "id": "bdb1992a-64b5-4889-b1d2-d1738e809018",
   "metadata": {},
   "outputs": [
    {
     "name": "stdout",
     "output_type": "stream",
     "text": [
      "[1, 2, 3, 4, 5, 6, 7]\n"
     ]
    }
   ],
   "source": [
    "def list_union(l1,l2):\n",
    "    l =[]\n",
    "    for i in set(l1) | set(l2):\n",
    "        l.append(i)\n",
    "    return l\n",
    "\n",
    "list1 = [1,2,3,4,5]\n",
    "list2 = [3,4,5,6,7]\n",
    "list3 = list_union(list1,list2)\n",
    "print(list3)"
   ]
  },
  {
   "cell_type": "markdown",
   "id": "83e324fd-14cf-4560-b852-9678e2e0da89",
   "metadata": {},
   "source": [
    "# 20. Write a code to shuffle a given list randomly without using any built-in shuffle functions."
   ]
  },
  {
   "cell_type": "code",
   "execution_count": 4,
   "id": "f7fe7fea-4f4f-48e9-9a11-ee27e19f0eb3",
   "metadata": {},
   "outputs": [
    {
     "name": "stdout",
     "output_type": "stream",
     "text": [
      "{3, 4, 5, 6}\n",
      "{3, 4, 5, 6}\n",
      "[3, 4, 5, 6]\n"
     ]
    }
   ],
   "source": [
    "def shuffle_list(l):\n",
    "    new_list = []\n",
    "    for i in set(l):\n",
    "        new_list.append(i)\n",
    "    return new_list\n",
    "\n",
    "list1 = [3,4,5,6]\n",
    "print(shuffle_list(list1))    \n",
    "\n"
   ]
  },
  {
   "cell_type": "markdown",
   "id": "9c75ee40-1470-4bf4-8ea7-4d810e45bd8b",
   "metadata": {},
   "source": [
    "#  21. Write a code that takes two tuples as input and returns a new tuple containing elements that are common to both input tuples."
   ]
  },
  {
   "cell_type": "code",
   "execution_count": 12,
   "id": "b7a77446-d9d1-4f90-b658-88c173d9d362",
   "metadata": {},
   "outputs": [
    {
     "name": "stdin",
     "output_type": "stream",
     "text": [
      "Enter the elemets of the first tuple:  3 4 5\n",
      "Enter the elemets of the second tuple:  5 6 7\n"
     ]
    },
    {
     "name": "stdout",
     "output_type": "stream",
     "text": [
      "('5',)\n"
     ]
    }
   ],
   "source": [
    "def com(t1,t2):\n",
    "    l = []\n",
    "    for i in t1:\n",
    "        if i in t2:\n",
    "            l.append(i)\n",
    "        else:\n",
    "            continue\n",
    "    return tuple(l)\n",
    "    \n",
    "list1 = input(\"Enter the elemets of the first tuple: \").split(\" \")\n",
    "tup1 = tuple(list1)\n",
    "list2 = input(\"Enter the elemets of the second tuple: \").split(\" \")\n",
    "tup2 = tuple(list2)\n",
    "final_tuple = com(tup1,tup2)\n",
    "print(final_tuple)"
   ]
  },
  {
   "cell_type": "markdown",
   "id": "66f2db75-4086-4cfe-9ff8-b18ca16ff087",
   "metadata": {},
   "source": [
    "# 22. Create a code that prompts the user to enter two sets of integers separated by commas. Then, print the intersection of these two sets."
   ]
  },
  {
   "cell_type": "code",
   "execution_count": 2,
   "id": "5ca6beaa-8a06-408c-84d3-6bc6604db4aa",
   "metadata": {},
   "outputs": [
    {
     "name": "stdin",
     "output_type": "stream",
     "text": [
      "Enter the first set of integers:  5,6,7\n",
      "Enter the second set of integers:  4,5,3\n"
     ]
    },
    {
     "name": "stdout",
     "output_type": "stream",
     "text": [
      "{'5'}\n"
     ]
    }
   ],
   "source": [
    "def find_intersection(s1,s2):\n",
    "    return s1 & s2\n",
    "\n",
    "\n",
    "list1 = input(\"Enter the first set of integers: \").split(\",\")\n",
    "list2 = input(\"Enter the second set of integers: \").split(\",\")\n",
    "set1 = set(list1)\n",
    "set2 = set(list2)\n",
    "set3 = find_intersection(set1,set2)\n",
    "print(set3)"
   ]
  },
  {
   "cell_type": "markdown",
   "id": "563629c8-5043-463c-a3b8-1f3e306804eb",
   "metadata": {
    "tags": []
   },
   "source": [
    "# 23. Write a code to concatenate two tuples. The function should take two tuples as input and return a new tuple containing elements from both input tuples."
   ]
  },
  {
   "cell_type": "code",
   "execution_count": 3,
   "id": "4d4c3d3c-4675-4570-b470-b049b5fa4f6c",
   "metadata": {},
   "outputs": [
    {
     "name": "stdin",
     "output_type": "stream",
     "text": [
      "Enter the elements of the first tuple:  5 6 7 \n",
      "Enter the elements of another tuple:  3 5 7\n"
     ]
    },
    {
     "name": "stdout",
     "output_type": "stream",
     "text": [
      "('5', '6', '7', '3', '5', '7')\n"
     ]
    }
   ],
   "source": [
    "def concat(t1,t2):\n",
    "    return t1+t2\n",
    "\n",
    "list1 = input(\"Enter the elements of the first tuple: \").split()\n",
    "list2 = input(\"Enter the elements of another tuple: \").split()\n",
    "tup1 = tuple(list1)\n",
    "tup2 = tuple(list2)\n",
    "tup3 = concat(tup1,tup2)\n",
    "print(tup3)"
   ]
  },
  {
   "cell_type": "markdown",
   "id": "ba8df02c-38be-4c4e-bc50-376e62f5060d",
   "metadata": {},
   "source": [
    "# 24. Develop a code that prompts the user to input two sets of strings. Then print the elements that are present in the first set but not in the second set."
   ]
  },
  {
   "cell_type": "code",
   "execution_count": 5,
   "id": "535d8e95-9aa2-46d8-8fd0-13fb0cd46d72",
   "metadata": {},
   "outputs": [
    {
     "name": "stdin",
     "output_type": "stream",
     "text": [
      "Enter the first set of string  dfghj\n",
      "Enter the second set of string  drtfyui\n"
     ]
    },
    {
     "name": "stdout",
     "output_type": "stream",
     "text": [
      "{'g', 'h', 'j'}\n"
     ]
    }
   ],
   "source": [
    "def sub(s1,s2):\n",
    "    l = []\n",
    "    for i in s1:\n",
    "        if i not in s2:\n",
    "            l.append(i)\n",
    "    return set(l)\n",
    "\n",
    "str1 = input(\"Enter the first set of string \")\n",
    "set1 = set(str1)\n",
    "str2 = input(\"Enter the second set of string \")\n",
    "set2 = set(str2)\n",
    "set3 = sub(set1,set2)\n",
    "print(set3)"
   ]
  },
  {
   "cell_type": "markdown",
   "id": "f18a08d3-968c-40da-9bc6-37972dc14866",
   "metadata": {},
   "source": [
    "# 25. Create a code that takes a tuple and two integers as input. The function should return a new tuple containing elements from the original tuple within the specified range of indices."
   ]
  },
  {
   "cell_type": "code",
   "execution_count": 10,
   "id": "7438adea-8785-4dd3-b5a8-2df1ba9cc425",
   "metadata": {},
   "outputs": [
    {
     "name": "stdout",
     "output_type": "stream",
     "text": [
      "(3, 2)\n"
     ]
    }
   ],
   "source": [
    "def fun(t1,x,y):\n",
    "    l = tuple(t1)\n",
    "    nl = []\n",
    "    for i in l:\n",
    "        if i > x and i < y:\n",
    "            nl.append(i)\n",
    "    return tuple(nl)\n",
    "\n",
    "print(fun((4,3,5,6,2),1,4))"
   ]
  },
  {
   "cell_type": "markdown",
   "id": "7ae0d32c-b7fa-405e-9ab6-7e941c97eede",
   "metadata": {},
   "source": [
    "# 26. Write a code that prompts the user to input two sets of characters. Then print the union of these two sets."
   ]
  },
  {
   "cell_type": "code",
   "execution_count": 13,
   "id": "a0ba3c97-8f17-42f4-9272-1c181bc3203c",
   "metadata": {},
   "outputs": [
    {
     "name": "stdin",
     "output_type": "stream",
     "text": [
      "First set:  t r e\n",
      "Second set:  f g h\n"
     ]
    },
    {
     "name": "stdout",
     "output_type": "stream",
     "text": [
      "{'g', 'r', 't', 'e', 'f', 'h'}\n"
     ]
    }
   ],
   "source": [
    "def set_union(s1,s2):\n",
    "    return s1 | s2\n",
    "\n",
    "set1 = set(input(\"First set: \").split(\" \"))\n",
    "set2 = set(input(\"Second set: \").split(\" \"))\n",
    "print(set_union(set1,set2))"
   ]
  },
  {
   "cell_type": "markdown",
   "id": "b046ec38-b1d6-4f55-b28a-0fa7f1c7ef2f",
   "metadata": {},
   "source": [
    "# 27. Develop a code that takes a tuple of integers as input. The function should return the minimum and maximum values from the tuple using tuple unpacking."
   ]
  },
  {
   "cell_type": "code",
   "execution_count": 15,
   "id": "71aac7f3-5e39-4116-a2ca-e039654d9d79",
   "metadata": {},
   "outputs": [
    {
     "name": "stdin",
     "output_type": "stream",
     "text": [
      "Enter the elements:  3 4 5 6\n"
     ]
    },
    {
     "name": "stdout",
     "output_type": "stream",
     "text": [
      "3 6\n"
     ]
    }
   ],
   "source": [
    "def min_max(t1):\n",
    "    a = min(t1)\n",
    "    b = max(t1)\n",
    "    return a,b\n",
    "\n",
    "tup1 = tuple(input(\"Enter the elements: \").split(\" \"))\n",
    "min_tup1,max_tup1 = min_max(tup1)\n",
    "print(min_tup1,max_tup1)"
   ]
  },
  {
   "cell_type": "markdown",
   "id": "9f132854-bdb1-48be-95a3-5eeed557c10b",
   "metadata": {},
   "source": [
    "# 28. Create a code that difines two sets of integers. Then print the union intersection and difference of these two sets."
   ]
  },
  {
   "cell_type": "code",
   "execution_count": 18,
   "id": "166b6e3e-6141-481b-93d1-1df88af45ef2",
   "metadata": {},
   "outputs": [
    {
     "name": "stdin",
     "output_type": "stream",
     "text": [
      "First set:  4 5 6 \n",
      "Second set:  6 5\n"
     ]
    },
    {
     "name": "stdout",
     "output_type": "stream",
     "text": [
      "Union: {'', '4', '6', '5'}\n",
      "Intersection: {'5', '6'}\n",
      "Difference: {'', '4'}\n"
     ]
    }
   ],
   "source": [
    "def u_i_d(s1,s2):\n",
    "    return s1|s2,s1&s2,s1-s2\n",
    "    \n",
    "set1 = set(input(\"First set: \").split(\" \"))\n",
    "set2 = set(input(\"Second set: \").split(\" \"))\n",
    "\n",
    "union,inter,diff = u_i_d(set1,set2)\n",
    "print(f\"Union: {union}\\nIntersection: {inter}\\nDifference: {diff}\")"
   ]
  },
  {
   "cell_type": "markdown",
   "id": "e02a625e-542a-4b2c-aba8-c45c56b27778",
   "metadata": {},
   "source": [
    "# 29. Write a code that takes a tuple and an element as input. The function should return the count of occurrences of the given element in the tuple."
   ]
  },
  {
   "cell_type": "code",
   "execution_count": 20,
   "id": "bbe07dbf-535c-4f9b-9393-dd0a859463fd",
   "metadata": {},
   "outputs": [
    {
     "name": "stdin",
     "output_type": "stream",
     "text": [
      "Enter the elements of the tuple:  r t y u i u t h u f u\n",
      "Enter the element you want to count u\n"
     ]
    },
    {
     "name": "stdout",
     "output_type": "stream",
     "text": [
      "4\n"
     ]
    }
   ],
   "source": [
    "def occur(t1,a):\n",
    "    if t1 == None:\n",
    "        return None\n",
    "    cnt = 0\n",
    "    for i in t1:\n",
    "        if i == a:\n",
    "            cnt+=1\n",
    "        else:\n",
    "            continue\n",
    "    return cnt\n",
    "\n",
    "\n",
    "tup1 = tuple(input(\"Enter the elements of the tuple: \").split(\" \"))\n",
    "x = input(\"Enter the element you want to count\")\n",
    "print(occur(tup1,x))"
   ]
  },
  {
   "cell_type": "markdown",
   "id": "8bbe5140-d7aa-45e4-b10e-5830e3d3894f",
   "metadata": {},
   "source": [
    "#  30. Develop a code that prompts the user to input two sets of strings. Then print the symmetric difference of these two sets."
   ]
  },
  {
   "cell_type": "code",
   "execution_count": 21,
   "id": "fcd3392e-b5a1-4ff4-a5ad-62492fd288d4",
   "metadata": {},
   "outputs": [
    {
     "name": "stdin",
     "output_type": "stream",
     "text": [
      "Enter the first set of string  iyfg\n",
      "Enter the second set of string  rgfd\n"
     ]
    },
    {
     "name": "stdout",
     "output_type": "stream",
     "text": [
      "{'d', 'y', 'r', 'i'}\n"
     ]
    }
   ],
   "source": [
    "def symmetric_diff(s1,s2):\n",
    "    return (s1|s2)-(s1&s2)\n",
    "\n",
    "set1 = set(input(\"Enter the first set of string \"))\n",
    "set2 = set(input(\"Enter the second set of string \"))\n",
    "print(symmetric_diff(set1,set2))"
   ]
  },
  {
   "cell_type": "markdown",
   "id": "3e3c1f51-57bb-430e-a510-dc600244a8ab",
   "metadata": {},
   "source": [
    "# 31. Write a code that takes a list of words as input and returns a dictionary where the keys are unique words and the values are the frequencies of those words in the input list."
   ]
  },
  {
   "cell_type": "code",
   "execution_count": 3,
   "id": "763c37c2-6d9b-4871-85fa-479c96f8eb87",
   "metadata": {},
   "outputs": [
    {
     "name": "stdin",
     "output_type": "stream",
     "text": [
      "Enter the list of words:  agam agam aman\n"
     ]
    },
    {
     "name": "stdout",
     "output_type": "stream",
     "text": [
      "{'aman': 1}\n"
     ]
    }
   ],
   "source": [
    "def count(a):\n",
    "    cnt = 0\n",
    "    for i in word_list:\n",
    "        if i == a:\n",
    "            cnt += 1\n",
    "            \n",
    "    return cnt\n",
    "\n",
    "def list_to_dictionary(wl):\n",
    "    wd = {}\n",
    "    for i in wl:\n",
    "        if count(i) == 1:\n",
    "            wd[i] = 1\n",
    "    return wd\n",
    "\n",
    "word_list = input(\"Enter the list of words: \").split(\" \")\n",
    "word_dict = list_to_dictionary(word_list)\n",
    "print(word_dict)"
   ]
  },
  {
   "cell_type": "markdown",
   "id": "c770a202-beea-4b0b-a004-27aa8f67fc19",
   "metadata": {},
   "source": [
    "#  32. Write a code that takes two dictionaries as input and merges them into a single dictionary. If there are common keys the values should be added together."
   ]
  },
  {
   "cell_type": "code",
   "execution_count": 9,
   "id": "5ec9da90-2f57-474a-a721-4c29f2c759b5",
   "metadata": {},
   "outputs": [
    {
     "name": "stdin",
     "output_type": "stream",
     "text": [
      "Enter the elements of the first dictionary(Ex: Apple: 3, Banana: 4....) aman:8,shomiya: 7\n",
      "Enter the elements of the second dictionary(Ex: Apple: 3, Banana: 4....) aman: 4\n"
     ]
    },
    {
     "name": "stdout",
     "output_type": "stream",
     "text": [
      "{'aman': 12, 'shomiya': 7}\n"
     ]
    }
   ],
   "source": [
    "list1 = input(\"Enter the elements of the first dictionary(Ex: Apple: 3, Banana: 4....)\").split(\",\")\n",
    "dict1 = {}\n",
    "for i in range(0,len(list1)):\n",
    "    dict1[(list1[i].split(\":\"))[0]] = int((list1[i].split(\":\"))[1])\n",
    "\n",
    "list2 = input(\"Enter the elements of the second dictionary(Ex: Apple: 3, Banana: 4....)\").split(\",\")\n",
    "dict2 = {}\n",
    "for i in range(0,len(list2)):\n",
    "    dict2[(list2[i].split(\":\"))[0]] = int((list2[i].split(\":\"))[1])\n",
    "\n",
    "def concat_dict(d1,d2):\n",
    "    new_dict = {}\n",
    "    updict = {}\n",
    "    for i in d1.keys():\n",
    "        if i in d2.keys():\n",
    "            updict[i] = d1[i]+d2[i]\n",
    "    \n",
    "    for i in d2:\n",
    "        d1[i] = d2[i]\n",
    "    d1.update(updict)\n",
    "    \n",
    "    return d1\n",
    "        \n",
    "        \n",
    "x = concat_dict(dict1,dict2)\n",
    "print(x)"
   ]
  },
  {
   "cell_type": "markdown",
   "id": "4d7eca89-4950-4574-869c-8c972e5a3e66",
   "metadata": {
    "tags": []
   },
   "source": [
    "# 33. Write a code to access a value in a nested dictionary. The function should take the dictionary and a list of keys as input and return the corresponding value. If any of the keys do not exist in the dictionary the function should return None."
   ]
  },
  {
   "cell_type": "code",
   "execution_count": 25,
   "id": "4c5f2601-ad91-43fb-91e8-2798ecd7ac3b",
   "metadata": {},
   "outputs": [
    {
     "name": "stdin",
     "output_type": "stream",
     "text": [
      "Enter the items you want to search cake,juice\n"
     ]
    },
    {
     "name": "stdout",
     "output_type": "stream",
     "text": [
      "[6.0, 2.5]\n"
     ]
    }
   ],
   "source": [
    "def find_value(d1, l1):\n",
    "    new_list = []\n",
    "    for i in l1:\n",
    "        if i in d1.keys():\n",
    "            new_list.append(d1[i])\n",
    "            \n",
    "        for j in d1.keys():\n",
    "            if type(d1[j]) == dict and i in d1[j].keys():\n",
    "                new_list.append(d1[j][i])\n",
    "            \n",
    "    return new_list\n",
    "        \n",
    "menu = { \"drinks\": {\n",
    "                    \"water\": 1.5,\n",
    "                    \"soda\": 2.0,\n",
    "                    \"juice\": 2.5 },\n",
    "         \"starters\": {\n",
    "                    \"soup\": 4.0,\n",
    "                    \"salad\": 5.0,\n",
    "                    \"garlic-bread\": 3.5 },\n",
    "        \"main_course\": {\n",
    "                    \"burger\": 8.0,\n",
    "                    \"pasta\": 10.0,\n",
    "                    \"pizza\": 12.0 },\n",
    "        \"desserts\": {\n",
    "                    \"ice-cream\": 4.5,\n",
    "                    \"cake\": 6.0,\n",
    "                    \"fruit-salad\": 3.0 }\n",
    "       }\n",
    "\n",
    "list1 = input(\"Enter the items you want to search\").split(\",\")\n",
    "x = find_value(menu,list1)\n",
    "print(x)"
   ]
  },
  {
   "cell_type": "markdown",
   "id": "50ab399c-3e89-4507-8b4a-124e61ba14b3",
   "metadata": {},
   "source": [
    "# 34. Write a code that takes a dictionary as input and returns a sorted version of it based on the values. You can choose whether to sort in ascending or descending order."
   ]
  },
  {
   "cell_type": "code",
   "execution_count": 1,
   "id": "00395426-a11c-4b34-a5b0-899ede51904f",
   "metadata": {},
   "outputs": [
    {
     "name": "stdin",
     "output_type": "stream",
     "text": [
      "Enter the elements of the first dictionary(Ex: Apple: 3, Banana: 4....) apple: 6, nana: 1,jghuk: 9\n"
     ]
    },
    {
     "name": "stdout",
     "output_type": "stream",
     "text": [
      "[6]\n",
      "[1]\n",
      "[9]\n",
      "{'apple': [6], ' nana': [1], 'jghuk': [9]}\n"
     ]
    }
   ],
   "source": [
    "def sort_dict(d1):\n",
    "    \n",
    "    new_d = {}\n",
    "    for key in d1.keys():\n",
    "        value_list = [value for value in d1.values() if value == d1[key]]\n",
    "        new_d[key] = value_list\n",
    "    return new_d\n",
    "\n",
    "list1 = input(\"Enter the elements of the first dictionary(Ex: Apple: 3, Banana: 4....)\").split(\",\")\n",
    "dict1 = {}\n",
    "for i in range(0,len(list1)):\n",
    "    dict1[(list1[i].split(\":\"))[0]] = int((list1[i].split(\":\"))[1])\n",
    "\n",
    "x = sort_dict(dict1)\n",
    "print(x)"
   ]
  },
  {
   "cell_type": "markdown",
   "id": "df69e7c3-d7c0-491a-acf4-98b075115d78",
   "metadata": {},
   "source": [
    "# 35. Write a code that inverts a dictionary swapping keys and values. Ensure that the inverted dictionary correctly handles cases where multiple keys have the same value be storing the keys as a list in the inverted dictionary."
   ]
  },
  {
   "cell_type": "code",
   "execution_count": 33,
   "id": "e2e77e71-f767-4c25-aabb-6ad1770dee08",
   "metadata": {},
   "outputs": [
    {
     "name": "stdout",
     "output_type": "stream",
     "text": [
      "{3: 'apple', 2: 'banana', 1: 'strawberry'}\n"
     ]
    }
   ],
   "source": [
    "def inverts_dictionary(d):\n",
    "    if d == {}:\n",
    "        return None\n",
    "    i_d = {}\n",
    "    keys_list = []\n",
    "    value_list = []\n",
    "    for _ in d.keys():\n",
    "        keys_list.append(_)\n",
    "        value_list.append(d[_])\n",
    "    for x in range(0,len(value_list)):\n",
    "        i_d[value_list[x]] = keys_list[x]\n",
    "    return i_d\n",
    "\n",
    "d1 = {'apple':3,'banana':2,'strawberry':1}\n",
    "print(inverts_dictionary(d1))"
   ]
  }
 ],
 "metadata": {
  "kernelspec": {
   "display_name": "Python 3 (ipykernel)",
   "language": "python",
   "name": "python3"
  },
  "language_info": {
   "codemirror_mode": {
    "name": "ipython",
    "version": 3
   },
   "file_extension": ".py",
   "mimetype": "text/x-python",
   "name": "python",
   "nbconvert_exporter": "python",
   "pygments_lexer": "ipython3",
   "version": "3.10.8"
  }
 },
 "nbformat": 4,
 "nbformat_minor": 5
}
